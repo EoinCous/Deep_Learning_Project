{
 "cells": [
  {
   "cell_type": "markdown",
   "id": "386b1238",
   "metadata": {},
   "source": [
    "# Regression Transformer Model\n",
    "Predicts the number of comments an article will get based on the article's topic, tone, length, hour of the day and day of the week"
   ]
  },
  {
   "cell_type": "code",
   "execution_count": 102,
   "id": "184f4835",
   "metadata": {},
   "outputs": [],
   "source": [
    "import tensorflow as tf\n",
    "from keras.layers import MultiHeadAttention, LayerNormalization, Dropout, Layer\n",
    "from keras.layers import Embedding, Input, GlobalAveragePooling1D, Dense, Flatten\n",
    "from keras.datasets import imdb\n",
    "from keras.models import Sequential, Model, load_model\n",
    "from keras.callbacks import EarlyStopping\n",
    "from sklearn.model_selection import train_test_split\n",
    "from tensorflow.keras.optimizers import Adam\n",
    "import pandas as pd\n",
    "import numpy as np\n",
    "import warnings\n",
    "import matplotlib.pyplot as plt"
   ]
  },
  {
   "cell_type": "code",
   "execution_count": 103,
   "id": "183e7de2",
   "metadata": {},
   "outputs": [],
   "source": [
    "# Implementation of Transformer encoder from scratch in TensorFlow and Keras\n",
    "# By Jason Brownlee on February 24, 2021\n",
    "# Available at https://machinelearningmastery.com/implementing-the-transformer-encoder-from-scratch-in-tensorflow-and-keras/\n",
    "def encoder_block(embed_dim, num_heads, ff_dim, dropout_rate):\n",
    "    # initalise all of the layers\n",
    "    multihead_attention = MultiHeadAttention(num_heads=num_heads, key_dim=embed_dim)\n",
    "    feed_forward = Sequential(\n",
    "        [Dense(ff_dim, activation=\"relu\"),\n",
    "         Dense(embed_dim), ]\n",
    "    )\n",
    "    add_norm = LayerNormalization(epsilon=1e-6)\n",
    "    dropout = Dropout(dropout_rate)\n",
    "    \n",
    "    # apply the encoder block to input data\n",
    "    def call(inputs, training):\n",
    "        attn_output = multihead_attention(inputs, inputs)\n",
    "        attn_output = dropout(attn_output, training=training)\n",
    "        out1 = add_norm(inputs + attn_output)\n",
    "        feedforward_output = feed_forward(out1)\n",
    "        feedforward_output = dropout(feedforward_output, training=training)\n",
    "        return add_norm(out1 + feedforward_output)\n",
    "    \n",
    "    return call"
   ]
  },
  {
   "cell_type": "code",
   "execution_count": 104,
   "id": "70f9da11",
   "metadata": {},
   "outputs": [],
   "source": [
    "# Implementation of Transformer decoder from scratch in TensorFlow and Keras\n",
    "# By Jason Brownlee on February 24, 2021\n",
    "# Available at https://machinelearningmastery.com/implementing-the-transformer-decoder-from-scratch-in-tensorflow-and-keras/\n",
    "def decoder_block(num_heads, embed_dim, ff_dim, dropout_rate):\n",
    "    # initialise the layers\n",
    "    multihead_attention1 = MultiHeadAttention(num_heads, embed_dim, embed_dim)\n",
    "    dropout1 = Dropout(dropout_rate)\n",
    "    add_norm1 = LayerNormalization(epsilon=1e-6)\n",
    "    \n",
    "    multihead_attention2 = MultiHeadAttention(num_heads, embed_dim, embed_dim)\n",
    "    dropout2 = Dropout(dropout_rate)\n",
    "    add_norm2 = LayerNormalization(epsilon=1e-6)\n",
    "    \n",
    "    feed_forward = Sequential(\n",
    "        [Dense(ff_dim, activation=\"relu\"),\n",
    "         Dense(embed_dim), ]\n",
    "    )\n",
    "    dropout3 = Dropout(dropout_rate)\n",
    "    add_norm3 = LayerNormalization(epsilon=1e-6)\n",
    "    \n",
    "    # apply the decoder block to encoder output\n",
    "    def call(inputs, encoder_output, training):\n",
    "        multihead_output1 = multihead_attention1(inputs, inputs, inputs)\n",
    "        multihead_output1 = dropout1(multihead_output1)\n",
    "        addnorm_output1 = add_norm1(inputs + multihead_output1)\n",
    "        multihead_output2 = multihead_attention2(addnorm_output1, encoder_output, encoder_output)\n",
    "        multihead_output2 = dropout2(multihead_output2)\n",
    "        addnorm_output2 = add_norm2(addnorm_output1 + multihead_output2)\n",
    "        feedforward_output = feed_forward(addnorm_output2)\n",
    "        feedforward_output = dropout3(feedforward_output)\n",
    "\n",
    "        return add_norm3(addnorm_output2 + feedforward_output)\n",
    "\n",
    "    return call"
   ]
  },
  {
   "cell_type": "code",
   "execution_count": 107,
   "id": "fa92a32a",
   "metadata": {},
   "outputs": [],
   "source": [
    "#Load training data\n",
    "train_df = pd.read_csv('../../data/regression_train.csv')\n",
    "\n",
    "# Extract the columns you want to use as input features\n",
    "columns = ['BERT_sentiment_score', 'normalised_word_count', 'pub_day', 'pub_hour', 'topic']\n",
    "# Extract input features from the dataframe\n",
    "x_train = np.array(train_df[columns])\n",
    "\n",
    "y_train = np.array(train_df['n_comments'])"
   ]
  },
  {
   "cell_type": "code",
   "execution_count": 108,
   "id": "28b84ecd",
   "metadata": {},
   "outputs": [],
   "source": [
    "# Training and validation split\n",
    "x_train, x_val, y_train, y_val = train_test_split(x_train, y_train, test_size=0.2, random_state=42)"
   ]
  },
  {
   "cell_type": "code",
   "execution_count": 109,
   "id": "30867f4c",
   "metadata": {},
   "outputs": [],
   "source": [
    "# Define the EarlyStopping callback\n",
    "early_stopping = EarlyStopping(monitor='val_mae', \n",
    "                               # Number of epochs to wait for improvement\n",
    "                               patience=10,  \n",
    "                               verbose=1, \n",
    "                               # Restore the weights of the best epoch\n",
    "                               restore_best_weights=True)"
   ]
  },
  {
   "cell_type": "code",
   "execution_count": 110,
   "id": "6bcba855",
   "metadata": {},
   "outputs": [],
   "source": [
    "# Hypreparameters\n",
    "max_seq_length = x_train.shape[1]\n",
    "vocab_size = int(np.max(x_train) + 1)\n",
    "embedding_dim = 32\n",
    "num_heads = 2\n",
    "ff_dim = 32\n",
    "dropout_rate = 0.1"
   ]
  },
  {
   "cell_type": "code",
   "execution_count": 111,
   "id": "5e8b2517",
   "metadata": {
    "scrolled": true
   },
   "outputs": [
    {
     "name": "stdout",
     "output_type": "stream",
     "text": [
      "Model: \"model_4\"\n",
      "__________________________________________________________________________________________________\n",
      " Layer (type)                   Output Shape         Param #     Connected to                     \n",
      "==================================================================================================\n",
      " input_9 (InputLayer)           [(None, 5)]          0           []                               \n",
      "                                                                                                  \n",
      " embedding_8 (Embedding)        (None, 5, 32)        2688        ['input_9[0][0]']                \n",
      "                                                                                                  \n",
      " multi_head_attention_22 (Multi  (None, 5, 32)       8416        ['embedding_8[0][0]',            \n",
      " HeadAttention)                                                   'embedding_8[0][0]']            \n",
      "                                                                                                  \n",
      " dropout_42 (Dropout)           (None, 5, 32)        0           ['multi_head_attention_22[0][0]',\n",
      "                                                                  'sequential_15[0][0]']          \n",
      "                                                                                                  \n",
      " tf.__operators__.add_28 (TFOpL  (None, 5, 32)       0           ['embedding_8[0][0]',            \n",
      " ambda)                                                           'dropout_42[0][0]']             \n",
      "                                                                                                  \n",
      " layer_normalization_29 (LayerN  (None, 5, 32)       64          ['tf.__operators__.add_28[0][0]',\n",
      " ormalization)                                                    'tf.__operators__.add_29[0][0]']\n",
      "                                                                                                  \n",
      " sequential_15 (Sequential)     (None, 5, 32)        2112        ['layer_normalization_29[0][0]'] \n",
      "                                                                                                  \n",
      " tf.__operators__.add_29 (TFOpL  (None, 5, 32)       0           ['layer_normalization_29[0][0]', \n",
      " ambda)                                                           'dropout_42[1][0]']             \n",
      "                                                                                                  \n",
      " multi_head_attention_23 (Multi  (None, 5, 32)       8416        ['layer_normalization_29[1][0]', \n",
      " HeadAttention)                                                   'layer_normalization_29[1][0]', \n",
      "                                                                  'layer_normalization_29[1][0]'] \n",
      "                                                                                                  \n",
      " dropout_43 (Dropout)           (None, 5, 32)        0           ['multi_head_attention_23[0][0]']\n",
      "                                                                                                  \n",
      " tf.__operators__.add_30 (TFOpL  (None, 5, 32)       0           ['layer_normalization_29[1][0]', \n",
      " ambda)                                                           'dropout_43[0][0]']             \n",
      "                                                                                                  \n",
      " layer_normalization_30 (LayerN  (None, 5, 32)       64          ['tf.__operators__.add_30[0][0]']\n",
      " ormalization)                                                                                    \n",
      "                                                                                                  \n",
      " multi_head_attention_24 (Multi  (None, 5, 32)       8416        ['layer_normalization_30[0][0]', \n",
      " HeadAttention)                                                   'layer_normalization_29[1][0]', \n",
      "                                                                  'layer_normalization_29[1][0]'] \n",
      "                                                                                                  \n",
      " dropout_44 (Dropout)           (None, 5, 32)        0           ['multi_head_attention_24[0][0]']\n",
      "                                                                                                  \n",
      " tf.__operators__.add_31 (TFOpL  (None, 5, 32)       0           ['layer_normalization_30[0][0]', \n",
      " ambda)                                                           'dropout_44[0][0]']             \n",
      "                                                                                                  \n",
      " layer_normalization_31 (LayerN  (None, 5, 32)       64          ['tf.__operators__.add_31[0][0]']\n",
      " ormalization)                                                                                    \n",
      "                                                                                                  \n",
      " sequential_16 (Sequential)     (None, 5, 32)        2112        ['layer_normalization_31[0][0]'] \n",
      "                                                                                                  \n",
      " dropout_45 (Dropout)           (None, 5, 32)        0           ['sequential_16[0][0]']          \n",
      "                                                                                                  \n",
      " tf.__operators__.add_32 (TFOpL  (None, 5, 32)       0           ['layer_normalization_31[0][0]', \n",
      " ambda)                                                           'dropout_45[0][0]']             \n",
      "                                                                                                  \n",
      " layer_normalization_32 (LayerN  (None, 5, 32)       64          ['tf.__operators__.add_32[0][0]']\n",
      " ormalization)                                                                                    \n",
      "                                                                                                  \n",
      " global_average_pooling1d_4 (Gl  (None, 32)          0           ['layer_normalization_32[0][0]'] \n",
      " obalAveragePooling1D)                                                                            \n",
      "                                                                                                  \n",
      " dropout_46 (Dropout)           (None, 32)           0           ['global_average_pooling1d_4[0][0\n",
      "                                                                 ]']                              \n",
      "                                                                                                  \n",
      " dense_38 (Dense)               (None, 1)            33          ['dropout_46[0][0]']             \n",
      "                                                                                                  \n",
      "==================================================================================================\n",
      "Total params: 32,449\n",
      "Trainable params: 32,449\n",
      "Non-trainable params: 0\n",
      "__________________________________________________________________________________________________\n"
     ]
    }
   ],
   "source": [
    "# Define model architecture\n",
    "\n",
    "# Input \n",
    "inputs = Input(shape=(max_seq_length,))\n",
    "embedding_layer = Embedding(input_dim=vocab_size, output_dim=embedding_dim)(inputs)\n",
    "\n",
    "# Encoder\n",
    "encoder_block_fn = encoder_block(embed_dim=embedding_dim, \n",
    "                                 num_heads=num_heads, \n",
    "                                 ff_dim=ff_dim,\n",
    "                                 dropout_rate=dropout_rate)\n",
    "encoder_output = encoder_block_fn(embedding_layer, training=True)\n",
    "\n",
    "# Decoder\n",
    "decoder_block_fn = decoder_block(num_heads=num_heads,\n",
    "                                 embed_dim=embedding_dim,\n",
    "                                 ff_dim=ff_dim,\n",
    "                                 dropout_rate=dropout_rate)\n",
    "decoder_output = decoder_block_fn(inputs=encoder_output, \n",
    "                                  encoder_output=encoder_output,\n",
    "                                  training=True)\n",
    "\n",
    "# Pooling and Dropout\n",
    "pooling_layer = GlobalAveragePooling1D()(decoder_output)\n",
    "dropout_layer = Dropout(dropout_rate)(pooling_layer)\n",
    "\n",
    "# Output\n",
    "outputs = Dense(units=1, activation='linear')(dropout_layer)  # Change activation to 'linear' for regression\n",
    "\n",
    "model = Model(inputs=inputs, outputs=outputs)\n",
    "\n",
    "model.summary()"
   ]
  },
  {
   "cell_type": "code",
   "execution_count": 112,
   "id": "7d7031fc",
   "metadata": {},
   "outputs": [
    {
     "name": "stdout",
     "output_type": "stream",
     "text": [
      "Epoch 1/100\n",
      "125/125 [==============================] - 5s 16ms/step - loss: 373670.3438 - mae: 302.6809 - val_loss: 320835.6875 - val_mae: 274.2800\n",
      "Epoch 2/100\n",
      "125/125 [==============================] - 1s 11ms/step - loss: 368354.9375 - mae: 297.2778 - val_loss: 315178.1250 - val_mae: 268.9429\n",
      "Epoch 3/100\n",
      "125/125 [==============================] - 2s 12ms/step - loss: 361048.8438 - mae: 291.9463 - val_loss: 307745.6250 - val_mae: 264.1726\n",
      "Epoch 4/100\n",
      "125/125 [==============================] - 1s 12ms/step - loss: 352296.3438 - mae: 287.6805 - val_loss: 299224.1875 - val_mae: 261.0049\n",
      "Epoch 5/100\n",
      "125/125 [==============================] - 1s 12ms/step - loss: 342375.4375 - mae: 284.1320 - val_loss: 290048.0938 - val_mae: 257.9385\n",
      "Epoch 6/100\n",
      "125/125 [==============================] - 2s 13ms/step - loss: 332132.4688 - mae: 280.8217 - val_loss: 280687.9062 - val_mae: 255.5082\n",
      "Epoch 7/100\n",
      "125/125 [==============================] - 2s 16ms/step - loss: 321595.5000 - mae: 277.9090 - val_loss: 271286.2188 - val_mae: 251.2381\n",
      "Epoch 8/100\n",
      "125/125 [==============================] - 2s 13ms/step - loss: 311207.0938 - mae: 275.1303 - val_loss: 262971.7500 - val_mae: 258.6602\n",
      "Epoch 9/100\n",
      "125/125 [==============================] - 1s 12ms/step - loss: 301166.9062 - mae: 273.1606 - val_loss: 253675.2500 - val_mae: 251.3187\n",
      "Epoch 10/100\n",
      "125/125 [==============================] - 2s 12ms/step - loss: 291647.7500 - mae: 271.9209 - val_loss: 246649.5312 - val_mae: 252.3166\n",
      "Epoch 11/100\n",
      "125/125 [==============================] - 2s 13ms/step - loss: 283130.3438 - mae: 270.0542 - val_loss: 239744.4375 - val_mae: 254.6857\n",
      "Epoch 12/100\n",
      "125/125 [==============================] - 2s 12ms/step - loss: 273849.6562 - mae: 264.4273 - val_loss: 233469.2969 - val_mae: 235.8851\n",
      "Epoch 13/100\n",
      "125/125 [==============================] - 2s 12ms/step - loss: 264188.5312 - mae: 258.2744 - val_loss: 223779.8281 - val_mae: 235.6995\n",
      "Epoch 14/100\n",
      "125/125 [==============================] - 2s 12ms/step - loss: 256531.6250 - mae: 256.0611 - val_loss: 217153.5938 - val_mae: 234.2469\n",
      "Epoch 15/100\n",
      "125/125 [==============================] - 2s 12ms/step - loss: 248113.9375 - mae: 254.1825 - val_loss: 211501.5469 - val_mae: 235.2335\n",
      "Epoch 16/100\n",
      "125/125 [==============================] - 2s 15ms/step - loss: 241148.0312 - mae: 250.8818 - val_loss: 206790.6406 - val_mae: 238.3772\n",
      "Epoch 17/100\n",
      "125/125 [==============================] - 2s 16ms/step - loss: 235309.2969 - mae: 251.7040 - val_loss: 198529.2500 - val_mae: 230.2081\n",
      "Epoch 18/100\n",
      "125/125 [==============================] - 2s 13ms/step - loss: 228479.1094 - mae: 248.5842 - val_loss: 194756.0625 - val_mae: 227.7899\n",
      "Epoch 19/100\n",
      "125/125 [==============================] - 2s 12ms/step - loss: 223640.4219 - mae: 248.2419 - val_loss: 189299.5781 - val_mae: 229.1309\n",
      "Epoch 20/100\n",
      "125/125 [==============================] - 2s 12ms/step - loss: 219347.6875 - mae: 249.3342 - val_loss: 187311.9531 - val_mae: 224.0123\n",
      "Epoch 21/100\n",
      "125/125 [==============================] - 2s 12ms/step - loss: 215181.2812 - mae: 246.8592 - val_loss: 184985.1406 - val_mae: 228.8163\n",
      "Epoch 22/100\n",
      "125/125 [==============================] - 2s 13ms/step - loss: 211029.1562 - mae: 246.8629 - val_loss: 188003.4219 - val_mae: 242.9456\n",
      "Epoch 23/100\n",
      "125/125 [==============================] - 2s 13ms/step - loss: 208397.8281 - mae: 246.1905 - val_loss: 180767.9531 - val_mae: 233.1470\n",
      "Epoch 24/100\n",
      "125/125 [==============================] - 2s 12ms/step - loss: 206688.0156 - mae: 246.0993 - val_loss: 175065.9844 - val_mae: 221.5032\n",
      "Epoch 25/100\n",
      "125/125 [==============================] - 2s 12ms/step - loss: 203011.1875 - mae: 245.2152 - val_loss: 174439.8438 - val_mae: 225.9325\n",
      "Epoch 26/100\n",
      "125/125 [==============================] - 2s 16ms/step - loss: 201484.5469 - mae: 244.5652 - val_loss: 172506.8125 - val_mae: 225.3031\n",
      "Epoch 27/100\n",
      "125/125 [==============================] - 2s 15ms/step - loss: 198851.9844 - mae: 244.1521 - val_loss: 174644.5312 - val_mae: 224.2305\n",
      "Epoch 28/100\n",
      "125/125 [==============================] - 2s 13ms/step - loss: 197868.8906 - mae: 243.0838 - val_loss: 171437.5156 - val_mae: 227.1161\n",
      "Epoch 29/100\n",
      "125/125 [==============================] - 2s 12ms/step - loss: 196184.1094 - mae: 242.5164 - val_loss: 172174.8750 - val_mae: 220.9632\n",
      "Epoch 30/100\n",
      "125/125 [==============================] - 2s 12ms/step - loss: 194664.1406 - mae: 242.7391 - val_loss: 171022.7812 - val_mae: 222.2627\n",
      "Epoch 31/100\n",
      "125/125 [==============================] - 2s 14ms/step - loss: 193111.0781 - mae: 242.2638 - val_loss: 174634.0156 - val_mae: 234.3275\n",
      "Epoch 32/100\n",
      "125/125 [==============================] - 2s 13ms/step - loss: 190174.6094 - mae: 239.9379 - val_loss: 173124.6562 - val_mae: 225.3419\n",
      "Epoch 33/100\n",
      "125/125 [==============================] - 2s 12ms/step - loss: 189678.0469 - mae: 240.1989 - val_loss: 170934.9219 - val_mae: 220.5235\n",
      "Epoch 34/100\n",
      "125/125 [==============================] - 2s 13ms/step - loss: 189814.3750 - mae: 241.1966 - val_loss: 172768.6875 - val_mae: 222.6618\n",
      "Epoch 35/100\n",
      "125/125 [==============================] - 2s 13ms/step - loss: 188249.1719 - mae: 240.5391 - val_loss: 171102.2500 - val_mae: 227.6863\n",
      "Epoch 36/100\n",
      "125/125 [==============================] - 2s 15ms/step - loss: 188751.1094 - mae: 241.5238 - val_loss: 171077.6875 - val_mae: 228.6616\n",
      "Epoch 37/100\n",
      "125/125 [==============================] - 2s 17ms/step - loss: 186933.9062 - mae: 239.2319 - val_loss: 168687.3438 - val_mae: 224.3218\n",
      "Epoch 38/100\n",
      "125/125 [==============================] - 2s 13ms/step - loss: 186518.9844 - mae: 240.8565 - val_loss: 170768.8750 - val_mae: 221.1276\n",
      "Epoch 39/100\n",
      "125/125 [==============================] - 2s 12ms/step - loss: 186861.0938 - mae: 238.7374 - val_loss: 172141.5469 - val_mae: 230.3916\n",
      "Epoch 40/100\n",
      "125/125 [==============================] - 2s 12ms/step - loss: 188689.2188 - mae: 243.4589 - val_loss: 171675.2969 - val_mae: 223.8431\n",
      "Epoch 41/100\n",
      "125/125 [==============================] - 2s 12ms/step - loss: 185672.9062 - mae: 241.0397 - val_loss: 169872.6562 - val_mae: 229.6776\n",
      "Epoch 42/100\n",
      "125/125 [==============================] - 2s 12ms/step - loss: 187909.1250 - mae: 243.2618 - val_loss: 167873.6094 - val_mae: 223.3416\n",
      "Epoch 43/100\n",
      "124/125 [============================>.] - ETA: 0s - loss: 185662.1250 - mae: 240.2021Restoring model weights from the end of the best epoch: 33.\n",
      "125/125 [==============================] - 2s 12ms/step - loss: 185259.4688 - mae: 239.9716 - val_loss: 166612.9531 - val_mae: 222.0616\n",
      "Epoch 43: early stopping\n"
     ]
    }
   ],
   "source": [
    "# Compile the model\n",
    "model.compile(optimizer=Adam(), loss='mse', metrics=['mae'])  # Change loss function to 'mse' for regression\n",
    "\n",
    "# Train the model\n",
    "history = model.fit(x_train, y_train, batch_size=64, epochs=100, validation_data=(x_val, y_val), \n",
    "          callbacks=[early_stopping])"
   ]
  },
  {
   "cell_type": "code",
   "execution_count": 113,
   "id": "585304a1",
   "metadata": {},
   "outputs": [],
   "source": [
    "# save the trained model\n",
    "model.save('../transformer_regression_model.h5')"
   ]
  },
  {
   "cell_type": "code",
   "execution_count": 114,
   "id": "5cbdfa18",
   "metadata": {},
   "outputs": [],
   "source": [
    "model = load_model('../transformer_regression_model.h5')"
   ]
  },
  {
   "cell_type": "code",
   "execution_count": 115,
   "id": "9ea41546",
   "metadata": {},
   "outputs": [
    {
     "name": "stdout",
     "output_type": "stream",
     "text": [
      "63/63 [==============================] - 1s 4ms/step - loss: 170314.9219 - mae: 220.6639\n",
      "Validation MSE: 170314.921875\n",
      "Validation MAE: 220.6638946533203\n"
     ]
    }
   ],
   "source": [
    "# Evaluate the model on validation data\n",
    "mse, mae = model.evaluate(x_val, y_val)\n",
    "print('Validation MSE:', mse)\n",
    "print('Validation MAE:', mae)"
   ]
  },
  {
   "cell_type": "code",
   "execution_count": 116,
   "id": "4c352147",
   "metadata": {},
   "outputs": [
    {
     "data": {
      "image/png": "[encoded data removed]",
      "text/plain": [
       "<Figure size 432x288 with 1 Axes>"
      ]
     },
     "metadata": {
      "needs_background": "light"
     },
     "output_type": "display_data"
    }
   ],
   "source": [
    "# plot the training and validation loss\n",
    "plt.plot(history.history['mae'], label='Training Loss')\n",
    "plt.plot(history.history['val_mae'], label='Validation Loss')\n",
    "plt.xlabel('Epoch')\n",
    "plt.ylabel('Mean Absolute Error')\n",
    "plt.legend()\n",
    "plt.show()"
   ]
  },
  {
   "cell_type": "code",
   "execution_count": null,
   "id": "d6c31c97",
   "metadata": {},
   "outputs": [],
   "source": []
  }
 ],
 "metadata": {
  "kernelspec": {
   "display_name": "Python 3 (ipykernel)",
   "language": "python",
   "name": "python3"
  },
  "language_info": {
   "codemirror_mode": {
    "name": "ipython",
    "version": 3
   },
   "file_extension": ".py",
   "mimetype": "text/x-python",
   "name": "python",
   "nbconvert_exporter": "python",
   "pygments_lexer": "ipython3",
   "version": "3.9.12"
  }
 },
 "nbformat": 4,
 "nbformat_minor": 5
}
