{
 "cells": [
  {
   "cell_type": "markdown",
   "id": "386b1238",
   "metadata": {},
   "source": [
    "# Regression Transformer Model\n",
    "Predicts the number of comments an article will get based on the article's topic, tone, length, hour of the day and day of the week"
   ]
  },
  {
   "cell_type": "code",
   "execution_count": 19,
   "id": "184f4835",
   "metadata": {},
   "outputs": [],
   "source": [
    "import tensorflow as tf\n",
    "from keras.layers import MultiHeadAttention, LayerNormalization, Dropout, Layer\n",
    "from keras.layers import Embedding, Input, GlobalAveragePooling1D, Dense, Flatten\n",
    "from keras.datasets import imdb\n",
    "from keras.models import Sequential, Model\n",
    "from keras.callbacks import EarlyStopping\n",
    "from sklearn.model_selection import train_test_split\n",
    "from tensorflow.keras.optimizers import Adam\n",
    "import pandas as pd\n",
    "import numpy as np\n",
    "import warnings\n",
    "import matplotlib.pyplot as plt"
   ]
  },
  {
   "cell_type": "code",
   "execution_count": 20,
   "id": "b02a2f16",
   "metadata": {},
   "outputs": [],
   "source": [
    "def transformer_block(embed_dim, num_heads, ff_dim, dropout_rate):\n",
    "    att = MultiHeadAttention(num_heads=num_heads, key_dim=embed_dim)\n",
    "    ffn = Sequential(\n",
    "        [Dense(ff_dim, activation=\"relu\"),\n",
    "         Dense(embed_dim), ]\n",
    "    )\n",
    "    layernorm1 = LayerNormalization(epsilon=1e-6)\n",
    "    layernorm2 = LayerNormalization(epsilon=1e-6)\n",
    "    dropout1 = Dropout(dropout_rate)\n",
    "    dropout2 = Dropout(dropout_rate)\n",
    "    \n",
    "    def call(inputs, training):\n",
    "        attn_output = att(inputs, inputs)\n",
    "        attn_output = dropout1(attn_output, training=training)\n",
    "        out1 = layernorm1(inputs + attn_output)\n",
    "        ffn_output = ffn(out1)\n",
    "        ffn_output = dropout2(ffn_output, training=training)\n",
    "        return layernorm2(out1 + ffn_output)\n",
    "    \n",
    "    return call"
   ]
  },
  {
   "cell_type": "code",
   "execution_count": 21,
   "id": "fa92a32a",
   "metadata": {},
   "outputs": [],
   "source": [
    "#Load training data\n",
    "train_df = pd.read_csv('../../data/regression_train_data.csv')\n",
    "\n",
    "# Extract the columns you want to use as input features\n",
    "columns = ['BERT_sentiment_score', 'normalised_word_count', 'pub_day', 'pub_hour', 'topic']\n",
    "# Extract input features from the dataframe\n",
    "x_train = np.array(train_df[columns])\n",
    "\n",
    "y_train = np.array(train_df['n_comments'])"
   ]
  },
  {
   "cell_type": "code",
   "execution_count": 22,
   "id": "28b84ecd",
   "metadata": {},
   "outputs": [],
   "source": [
    "# Training and validation split\n",
    "x_train, x_val, y_train, y_val = train_test_split(x_train, y_train, test_size=0.2, random_state=42)"
   ]
  },
  {
   "cell_type": "code",
   "execution_count": 23,
   "id": "30867f4c",
   "metadata": {},
   "outputs": [],
   "source": [
    "# Define the EarlyStopping callback\n",
    "early_stopping = EarlyStopping(monitor='val_mae', \n",
    "                               # Number of epochs to wait for improvement\n",
    "                               patience=10,  \n",
    "                               verbose=1, \n",
    "                               # Restore the weights of the best epoch\n",
    "                               restore_best_weights=True)"
   ]
  },
  {
   "cell_type": "code",
   "execution_count": 24,
   "id": "6bcba855",
   "metadata": {},
   "outputs": [],
   "source": [
    "# Hypreparameters\n",
    "max_seq_length = x_train.shape[1]\n",
    "vocab_size = int(np.max(x_train) + 1)\n",
    "embedding_dim = 32\n",
    "num_heads = 2\n",
    "ff_dim = 32\n",
    "dropout_rate = 0.1"
   ]
  },
  {
   "cell_type": "code",
   "execution_count": 25,
   "id": "5e8b2517",
   "metadata": {},
   "outputs": [
    {
     "name": "stdout",
     "output_type": "stream",
     "text": [
      "Model: \"model_1\"\n",
      "__________________________________________________________________________________________________\n",
      " Layer (type)                   Output Shape         Param #     Connected to                     \n",
      "==================================================================================================\n",
      " input_2 (InputLayer)           [(None, 5)]          0           []                               \n",
      "                                                                                                  \n",
      " embedding_1 (Embedding)        (None, 5, 32)        2688        ['input_2[0][0]']                \n",
      "                                                                                                  \n",
      " multi_head_attention_1 (MultiH  (None, 5, 32)       8416        ['embedding_1[0][0]',            \n",
      " eadAttention)                                                    'embedding_1[0][0]']            \n",
      "                                                                                                  \n",
      " dropout_3 (Dropout)            (None, 5, 32)        0           ['multi_head_attention_1[0][0]'] \n",
      "                                                                                                  \n",
      " tf.__operators__.add_2 (TFOpLa  (None, 5, 32)       0           ['embedding_1[0][0]',            \n",
      " mbda)                                                            'dropout_3[0][0]']              \n",
      "                                                                                                  \n",
      " layer_normalization_2 (LayerNo  (None, 5, 32)       64          ['tf.__operators__.add_2[0][0]'] \n",
      " rmalization)                                                                                     \n",
      "                                                                                                  \n",
      " sequential_1 (Sequential)      (None, 5, 32)        2112        ['layer_normalization_2[0][0]']  \n",
      "                                                                                                  \n",
      " dropout_4 (Dropout)            (None, 5, 32)        0           ['sequential_1[0][0]']           \n",
      "                                                                                                  \n",
      " tf.__operators__.add_3 (TFOpLa  (None, 5, 32)       0           ['layer_normalization_2[0][0]',  \n",
      " mbda)                                                            'dropout_4[0][0]']              \n",
      "                                                                                                  \n",
      " layer_normalization_3 (LayerNo  (None, 5, 32)       64          ['tf.__operators__.add_3[0][0]'] \n",
      " rmalization)                                                                                     \n",
      "                                                                                                  \n",
      " global_average_pooling1d_1 (Gl  (None, 32)          0           ['layer_normalization_3[0][0]']  \n",
      " obalAveragePooling1D)                                                                            \n",
      "                                                                                                  \n",
      " dropout_5 (Dropout)            (None, 32)           0           ['global_average_pooling1d_1[0][0\n",
      "                                                                 ]']                              \n",
      "                                                                                                  \n",
      " dense_5 (Dense)                (None, 1)            33          ['dropout_5[0][0]']              \n",
      "                                                                                                  \n",
      "==================================================================================================\n",
      "Total params: 13,377\n",
      "Trainable params: 13,377\n",
      "Non-trainable params: 0\n",
      "__________________________________________________________________________________________________\n"
     ]
    }
   ],
   "source": [
    "# Define model architecture\n",
    "\n",
    "# Input\n",
    "inputs = Input(shape=(max_seq_length,))\n",
    "embedding_layer = Embedding(input_dim=vocab_size, output_dim=embedding_dim, input_length=max_seq_length)(inputs)\n",
    "\n",
    "# Hidden layers\n",
    "transformer_block_fn = transformer_block(embed_dim=embedding_dim, \n",
    "                                         num_heads=num_heads, ff_dim=ff_dim, \n",
    "                                         dropout_rate=dropout_rate)\n",
    "transformer_block = transformer_block_fn(embedding_layer, training=True)\n",
    "pooling_layer = GlobalAveragePooling1D()(transformer_block)\n",
    "dropout_layer = Dropout(rate=0.1)(pooling_layer)\n",
    "\n",
    "# Output\n",
    "outputs = Dense(units=1, activation='linear')(dropout_layer)  # Change activation to 'linear' for regression\n",
    "\n",
    "model = Model(inputs=inputs, outputs=outputs)\n",
    "\n",
    "model.summary()"
   ]
  },
  {
   "cell_type": "code",
   "execution_count": 26,
   "id": "7d7031fc",
   "metadata": {},
   "outputs": [
    {
     "name": "stdout",
     "output_type": "stream",
     "text": [
      "Epoch 1/100\n",
      "125/125 [==============================] - 4s 11ms/step - loss: 374273.5625 - mae: 303.3929 - val_loss: 321383.3125 - val_mae: 274.9065\n",
      "Epoch 2/100\n",
      "125/125 [==============================] - 1s 7ms/step - loss: 368872.6562 - mae: 297.7489 - val_loss: 315756.5938 - val_mae: 269.4097\n",
      "Epoch 3/100\n",
      "125/125 [==============================] - 1s 8ms/step - loss: 361678.7500 - mae: 292.3016 - val_loss: 308303.0312 - val_mae: 264.2888\n",
      "Epoch 4/100\n",
      "125/125 [==============================] - 1s 7ms/step - loss: 352862.2500 - mae: 287.4660 - val_loss: 299719.8438 - val_mae: 260.4652\n",
      "Epoch 5/100\n",
      "125/125 [==============================] - 1s 7ms/step - loss: 342857.6250 - mae: 283.8832 - val_loss: 290624.2812 - val_mae: 258.2419\n",
      "Epoch 6/100\n",
      "125/125 [==============================] - 1s 9ms/step - loss: 332645.3750 - mae: 281.7444 - val_loss: 281379.9688 - val_mae: 257.7368\n",
      "Epoch 7/100\n",
      "125/125 [==============================] - 1s 9ms/step - loss: 322017.4062 - mae: 277.8505 - val_loss: 271809.2188 - val_mae: 253.6483\n",
      "Epoch 8/100\n",
      "125/125 [==============================] - 1s 9ms/step - loss: 311504.0938 - mae: 274.7853 - val_loss: 262741.6562 - val_mae: 250.0095\n",
      "Epoch 9/100\n",
      "125/125 [==============================] - 1s 9ms/step - loss: 301257.4375 - mae: 273.1045 - val_loss: 254577.2969 - val_mae: 250.7169\n",
      "Epoch 10/100\n",
      "125/125 [==============================] - 1s 8ms/step - loss: 292573.3750 - mae: 272.9014 - val_loss: 247089.4062 - val_mae: 252.4399\n",
      "Epoch 11/100\n",
      "125/125 [==============================] - 1s 8ms/step - loss: 284244.1250 - mae: 273.0650 - val_loss: 240895.2812 - val_mae: 250.8683\n",
      "Epoch 12/100\n",
      "125/125 [==============================] - 1s 8ms/step - loss: 276648.5938 - mae: 272.1926 - val_loss: 234559.3594 - val_mae: 247.8886\n",
      "Epoch 13/100\n",
      "125/125 [==============================] - 1s 8ms/step - loss: 269304.0625 - mae: 269.5489 - val_loss: 228299.4062 - val_mae: 252.1637\n",
      "Epoch 14/100\n",
      "125/125 [==============================] - 1s 8ms/step - loss: 261231.8438 - mae: 262.8505 - val_loss: 220034.0312 - val_mae: 248.0038\n",
      "Epoch 15/100\n",
      "125/125 [==============================] - 1s 8ms/step - loss: 251436.9531 - mae: 255.0263 - val_loss: 212600.4375 - val_mae: 231.5305\n",
      "Epoch 16/100\n",
      "125/125 [==============================] - 1s 7ms/step - loss: 242606.4531 - mae: 252.7079 - val_loss: 207095.3125 - val_mae: 226.7014\n",
      "Epoch 17/100\n",
      "125/125 [==============================] - 1s 7ms/step - loss: 236073.5312 - mae: 251.3672 - val_loss: 200507.1406 - val_mae: 236.1186\n",
      "Epoch 18/100\n",
      "125/125 [==============================] - 1s 8ms/step - loss: 229637.9219 - mae: 248.8015 - val_loss: 194057.2656 - val_mae: 227.0475\n",
      "Epoch 19/100\n",
      "125/125 [==============================] - 1s 7ms/step - loss: 223841.9531 - mae: 247.3499 - val_loss: 190749.5156 - val_mae: 234.9082\n",
      "Epoch 20/100\n",
      "125/125 [==============================] - 1s 7ms/step - loss: 218860.7969 - mae: 245.7992 - val_loss: 185767.7969 - val_mae: 225.4107\n",
      "Epoch 21/100\n",
      "125/125 [==============================] - 1s 8ms/step - loss: 214175.8594 - mae: 245.9889 - val_loss: 183452.5469 - val_mae: 229.2785\n",
      "Epoch 22/100\n",
      "125/125 [==============================] - 1s 8ms/step - loss: 210471.9219 - mae: 246.2686 - val_loss: 180014.7969 - val_mae: 226.0061\n",
      "Epoch 23/100\n",
      "125/125 [==============================] - 1s 9ms/step - loss: 208211.6562 - mae: 245.8412 - val_loss: 178301.8125 - val_mae: 225.5280\n",
      "Epoch 24/100\n",
      "125/125 [==============================] - 1s 9ms/step - loss: 204832.6250 - mae: 244.2439 - val_loss: 176409.1250 - val_mae: 233.2596\n",
      "Epoch 25/100\n",
      "125/125 [==============================] - 1s 9ms/step - loss: 203374.1875 - mae: 245.3133 - val_loss: 174534.1719 - val_mae: 235.9026\n",
      "Epoch 26/100\n",
      "125/125 [==============================] - 1s 9ms/step - loss: 200339.0000 - mae: 243.0275 - val_loss: 173009.3438 - val_mae: 227.6960\n",
      "Epoch 27/100\n",
      "125/125 [==============================] - 1s 8ms/step - loss: 196750.4688 - mae: 241.0279 - val_loss: 174137.7188 - val_mae: 236.6394\n",
      "Epoch 28/100\n",
      "125/125 [==============================] - 1s 7ms/step - loss: 195664.9688 - mae: 242.0448 - val_loss: 171776.3281 - val_mae: 223.9803\n",
      "Epoch 29/100\n",
      "125/125 [==============================] - 1s 8ms/step - loss: 194168.9219 - mae: 242.2496 - val_loss: 170271.6875 - val_mae: 230.1845\n",
      "Epoch 30/100\n",
      "125/125 [==============================] - 1s 8ms/step - loss: 194547.0938 - mae: 242.5308 - val_loss: 170262.6406 - val_mae: 231.6224\n",
      "Epoch 31/100\n",
      "125/125 [==============================] - 1s 8ms/step - loss: 193681.0938 - mae: 243.6909 - val_loss: 170183.6719 - val_mae: 230.1433\n",
      "Epoch 32/100\n",
      "125/125 [==============================] - 1s 8ms/step - loss: 191728.6094 - mae: 242.0925 - val_loss: 169868.5781 - val_mae: 225.6998\n",
      "Epoch 33/100\n",
      "125/125 [==============================] - 1s 8ms/step - loss: 191562.9531 - mae: 242.7099 - val_loss: 169999.2969 - val_mae: 228.9747\n",
      "Epoch 34/100\n",
      "125/125 [==============================] - 1s 8ms/step - loss: 190741.4688 - mae: 243.3972 - val_loss: 170075.7812 - val_mae: 227.8286\n",
      "Epoch 35/100\n",
      "125/125 [==============================] - 1s 8ms/step - loss: 190467.2031 - mae: 241.5090 - val_loss: 171010.8750 - val_mae: 231.5402\n",
      "Epoch 36/100\n",
      "125/125 [==============================] - 1s 8ms/step - loss: 191251.4375 - mae: 242.7950 - val_loss: 169849.8594 - val_mae: 229.4429\n",
      "Epoch 37/100\n",
      "125/125 [==============================] - 1s 7ms/step - loss: 190306.4375 - mae: 242.2879 - val_loss: 170405.4688 - val_mae: 227.7474\n",
      "Epoch 38/100\n",
      "125/125 [==============================] - ETA: 0s - loss: 188090.6562 - mae: 240.9364Restoring model weights from the end of the best epoch: 28.\n",
      "125/125 [==============================] - 1s 8ms/step - loss: 188090.6562 - mae: 240.9364 - val_loss: 169814.3125 - val_mae: 228.0282\n",
      "Epoch 38: early stopping\n"
     ]
    }
   ],
   "source": [
    "# Compile the model\n",
    "model.compile(optimizer=Adam(), loss='mse', metrics=['mae'])  # Change loss function to 'mse' for regression\n",
    "\n",
    "# Train the model\n",
    "history = model.fit(x_train, y_train, batch_size=64, epochs=100, validation_data=(x_val, y_val), \n",
    "          callbacks=[early_stopping])"
   ]
  },
  {
   "cell_type": "code",
   "execution_count": 27,
   "id": "2a2162f0",
   "metadata": {},
   "outputs": [
    {
     "data": {
      "image/png": "[encoded data removed]",
      "text/plain": [
       "<Figure size 432x288 with 1 Axes>"
      ]
     },
     "metadata": {
      "needs_background": "light"
     },
     "output_type": "display_data"
    }
   ],
   "source": [
    "# plot the training and validation loss\n",
    "plt.plot(history.history['mae'], label='Training Loss')\n",
    "plt.plot(history.history['val_mae'], label='Validation Loss')\n",
    "plt.xlabel('Epoch')\n",
    "plt.ylabel('Mean Absolute Error')\n",
    "plt.legend()\n",
    "plt.show()"
   ]
  },
  {
   "cell_type": "code",
   "execution_count": 66,
   "id": "585304a1",
   "metadata": {},
   "outputs": [],
   "source": [
    "# save the trained model\n",
    "model.save('../../models/transformer_regression_model.h5')"
   ]
  },
  {
   "cell_type": "code",
   "execution_count": 68,
   "id": "9ea41546",
   "metadata": {},
   "outputs": [
    {
     "name": "stdout",
     "output_type": "stream",
     "text": [
      "63/63 [==============================] - 0s 2ms/step - loss: 173913.9219 - mae: 223.2462\n",
      "Validation MSE: 173913.921875\n",
      "Validation MAE: 223.24618530273438\n"
     ]
    }
   ],
   "source": [
    "# Evaluate the model on validation data\n",
    "mse, mae = model.evaluate(x_val, y_val)\n",
    "print('Validation MSE:', mse)\n",
    "print('Validation MAE:', mae)"
   ]
  },
  {
   "cell_type": "code",
   "execution_count": null,
   "id": "4c352147",
   "metadata": {},
   "outputs": [],
   "source": []
  }
 ],
 "metadata": {
  "kernelspec": {
   "display_name": "Python 3 (ipykernel)",
   "language": "python",
   "name": "python3"
  },
  "language_info": {
   "codemirror_mode": {
    "name": "ipython",
    "version": 3
   },
   "file_extension": ".py",
   "mimetype": "text/x-python",
   "name": "python",
   "nbconvert_exporter": "python",
   "pygments_lexer": "ipython3",
   "version": "3.9.12"
  }
 },
 "nbformat": 4,
 "nbformat_minor": 5
}
