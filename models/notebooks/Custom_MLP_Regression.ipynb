{
 "cells": [
  {
   "cell_type": "markdown",
   "id": "92978309",
   "metadata": {},
   "source": [
    "# Multilayer Perceptron Regression Model\n",
    "Predicts the number of comments an article will get based on the article's topic, tone, length, hour of the day and day of the week"
   ]
  },
  {
   "cell_type": "code",
   "execution_count": 1,
   "id": "3569ea9c",
   "metadata": {},
   "outputs": [],
   "source": [
    "import tensorflow as tf\n",
    "from tensorflow.keras.models import Sequential\n",
    "from tensorflow.keras.layers import Dense, BatchNormalization, Dropout\n",
    "from sklearn.preprocessing import LabelEncoder\n",
    "from sklearn.model_selection import train_test_split\n",
    "from keras.callbacks import EarlyStopping\n",
    "import pandas as pd\n",
    "import numpy as np\n",
    "import matplotlib.pyplot as plt"
   ]
  },
  {
   "cell_type": "code",
   "execution_count": 2,
   "id": "94c47fab",
   "metadata": {},
   "outputs": [],
   "source": [
    "#Load training data\n",
    "train_df = pd.read_csv('../../data/regression_train.csv')\n",
    "\n",
    "# Extract the columns you want to use as input features\n",
    "columns = ['BERT_sentiment_score', 'normalised_word_count', 'pub_day', 'pub_hour', 'topic']\n",
    "# Extract input features from the dataframe\n",
    "x_train = np.array(train_df[columns])\n",
    "\n",
    "y_train = np.array(train_df['n_comments'])"
   ]
  },
  {
   "cell_type": "code",
   "execution_count": 3,
   "id": "01ce4a81",
   "metadata": {},
   "outputs": [],
   "source": [
    "# Training and validation split\n",
    "x_train, x_val, y_train, y_val = train_test_split(x_train, y_train, test_size=0.2, random_state=42)"
   ]
  },
  {
   "cell_type": "code",
   "execution_count": 4,
   "id": "86f9e323",
   "metadata": {},
   "outputs": [],
   "source": [
    "# Define the EarlyStopping callback\n",
    "early_stopping = EarlyStopping(monitor='val_loss', \n",
    "                               # Number of epochs to wait for improvement\n",
    "                               patience=10,  \n",
    "                               verbose=1, \n",
    "                               # Restore the weights of the best epoch\n",
    "                               restore_best_weights=True) "
   ]
  },
  {
   "cell_type": "code",
   "execution_count": 5,
   "id": "c83b4fe1",
   "metadata": {},
   "outputs": [],
   "source": [
    "# Hyperparameters\n",
    "num_features = 5\n",
    "dropout = 0.2"
   ]
  },
  {
   "cell_type": "code",
   "execution_count": 6,
   "id": "7d5b639f",
   "metadata": {},
   "outputs": [
    {
     "name": "stdout",
     "output_type": "stream",
     "text": [
      "Model: \"sequential\"\n",
      "_________________________________________________________________\n",
      " Layer (type)                Output Shape              Param #   \n",
      "=================================================================\n",
      " dense (Dense)               (None, 128)               768       \n",
      "                                                                 \n",
      " batch_normalization (BatchN  (None, 128)              512       \n",
      " ormalization)                                                   \n",
      "                                                                 \n",
      " dropout (Dropout)           (None, 128)               0         \n",
      "                                                                 \n",
      " dense_1 (Dense)             (None, 64)                8256      \n",
      "                                                                 \n",
      " batch_normalization_1 (Batc  (None, 64)               256       \n",
      " hNormalization)                                                 \n",
      "                                                                 \n",
      " dropout_1 (Dropout)         (None, 64)                0         \n",
      "                                                                 \n",
      " dense_2 (Dense)             (None, 32)                2080      \n",
      "                                                                 \n",
      " batch_normalization_2 (Batc  (None, 32)               128       \n",
      " hNormalization)                                                 \n",
      "                                                                 \n",
      " dropout_2 (Dropout)         (None, 32)                0         \n",
      "                                                                 \n",
      " dense_3 (Dense)             (None, 1)                 33        \n",
      "                                                                 \n",
      "=================================================================\n",
      "Total params: 12,033\n",
      "Trainable params: 11,585\n",
      "Non-trainable params: 448\n",
      "_________________________________________________________________\n"
     ]
    }
   ],
   "source": [
    "# Define MLP model architecture\n",
    "model = Sequential()\n",
    "# Input layer\n",
    "model.add(Dense(128, activation='relu', input_dim=num_features))\n",
    "model.add(BatchNormalization())\n",
    "model.add(Dropout(dropout))\n",
    "# Hidden layer\n",
    "model.add(Dense(64, activation='relu'))\n",
    "model.add(BatchNormalization())\n",
    "model.add(Dropout(dropout))\n",
    "# Hidden layer\n",
    "model.add(Dense(32, activation='relu'))\n",
    "model.add(BatchNormalization())\n",
    "model.add(Dropout(dropout))\n",
    "# Output layer\n",
    "model.add(Dense(1, activation='linear'))\n",
    "\n",
    "model.summary()"
   ]
  },
  {
   "cell_type": "code",
   "execution_count": 9,
   "id": "b5451755",
   "metadata": {},
   "outputs": [
    {
     "name": "stdout",
     "output_type": "stream",
     "text": [
      "Epoch 1/100\n",
      "250/250 [==============================] - 3s 5ms/step - loss: 234270.7188 - mae: 294.7877 - val_loss: 212279.1406 - val_mae: 262.9743\n",
      "Epoch 2/100\n",
      "250/250 [==============================] - 1s 4ms/step - loss: 234400.0781 - mae: 294.9386 - val_loss: 205752.9688 - val_mae: 277.2880\n",
      "Epoch 3/100\n",
      "250/250 [==============================] - 1s 4ms/step - loss: 233966.9688 - mae: 294.3802 - val_loss: 206739.6562 - val_mae: 264.0714\n",
      "Epoch 4/100\n",
      "250/250 [==============================] - 1s 5ms/step - loss: 231985.5156 - mae: 293.6050 - val_loss: 208097.5312 - val_mae: 273.8173\n",
      "Epoch 5/100\n",
      "250/250 [==============================] - 1s 4ms/step - loss: 236239.5781 - mae: 296.5164 - val_loss: 199970.7188 - val_mae: 270.9061\n",
      "Epoch 6/100\n",
      "250/250 [==============================] - 1s 4ms/step - loss: 231670.2656 - mae: 292.3940 - val_loss: 207471.6719 - val_mae: 284.4766\n",
      "Epoch 7/100\n",
      "250/250 [==============================] - 1s 4ms/step - loss: 234062.0781 - mae: 294.8687 - val_loss: 212407.7656 - val_mae: 313.5069\n",
      "Epoch 8/100\n",
      "250/250 [==============================] - 1s 4ms/step - loss: 231258.9844 - mae: 293.9073 - val_loss: 207347.2812 - val_mae: 290.6863\n",
      "Epoch 9/100\n",
      "250/250 [==============================] - 1s 4ms/step - loss: 233342.2500 - mae: 294.1270 - val_loss: 202113.9688 - val_mae: 278.7598\n",
      "Epoch 10/100\n",
      "250/250 [==============================] - 1s 4ms/step - loss: 231958.1875 - mae: 293.0640 - val_loss: 206632.9531 - val_mae: 299.5452\n",
      "Epoch 11/100\n",
      "250/250 [==============================] - 1s 4ms/step - loss: 232965.0000 - mae: 292.6619 - val_loss: 206379.7812 - val_mae: 298.2761\n",
      "Epoch 12/100\n",
      "250/250 [==============================] - 1s 4ms/step - loss: 231216.7656 - mae: 291.7501 - val_loss: 199173.3125 - val_mae: 278.2825\n",
      "Epoch 13/100\n",
      "250/250 [==============================] - 1s 4ms/step - loss: 231787.5625 - mae: 292.9612 - val_loss: 202492.1250 - val_mae: 272.8977\n",
      "Epoch 14/100\n",
      "250/250 [==============================] - 1s 4ms/step - loss: 231151.9062 - mae: 290.9240 - val_loss: 197189.9375 - val_mae: 270.8219\n",
      "Epoch 15/100\n",
      "250/250 [==============================] - 1s 4ms/step - loss: 230786.9531 - mae: 290.4265 - val_loss: 209598.3281 - val_mae: 248.7345\n",
      "Epoch 16/100\n",
      "250/250 [==============================] - 1s 5ms/step - loss: 231051.7812 - mae: 289.5241 - val_loss: 213859.1406 - val_mae: 315.6287\n",
      "Epoch 17/100\n",
      "250/250 [==============================] - 1s 5ms/step - loss: 230036.6562 - mae: 291.5202 - val_loss: 200553.3750 - val_mae: 271.3880\n",
      "Epoch 18/100\n",
      "250/250 [==============================] - 1s 5ms/step - loss: 231762.0781 - mae: 290.9581 - val_loss: 200063.8906 - val_mae: 257.6090\n",
      "Epoch 19/100\n",
      "250/250 [==============================] - 1s 5ms/step - loss: 232716.8281 - mae: 292.8889 - val_loss: 199922.8281 - val_mae: 286.6936\n",
      "Epoch 20/100\n",
      "250/250 [==============================] - 1s 4ms/step - loss: 228973.4531 - mae: 290.6847 - val_loss: 199392.8281 - val_mae: 259.9934\n",
      "Epoch 21/100\n",
      "250/250 [==============================] - 1s 4ms/step - loss: 231863.1406 - mae: 292.6750 - val_loss: 200375.6562 - val_mae: 277.6604\n",
      "Epoch 22/100\n",
      "250/250 [==============================] - 1s 4ms/step - loss: 230131.4062 - mae: 290.8418 - val_loss: 199205.9375 - val_mae: 266.9948\n",
      "Epoch 23/100\n",
      "250/250 [==============================] - 1s 4ms/step - loss: 233874.5625 - mae: 293.6316 - val_loss: 199755.4844 - val_mae: 262.9750\n",
      "Epoch 24/100\n",
      "248/250 [============================>.] - ETA: 0s - loss: 229668.7656 - mae: 289.4308Restoring model weights from the end of the best epoch: 14.\n",
      "250/250 [==============================] - 1s 4ms/step - loss: 229722.4844 - mae: 289.6177 - val_loss: 200448.8438 - val_mae: 260.9656\n",
      "Epoch 24: early stopping\n"
     ]
    }
   ],
   "source": [
    "# Compile the model\n",
    "model.compile(optimizer='adam', loss='mse', metrics=['mae'])\n",
    "\n",
    "# Train the model\n",
    "history = model.fit(x_train, y_train, batch_size=32, epochs=100, validation_data=(x_val, y_val), callbacks=[early_stopping])"
   ]
  },
  {
   "cell_type": "code",
   "execution_count": 10,
   "id": "b7315531",
   "metadata": {},
   "outputs": [
    {
     "data": {
      "image/png": "[encoded data removed]",
      "text/plain": [
       "<Figure size 432x288 with 1 Axes>"
      ]
     },
     "metadata": {
      "needs_background": "light"
     },
     "output_type": "display_data"
    }
   ],
   "source": [
    "# plot the training and validation loss\n",
    "plt.plot(history.history['mae'], label='Training Loss')\n",
    "plt.plot(history.history['val_mae'], label='Validation Loss')\n",
    "plt.xlabel('Epoch')\n",
    "plt.ylabel('Mean Absolute Error')\n",
    "plt.legend()\n",
    "plt.show()"
   ]
  },
  {
   "cell_type": "code",
   "execution_count": 8,
   "id": "15889f67",
   "metadata": {},
   "outputs": [],
   "source": [
    "# save the trained model\n",
    "model.save('../../models/MLP_regression_model.h5')"
   ]
  },
  {
   "cell_type": "code",
   "execution_count": 9,
   "id": "c9f2cc93",
   "metadata": {},
   "outputs": [
    {
     "name": "stdout",
     "output_type": "stream",
     "text": [
      "63/63 [==============================] - 0s 1ms/step - loss: 194532.0000 - mean_squared_error: 194532.0000 - mean_absolute_error: 270.4090\n",
      "Validation MSE: 194532.0\n",
      "Validation MAE: 270.40899658203125\n"
     ]
    }
   ],
   "source": [
    "# Evaluate the model on validation data\n",
    "loss, mse, mae = model.evaluate(x_val, y_val)\n",
    "print('Validation MSE:', mse)\n",
    "print('Validation MAE:', mae)"
   ]
  },
  {
   "cell_type": "code",
   "execution_count": null,
   "id": "bd033d85",
   "metadata": {},
   "outputs": [],
   "source": []
  }
 ],
 "metadata": {
  "kernelspec": {
   "display_name": "Python 3 (ipykernel)",
   "language": "python",
   "name": "python3"
  },
  "language_info": {
   "codemirror_mode": {
    "name": "ipython",
    "version": 3
   },
   "file_extension": ".py",
   "mimetype": "text/x-python",
   "name": "python",
   "nbconvert_exporter": "python",
   "pygments_lexer": "ipython3",
   "version": "3.9.12"
  }
 },
 "nbformat": 4,
 "nbformat_minor": 5
}
