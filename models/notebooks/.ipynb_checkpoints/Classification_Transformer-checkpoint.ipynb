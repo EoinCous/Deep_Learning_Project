{
 "cells": [
  {
   "cell_type": "markdown",
   "id": "c0c76b28",
   "metadata": {},
   "source": [
    "# Classification Transformer Model\n",
    "Finds the tone of an article based on the article's headline, abstract and key words"
   ]
  },
  {
   "cell_type": "code",
   "execution_count": null,
   "id": "9764e680",
   "metadata": {},
   "outputs": [],
   "source": [
    "conda install tensorflow"
   ]
  },
  {
   "cell_type": "code",
   "execution_count": 93,
   "id": "c923e215",
   "metadata": {},
   "outputs": [],
   "source": [
    "import tensorflow as tf\n",
    "from keras.layers import MultiHeadAttention, LayerNormalization, Dropout, Layer\n",
    "from keras.layers import Embedding, Input, GlobalAveragePooling1D, Dense\n",
    "from tensorflow.keras.layers.experimental.preprocessing import TextVectorization\n",
    "from tensorflow.keras.optimizers import Adam\n",
    "from keras.models import Sequential, Model, load_model\n",
    "from tensorflow.keras.preprocessing.sequence import pad_sequences\n",
    "from keras.callbacks import EarlyStopping\n",
    "from sklearn.model_selection import train_test_split\n",
    "import numpy as np\n",
    "import pandas as pd\n",
    "import warnings\n",
    "import matplotlib.pyplot as plt\n",
    "\n",
    "warnings.filterwarnings(\"ignore\", category=np.VisibleDeprecationWarning)"
   ]
  },
  {
   "cell_type": "code",
   "execution_count": 94,
   "id": "83e6d3c9",
   "metadata": {},
   "outputs": [],
   "source": [
    "# Implementation of Transformer encoder from scratch in TensorFlow and Keras\n",
    "# By Jason Brownlee on February 24, 2021\n",
    "# Available at https://machinelearningmastery.com/implementing-the-transformer-encoder-from-scratch-in-tensorflow-and-keras/\n",
    "def encoder_block(embed_dim, num_heads, ff_dim, dropout_rate):\n",
    "    # initalise all of the layers\n",
    "    multihead_attention = MultiHeadAttention(num_heads=num_heads, key_dim=embed_dim)\n",
    "    feed_forward = Sequential(\n",
    "        [Dense(ff_dim, activation=\"relu\"),\n",
    "         Dense(embed_dim), ]\n",
    "    )\n",
    "    add_norm = LayerNormalization(epsilon=1e-6)\n",
    "    dropout = Dropout(dropout_rate)\n",
    "    \n",
    "    # apply the encoder block to input data\n",
    "    def call(inputs, training):\n",
    "        attn_output = multihead_attention(inputs, inputs)\n",
    "        attn_output = dropout(attn_output, training=training)\n",
    "        out1 = add_norm(inputs + attn_output)\n",
    "        feedforward_output = feed_forward(out1)\n",
    "        feedforward_output = dropout(feedforward_output, training=training)\n",
    "        return add_norm(out1 + feedforward_output)\n",
    "    \n",
    "    return call"
   ]
  },
  {
   "cell_type": "code",
   "execution_count": 116,
   "id": "37b12409",
   "metadata": {},
   "outputs": [],
   "source": [
    "# Implementation of Transformer decoder from scratch in TensorFlow and Keras\n",
    "# By Jason Brownlee on February 24, 2021\n",
    "# Available at https://machinelearningmastery.com/implementing-the-transformer-decoder-from-scratch-in-tensorflow-and-keras/\n",
    "def decoder_block(num_heads, embed_dim, ff_dim, dropout_rate):\n",
    "    # initialise the layers\n",
    "    multihead_attention1 = MultiHeadAttention(num_heads, embed_dim, embed_dim)\n",
    "    dropout1 = Dropout(dropout_rate)\n",
    "    add_norm1 = LayerNormalization(epsilon=1e-6)\n",
    "    \n",
    "    multihead_attention2 = MultiHeadAttention(num_heads, embed_dim, embed_dim)\n",
    "    dropout2 = Dropout(dropout_rate)\n",
    "    add_norm2 = LayerNormalization(epsilon=1e-6)\n",
    "    \n",
    "    feed_forward = Sequential(\n",
    "        [Dense(ff_dim, activation=\"relu\"),\n",
    "         Dense(embed_dim), ]\n",
    "    )\n",
    "    dropout3 = Dropout(dropout_rate)\n",
    "    add_norm3 = LayerNormalization(epsilon=1e-6)\n",
    "    \n",
    "    # apply the decoder block to encoder output\n",
    "    def call(inputs, encoder_output, training):\n",
    "        multihead_output1 = multihead_attention1(inputs, inputs, inputs)\n",
    "        multihead_output1 = dropout1(multihead_output1)\n",
    "        addnorm_output1 = add_norm1(inputs + multihead_output1)\n",
    "        multihead_output2 = multihead_attention2(addnorm_output1, encoder_output, encoder_output)\n",
    "        multihead_output2 = dropout2(multihead_output2)\n",
    "        addnorm_output2 = add_norm2(addnorm_output1 + multihead_output2)\n",
    "        feedforward_output = feed_forward(addnorm_output2)\n",
    "        feedforward_output = dropout3(feedforward_output)\n",
    "\n",
    "        return add_norm3(addnorm_output2 + feedforward_output)\n",
    "\n",
    "    return call"
   ]
  },
  {
   "cell_type": "code",
   "execution_count": 119,
   "id": "61e43b66",
   "metadata": {},
   "outputs": [],
   "source": [
    "# Load training data\n",
    "train_df = pd.read_csv('../../data/cleaned_train.csv')\n",
    "x_train = train_df['numerical_sequence'].apply(lambda x: [int(i) for i in x.split(',')])\n",
    "y_train = np.array(train_df['BERT_sentiment_score'])"
   ]
  },
  {
   "cell_type": "code",
   "execution_count": 120,
   "id": "dce68a15",
   "metadata": {},
   "outputs": [],
   "source": [
    "# Load test data\n",
    "test_df = pd.read_csv('../../data/cleaned_test.csv')\n",
    "x_test = np.array(test_df['numerical_sequence'].apply(lambda x: [int(i) for i in x.split(',')]))\n",
    "y_test = np.array(test_df['BERT_sentiment_score'])"
   ]
  },
  {
   "cell_type": "code",
   "execution_count": 121,
   "id": "32b23201",
   "metadata": {},
   "outputs": [],
   "source": [
    "# Get the longest sequence\n",
    "max_seq_length = max([len(seq) for seq in x_test] + [len(seq) for seq in x_train])\n",
    "\n",
    "# Pad sequences with zeros to have the same length\n",
    "x_train = pad_sequences(x_train, maxlen= max_seq_length, padding='post', truncating='post')\n",
    "x_test = pad_sequences(x_test, maxlen= max_seq_length, padding='post', truncating='post')"
   ]
  },
  {
   "cell_type": "code",
   "execution_count": 122,
   "id": "bba5afcb",
   "metadata": {},
   "outputs": [],
   "source": [
    "# Training and validation split\n",
    "x_train, x_val, y_train, y_val = train_test_split(x_train, y_train, test_size=0.2, random_state=42)"
   ]
  },
  {
   "cell_type": "code",
   "execution_count": 123,
   "id": "0143a715",
   "metadata": {},
   "outputs": [],
   "source": [
    "# Define the EarlyStopping callback\n",
    "early_stopping = EarlyStopping(monitor='val_accuracy', \n",
    "                               # Number of epochs to wait for improvement\n",
    "                               patience=3,  \n",
    "                               verbose=1, \n",
    "                               # Restore the weights of the best epoch\n",
    "                               restore_best_weights=True)  "
   ]
  },
  {
   "cell_type": "code",
   "execution_count": 124,
   "id": "3f08237d",
   "metadata": {},
   "outputs": [],
   "source": [
    "# Hyperparameters\n",
    "\n",
    "# Get the maximum value across all elements in the combined array\n",
    "x_combined = np.concatenate((x_train, x_test, x_val), axis=0)\n",
    "vocab_size = np.max(x_combined) + 1\n",
    "\n",
    "embedding_dim = 16\n",
    "num_heads = 2\n",
    "ff_dim = 32\n",
    "dropout_rate = 0.3"
   ]
  },
  {
   "cell_type": "code",
   "execution_count": 125,
   "id": "2e2c5cfa",
   "metadata": {},
   "outputs": [
    {
     "name": "stdout",
     "output_type": "stream",
     "text": [
      "Model: \"model_7\"\n",
      "__________________________________________________________________________________________________\n",
      " Layer (type)                   Output Shape         Param #     Connected to                     \n",
      "==================================================================================================\n",
      " input_17 (InputLayer)          [(None, 227)]        0           []                               \n",
      "                                                                                                  \n",
      " embedding_12 (Embedding)       (None, 227, 16)      611472      ['input_17[0][0]']               \n",
      "                                                                                                  \n",
      " multi_head_attention_34 (Multi  (None, 227, 16)     2160        ['embedding_12[0][0]',           \n",
      " HeadAttention)                                                   'embedding_12[0][0]']           \n",
      "                                                                                                  \n",
      " dropout_67 (Dropout)           (None, 227, 16)      0           ['multi_head_attention_34[0][0]',\n",
      "                                                                  'sequential_23[0][0]']          \n",
      "                                                                                                  \n",
      " tf.__operators__.add_48 (TFOpL  (None, 227, 16)     0           ['embedding_12[0][0]',           \n",
      " ambda)                                                           'dropout_67[0][0]']             \n",
      "                                                                                                  \n",
      " layer_normalization_45 (LayerN  (None, 227, 16)     32          ['tf.__operators__.add_48[0][0]',\n",
      " ormalization)                                                    'tf.__operators__.add_49[0][0]']\n",
      "                                                                                                  \n",
      " sequential_23 (Sequential)     (None, 227, 16)      1072        ['layer_normalization_45[0][0]'] \n",
      "                                                                                                  \n",
      " tf.__operators__.add_49 (TFOpL  (None, 227, 16)     0           ['layer_normalization_45[0][0]', \n",
      " ambda)                                                           'dropout_67[1][0]']             \n",
      "                                                                                                  \n",
      " multi_head_attention_35 (Multi  (None, 227, 16)     2160        ['layer_normalization_45[1][0]', \n",
      " HeadAttention)                                                   'layer_normalization_45[1][0]', \n",
      "                                                                  'layer_normalization_45[1][0]'] \n",
      "                                                                                                  \n",
      " dropout_68 (Dropout)           (None, 227, 16)      0           ['multi_head_attention_35[0][0]']\n",
      "                                                                                                  \n",
      " tf.__operators__.add_50 (TFOpL  (None, 227, 16)     0           ['layer_normalization_45[1][0]', \n",
      " ambda)                                                           'dropout_68[0][0]']             \n",
      "                                                                                                  \n",
      " layer_normalization_46 (LayerN  (None, 227, 16)     32          ['tf.__operators__.add_50[0][0]']\n",
      " ormalization)                                                                                    \n",
      "                                                                                                  \n",
      " multi_head_attention_36 (Multi  (None, 227, 16)     2160        ['layer_normalization_46[0][0]', \n",
      " HeadAttention)                                                   'layer_normalization_45[1][0]', \n",
      "                                                                  'layer_normalization_45[1][0]'] \n",
      "                                                                                                  \n",
      " dropout_69 (Dropout)           (None, 227, 16)      0           ['multi_head_attention_36[0][0]']\n",
      "                                                                                                  \n",
      " tf.__operators__.add_51 (TFOpL  (None, 227, 16)     0           ['layer_normalization_46[0][0]', \n",
      " ambda)                                                           'dropout_69[0][0]']             \n",
      "                                                                                                  \n",
      " layer_normalization_47 (LayerN  (None, 227, 16)     32          ['tf.__operators__.add_51[0][0]']\n",
      " ormalization)                                                                                    \n",
      "                                                                                                  \n",
      " sequential_24 (Sequential)     (None, 227, 16)      1072        ['layer_normalization_47[0][0]'] \n",
      "                                                                                                  \n",
      " dropout_70 (Dropout)           (None, 227, 16)      0           ['sequential_24[0][0]']          \n",
      "                                                                                                  \n",
      " tf.__operators__.add_52 (TFOpL  (None, 227, 16)     0           ['layer_normalization_47[0][0]', \n",
      " ambda)                                                           'dropout_70[0][0]']             \n",
      "                                                                                                  \n",
      " layer_normalization_48 (LayerN  (None, 227, 16)     32          ['tf.__operators__.add_52[0][0]']\n",
      " ormalization)                                                                                    \n",
      "                                                                                                  \n",
      " global_average_pooling1d_7 (Gl  (None, 16)          0           ['layer_normalization_48[0][0]'] \n",
      " obalAveragePooling1D)                                                                            \n",
      "                                                                                                  \n",
      " dropout_71 (Dropout)           (None, 16)           0           ['global_average_pooling1d_7[0][0\n",
      "                                                                 ]']                              \n",
      "                                                                                                  \n",
      " dense_57 (Dense)               (None, 3)            51          ['dropout_71[0][0]']             \n",
      "                                                                                                  \n",
      "==================================================================================================\n",
      "Total params: 620,275\n",
      "Trainable params: 620,275\n",
      "Non-trainable params: 0\n",
      "__________________________________________________________________________________________________\n"
     ]
    }
   ],
   "source": [
    "# Define model architecture\n",
    "\n",
    "# Input \n",
    "inputs = Input(shape=(max_seq_length,))\n",
    "embedding_layer = Embedding(input_dim=vocab_size, output_dim=embedding_dim)(inputs)\n",
    "\n",
    "# Encoder\n",
    "encoder_block_fn = encoder_block(embed_dim=embedding_dim, \n",
    "                                 num_heads=num_heads, \n",
    "                                 ff_dim=ff_dim,\n",
    "                                 dropout_rate=dropout_rate)\n",
    "encoder_output = encoder_block_fn(embedding_layer, training=True)\n",
    "\n",
    "# Decoder\n",
    "decoder_block_fn = decoder_block(num_heads=num_heads,\n",
    "                                 embed_dim=embedding_dim,\n",
    "                                 ff_dim=ff_dim,\n",
    "                                 dropout_rate=dropout_rate)\n",
    "decoder_output = decoder_block_fn(inputs=encoder_output, \n",
    "                                  encoder_output=encoder_output, \n",
    "                                  \n",
    "                                  training=True)\n",
    "\n",
    "# Pooling and Dropout\n",
    "pooling_layer = GlobalAveragePooling1D()(decoder_output)\n",
    "dropout_layer = Dropout(dropout_rate)(pooling_layer)\n",
    "\n",
    "# Output\n",
    "outputs = Dense(units=3, activation='softmax')(dropout_layer)\n",
    "\n",
    "# Instantiate model\n",
    "model = Model(inputs=inputs, outputs=outputs)\n",
    "\n",
    "model.summary()"
   ]
  },
  {
   "cell_type": "code",
   "execution_count": 126,
   "id": "6dd932a6",
   "metadata": {
    "scrolled": false
   },
   "outputs": [
    {
     "name": "stdout",
     "output_type": "stream",
     "text": [
      "Epoch 1/10\n",
      "623/623 [==============================] - 39s 60ms/step - loss: 1.0020 - accuracy: 0.5180 - val_loss: 0.8849 - val_accuracy: 0.6049\n",
      "Epoch 2/10\n",
      "623/623 [==============================] - 37s 60ms/step - loss: 0.7220 - accuracy: 0.7014 - val_loss: 0.8466 - val_accuracy: 0.6438\n",
      "Epoch 3/10\n",
      "623/623 [==============================] - 37s 60ms/step - loss: 0.4081 - accuracy: 0.8526 - val_loss: 1.0541 - val_accuracy: 0.6237\n",
      "Epoch 4/10\n",
      "623/623 [==============================] - 37s 60ms/step - loss: 0.2072 - accuracy: 0.9328 - val_loss: 1.3847 - val_accuracy: 0.5876\n",
      "Epoch 5/10\n",
      "623/623 [==============================] - ETA: 0s - loss: 0.1062 - accuracy: 0.9693Restoring model weights from the end of the best epoch: 2.\n",
      "623/623 [==============================] - 38s 61ms/step - loss: 0.1062 - accuracy: 0.9693 - val_loss: 1.7331 - val_accuracy: 0.5860\n",
      "Epoch 5: early stopping\n"
     ]
    }
   ],
   "source": [
    "# compile the model\n",
    "model.compile(optimizer=Adam(), loss='sparse_categorical_crossentropy', metrics=['accuracy'])\n",
    "\n",
    "# train the model\n",
    "history = model.fit(x_train, y_train, batch_size=16, epochs=10, validation_data=(x_val, y_val),\n",
    "          callbacks=[early_stopping])"
   ]
  },
  {
   "cell_type": "code",
   "execution_count": 127,
   "id": "0a313be4",
   "metadata": {},
   "outputs": [],
   "source": [
    "# save the trained model\n",
    "model.save('../transformer_classification_model.h5')"
   ]
  },
  {
   "cell_type": "code",
   "execution_count": 128,
   "id": "f7061ac5",
   "metadata": {},
   "outputs": [],
   "source": [
    "model = load_model('../transformer_classification_model.h5')"
   ]
  },
  {
   "cell_type": "code",
   "execution_count": 129,
   "id": "99ca71ea",
   "metadata": {},
   "outputs": [
    {
     "name": "stdout",
     "output_type": "stream",
     "text": [
      "78/78 [==============================] - 4s 44ms/step - loss: 0.8464 - accuracy: 0.6390\n",
      "Validation loss: 0.8464276194572449\n",
      "Validation accuracy: 0.6389891505241394\n"
     ]
    }
   ],
   "source": [
    "# Evaluate the model on validation data\n",
    "loss, accuracy = model.evaluate(x_val, y_val)\n",
    "print('Validation loss:', loss)\n",
    "print('Validation accuracy:', accuracy)"
   ]
  },
  {
   "cell_type": "code",
   "execution_count": 130,
   "id": "a7660750",
   "metadata": {},
   "outputs": [
    {
     "data": {
      "image/png": "[encoded data removed]",
      "text/plain": [
       "<Figure size 432x288 with 1 Axes>"
      ]
     },
     "metadata": {
      "needs_background": "light"
     },
     "output_type": "display_data"
    }
   ],
   "source": [
    "# plot the training and validation loss\n",
    "plt.plot(history.history['loss'], label='Training Loss')\n",
    "plt.plot(history.history['val_loss'], label='Validation Loss')\n",
    "plt.xlabel('Epoch')\n",
    "plt.ylabel('Loss')\n",
    "plt.legend()\n",
    "plt.show()"
   ]
  },
  {
   "cell_type": "code",
   "execution_count": null,
   "id": "4a5d4b45",
   "metadata": {},
   "outputs": [],
   "source": []
  }
 ],
 "metadata": {
  "kernelspec": {
   "display_name": "Python 3 (ipykernel)",
   "language": "python",
   "name": "python3"
  },
  "language_info": {
   "codemirror_mode": {
    "name": "ipython",
    "version": 3
   },
   "file_extension": ".py",
   "mimetype": "text/x-python",
   "name": "python",
   "nbconvert_exporter": "python",
   "pygments_lexer": "ipython3",
   "version": "3.9.12"
  }
 },
 "nbformat": 4,
 "nbformat_minor": 5
}
