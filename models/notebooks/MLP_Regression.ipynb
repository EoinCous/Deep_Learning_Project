{
 "cells": [
  {
   "cell_type": "markdown",
   "id": "92978309",
   "metadata": {},
   "source": [
    "# Multilayer Perceptron Regression Model\n",
    "Predicts the number of comments an article will get based on the article's topic, tone, length, hour of the day and day of the week"
   ]
  },
  {
   "cell_type": "code",
   "execution_count": 1,
   "id": "3569ea9c",
   "metadata": {},
   "outputs": [],
   "source": [
    "import tensorflow as tf\n",
    "from tensorflow.keras.models import Sequential\n",
    "from tensorflow.keras.layers import Dense, BatchNormalization, Dropout\n",
    "from sklearn.preprocessing import LabelEncoder\n",
    "from sklearn.model_selection import train_test_split\n",
    "from keras.callbacks import EarlyStopping\n",
    "import pandas as pd\n",
    "import numpy as np\n",
    "import matplotlib.pyplot as plt"
   ]
  },
  {
   "cell_type": "code",
   "execution_count": 2,
   "id": "94c47fab",
   "metadata": {},
   "outputs": [],
   "source": [
    "#Load training data\n",
    "train_df = pd.read_csv('../../data/regression_train.csv')\n",
    "\n",
    "# Extract the columns you want to use as input features\n",
    "columns = ['BERT_sentiment_score', 'normalised_word_count', 'pub_day', 'pub_hour', 'topic']\n",
    "# Extract input features from the dataframe\n",
    "x_train = np.array(train_df[columns])\n",
    "\n",
    "y_train = np.array(train_df['n_comments'])"
   ]
  },
  {
   "cell_type": "code",
   "execution_count": 3,
   "id": "01ce4a81",
   "metadata": {},
   "outputs": [],
   "source": [
    "# Training and validation split\n",
    "x_train, x_val, y_train, y_val = train_test_split(x_train, y_train, test_size=0.2, random_state=42)"
   ]
  },
  {
   "cell_type": "code",
   "execution_count": 7,
   "id": "86f9e323",
   "metadata": {},
   "outputs": [],
   "source": [
    "# Define the EarlyStopping callback\n",
    "early_stopping = EarlyStopping(monitor='val_loss', \n",
    "                               # Number of epochs to wait for improvement\n",
    "                               patience=20,  \n",
    "                               verbose=1, \n",
    "                               # Restore the weights of the best epoch\n",
    "                               restore_best_weights=True) "
   ]
  },
  {
   "cell_type": "code",
   "execution_count": 5,
   "id": "c83b4fe1",
   "metadata": {},
   "outputs": [],
   "source": [
    "# Hyperparameters\n",
    "num_features = 5\n",
    "dropout = 0.2"
   ]
  },
  {
   "cell_type": "code",
   "execution_count": 6,
   "id": "7d5b639f",
   "metadata": {},
   "outputs": [
    {
     "name": "stdout",
     "output_type": "stream",
     "text": [
      "Model: \"sequential\"\n",
      "_________________________________________________________________\n",
      " Layer (type)                Output Shape              Param #   \n",
      "=================================================================\n",
      " dense (Dense)               (None, 128)               768       \n",
      "                                                                 \n",
      " batch_normalization (BatchN  (None, 128)              512       \n",
      " ormalization)                                                   \n",
      "                                                                 \n",
      " dropout (Dropout)           (None, 128)               0         \n",
      "                                                                 \n",
      " dense_1 (Dense)             (None, 64)                8256      \n",
      "                                                                 \n",
      " batch_normalization_1 (Batc  (None, 64)               256       \n",
      " hNormalization)                                                 \n",
      "                                                                 \n",
      " dropout_1 (Dropout)         (None, 64)                0         \n",
      "                                                                 \n",
      " dense_2 (Dense)             (None, 32)                2080      \n",
      "                                                                 \n",
      " batch_normalization_2 (Batc  (None, 32)               128       \n",
      " hNormalization)                                                 \n",
      "                                                                 \n",
      " dropout_2 (Dropout)         (None, 32)                0         \n",
      "                                                                 \n",
      " dense_3 (Dense)             (None, 1)                 33        \n",
      "                                                                 \n",
      "=================================================================\n",
      "Total params: 12,033\n",
      "Trainable params: 11,585\n",
      "Non-trainable params: 448\n",
      "_________________________________________________________________\n"
     ]
    }
   ],
   "source": [
    "# Define MLP model architecture\n",
    "model = Sequential()\n",
    "# Input layer\n",
    "model.add(Dense(128, activation='relu', input_dim=num_features))\n",
    "model.add(BatchNormalization())\n",
    "model.add(Dropout(dropout))\n",
    "# Hidden layer\n",
    "model.add(Dense(64, activation='relu'))\n",
    "model.add(BatchNormalization())\n",
    "model.add(Dropout(dropout))\n",
    "# Hidden layer\n",
    "model.add(Dense(32, activation='relu'))\n",
    "model.add(BatchNormalization())\n",
    "model.add(Dropout(dropout))\n",
    "# Output layer\n",
    "model.add(Dense(1, activation='linear'))\n",
    "\n",
    "model.summary()"
   ]
  },
  {
   "cell_type": "code",
   "execution_count": 8,
   "id": "b5451755",
   "metadata": {},
   "outputs": [
    {
     "name": "stdout",
     "output_type": "stream",
     "text": [
      "Epoch 1/100\n",
      "250/250 [==============================] - 4s 7ms/step - loss: 377269.3750 - mae: 310.3787 - val_loss: 326116.6250 - val_mae: 286.8823\n",
      "Epoch 2/100\n",
      "250/250 [==============================] - 1s 5ms/step - loss: 368044.8125 - mae: 306.0775 - val_loss: 325429.1875 - val_mae: 292.5466\n",
      "Epoch 3/100\n",
      "250/250 [==============================] - 1s 5ms/step - loss: 353370.1562 - mae: 299.0577 - val_loss: 289437.6250 - val_mae: 269.5398\n",
      "Epoch 4/100\n",
      "250/250 [==============================] - 1s 5ms/step - loss: 334771.3125 - mae: 291.0420 - val_loss: 263884.0938 - val_mae: 267.0500\n",
      "Epoch 5/100\n",
      "250/250 [==============================] - 1s 5ms/step - loss: 315578.4062 - mae: 283.8432 - val_loss: 286364.8438 - val_mae: 270.4046\n",
      "Epoch 6/100\n",
      "250/250 [==============================] - 1s 5ms/step - loss: 297089.4688 - mae: 277.0158 - val_loss: 245093.6875 - val_mae: 265.4945\n",
      "Epoch 7/100\n",
      "250/250 [==============================] - 1s 5ms/step - loss: 282844.4375 - mae: 274.6254 - val_loss: 225119.6094 - val_mae: 265.6850\n",
      "Epoch 8/100\n",
      "250/250 [==============================] - 1s 5ms/step - loss: 270231.1562 - mae: 272.7556 - val_loss: 237891.3438 - val_mae: 246.4216\n",
      "Epoch 9/100\n",
      "250/250 [==============================] - 1s 6ms/step - loss: 261497.7656 - mae: 272.6024 - val_loss: 223022.1250 - val_mae: 251.9770\n",
      "Epoch 10/100\n",
      "250/250 [==============================] - 1s 5ms/step - loss: 253596.9531 - mae: 275.5169 - val_loss: 224198.5781 - val_mae: 252.7683\n",
      "Epoch 11/100\n",
      "250/250 [==============================] - 1s 6ms/step - loss: 246716.5000 - mae: 277.8674 - val_loss: 223983.1406 - val_mae: 311.8243\n",
      "Epoch 12/100\n",
      "250/250 [==============================] - 1s 5ms/step - loss: 244174.4375 - mae: 280.8271 - val_loss: 222399.0781 - val_mae: 252.2581\n",
      "Epoch 13/100\n",
      "250/250 [==============================] - 1s 5ms/step - loss: 242678.4688 - mae: 285.9759 - val_loss: 226496.0156 - val_mae: 325.8718\n",
      "Epoch 14/100\n",
      "250/250 [==============================] - 1s 5ms/step - loss: 245280.2656 - mae: 291.8495 - val_loss: 211671.5938 - val_mae: 267.6913\n",
      "Epoch 15/100\n",
      "250/250 [==============================] - 1s 5ms/step - loss: 244437.9844 - mae: 293.3072 - val_loss: 207252.0625 - val_mae: 260.0730\n",
      "Epoch 16/100\n",
      "250/250 [==============================] - 1s 5ms/step - loss: 240610.7969 - mae: 295.3393 - val_loss: 211894.1406 - val_mae: 255.5816\n",
      "Epoch 17/100\n",
      "250/250 [==============================] - 1s 5ms/step - loss: 238268.3125 - mae: 295.1198 - val_loss: 205274.6094 - val_mae: 285.3162\n",
      "Epoch 18/100\n",
      "250/250 [==============================] - 1s 5ms/step - loss: 239426.5000 - mae: 296.4198 - val_loss: 208126.2188 - val_mae: 281.3842\n",
      "Epoch 19/100\n",
      "250/250 [==============================] - 1s 5ms/step - loss: 238358.1406 - mae: 296.9080 - val_loss: 206801.5781 - val_mae: 290.5832\n",
      "Epoch 20/100\n",
      "250/250 [==============================] - 1s 5ms/step - loss: 235537.3750 - mae: 295.3288 - val_loss: 202067.1094 - val_mae: 268.5585\n",
      "Epoch 21/100\n",
      "250/250 [==============================] - 1s 5ms/step - loss: 237803.7812 - mae: 297.6207 - val_loss: 205940.7344 - val_mae: 274.3805\n",
      "Epoch 22/100\n",
      "250/250 [==============================] - 1s 5ms/step - loss: 237873.4062 - mae: 296.8875 - val_loss: 206070.3281 - val_mae: 264.1706\n",
      "Epoch 23/100\n",
      "250/250 [==============================] - 1s 6ms/step - loss: 236523.6719 - mae: 296.0731 - val_loss: 209701.4531 - val_mae: 278.1331\n",
      "Epoch 24/100\n",
      "250/250 [==============================] - 1s 5ms/step - loss: 235626.1406 - mae: 296.0565 - val_loss: 203146.7188 - val_mae: 276.6764\n",
      "Epoch 25/100\n",
      "250/250 [==============================] - 1s 5ms/step - loss: 235953.7656 - mae: 295.9712 - val_loss: 204449.9531 - val_mae: 275.5878\n",
      "Epoch 26/100\n",
      "250/250 [==============================] - 1s 5ms/step - loss: 235684.1719 - mae: 294.7801 - val_loss: 201408.9531 - val_mae: 278.5952\n",
      "Epoch 27/100\n",
      "250/250 [==============================] - 1s 5ms/step - loss: 234684.4844 - mae: 294.4355 - val_loss: 210333.0625 - val_mae: 257.3536\n",
      "Epoch 28/100\n",
      "250/250 [==============================] - 1s 5ms/step - loss: 235753.8594 - mae: 295.8202 - val_loss: 203709.8125 - val_mae: 288.4757\n",
      "Epoch 29/100\n",
      "250/250 [==============================] - 1s 5ms/step - loss: 234610.9375 - mae: 295.9692 - val_loss: 200561.3750 - val_mae: 282.0059\n",
      "Epoch 30/100\n",
      "250/250 [==============================] - 1s 5ms/step - loss: 236536.8906 - mae: 295.8422 - val_loss: 218907.4375 - val_mae: 253.3561\n",
      "Epoch 31/100\n",
      "250/250 [==============================] - 1s 5ms/step - loss: 235132.4844 - mae: 296.5156 - val_loss: 202436.0781 - val_mae: 277.2428\n",
      "Epoch 32/100\n",
      "250/250 [==============================] - 1s 5ms/step - loss: 232631.5469 - mae: 295.1319 - val_loss: 207864.4375 - val_mae: 288.0343\n",
      "Epoch 33/100\n",
      "250/250 [==============================] - 1s 5ms/step - loss: 233231.9531 - mae: 294.4304 - val_loss: 204677.9844 - val_mae: 297.8292\n",
      "Epoch 34/100\n",
      "250/250 [==============================] - 1s 5ms/step - loss: 232761.4219 - mae: 294.1492 - val_loss: 199751.5469 - val_mae: 266.7710\n",
      "Epoch 35/100\n",
      "250/250 [==============================] - 1s 6ms/step - loss: 234911.4844 - mae: 296.1039 - val_loss: 211264.7031 - val_mae: 256.3438\n",
      "Epoch 36/100\n",
      "250/250 [==============================] - 1s 5ms/step - loss: 234994.8750 - mae: 295.4383 - val_loss: 225800.4375 - val_mae: 333.8912\n",
      "Epoch 37/100\n",
      "250/250 [==============================] - 1s 5ms/step - loss: 234671.6875 - mae: 294.3157 - val_loss: 203940.5312 - val_mae: 278.7700\n",
      "Epoch 38/100\n",
      "250/250 [==============================] - 1s 5ms/step - loss: 232874.6406 - mae: 296.3488 - val_loss: 202702.5938 - val_mae: 288.3632\n",
      "Epoch 39/100\n",
      "250/250 [==============================] - 1s 5ms/step - loss: 236159.1875 - mae: 296.1608 - val_loss: 207677.8281 - val_mae: 257.3466\n",
      "Epoch 40/100\n",
      "250/250 [==============================] - 1s 5ms/step - loss: 234541.0156 - mae: 296.0764 - val_loss: 206365.1875 - val_mae: 261.5420\n",
      "Epoch 41/100\n",
      "250/250 [==============================] - 1s 5ms/step - loss: 234159.9219 - mae: 295.7769 - val_loss: 208760.1719 - val_mae: 259.6400\n",
      "Epoch 42/100\n",
      "250/250 [==============================] - 1s 5ms/step - loss: 235470.3594 - mae: 294.1607 - val_loss: 206524.2344 - val_mae: 263.9432\n",
      "Epoch 43/100\n",
      "250/250 [==============================] - 1s 5ms/step - loss: 234947.0312 - mae: 293.2069 - val_loss: 200037.9062 - val_mae: 269.9615\n",
      "Epoch 44/100\n",
      "250/250 [==============================] - 1s 5ms/step - loss: 231418.4062 - mae: 293.5163 - val_loss: 200794.9531 - val_mae: 262.0473\n",
      "Epoch 45/100\n",
      "250/250 [==============================] - 1s 5ms/step - loss: 237817.3750 - mae: 297.0967 - val_loss: 212273.3750 - val_mae: 259.0622\n",
      "Epoch 46/100\n",
      "250/250 [==============================] - 1s 5ms/step - loss: 234917.0625 - mae: 295.2277 - val_loss: 201535.4531 - val_mae: 265.1862\n",
      "Epoch 47/100\n",
      "250/250 [==============================] - 1s 6ms/step - loss: 235331.7500 - mae: 295.6172 - val_loss: 202779.0469 - val_mae: 293.0185\n",
      "Epoch 48/100\n",
      "250/250 [==============================] - 1s 6ms/step - loss: 235914.4844 - mae: 295.1287 - val_loss: 203413.8906 - val_mae: 261.0199\n",
      "Epoch 49/100\n",
      "250/250 [==============================] - 1s 5ms/step - loss: 231774.0469 - mae: 293.3774 - val_loss: 201148.6875 - val_mae: 271.4852\n",
      "Epoch 50/100\n",
      "250/250 [==============================] - 1s 5ms/step - loss: 232721.5000 - mae: 293.4048 - val_loss: 201299.5625 - val_mae: 266.6762\n",
      "Epoch 51/100\n",
      "250/250 [==============================] - 1s 5ms/step - loss: 232700.5469 - mae: 292.8071 - val_loss: 203010.5000 - val_mae: 287.7131\n",
      "Epoch 52/100\n",
      "250/250 [==============================] - 1s 5ms/step - loss: 232593.7969 - mae: 292.8701 - val_loss: 208297.9375 - val_mae: 269.7392\n",
      "Epoch 53/100\n",
      "250/250 [==============================] - 1s 5ms/step - loss: 231841.3438 - mae: 292.7996 - val_loss: 204371.6875 - val_mae: 294.7437\n",
      "Epoch 54/100\n",
      "249/250 [============================>.] - ETA: 0s - loss: 233075.6094 - mae: 294.0112Restoring model weights from the end of the best epoch: 34.\n",
      "250/250 [==============================] - 1s 5ms/step - loss: 233058.3906 - mae: 294.0257 - val_loss: 199955.2500 - val_mae: 264.2048\n",
      "Epoch 54: early stopping\n"
     ]
    }
   ],
   "source": [
    "# Compile the model\n",
    "model.compile(optimizer='adam', loss='mse', metrics=['mae'])\n",
    "\n",
    "# Train the model\n",
    "history = model.fit(x_train, y_train, batch_size=32, epochs=100, validation_data=(x_val, y_val), callbacks=[early_stopping])"
   ]
  },
  {
   "cell_type": "code",
   "execution_count": 12,
   "id": "b7315531",
   "metadata": {},
   "outputs": [
    {
     "data": {
      "image/png": "[encoded data removed]",
      "text/plain": [
       "<Figure size 432x288 with 1 Axes>"
      ]
     },
     "metadata": {
      "needs_background": "light"
     },
     "output_type": "display_data"
    }
   ],
   "source": [
    "# plot the training and validation loss\n",
    "plt.plot(history.history['mae'], label='Training MAE')\n",
    "plt.plot(history.history['val_mae'], label='Validation MAE')\n",
    "plt.xlabel('Epoch')\n",
    "plt.ylabel('Mean Absolute Error')\n",
    "plt.legend()\n",
    "plt.show()"
   ]
  },
  {
   "cell_type": "code",
   "execution_count": 8,
   "id": "15889f67",
   "metadata": {},
   "outputs": [],
   "source": [
    "# save the trained model\n",
    "model.save('../../models/MLP_regression_model.h5')"
   ]
  },
  {
   "cell_type": "code",
   "execution_count": 11,
   "id": "c9f2cc93",
   "metadata": {},
   "outputs": [
    {
     "name": "stdout",
     "output_type": "stream",
     "text": [
      "63/63 [==============================] - 0s 3ms/step - loss: 199751.5469 - mae: 266.7710\n",
      "Validation MSE: 199751.546875\n",
      "Validation MAE: 266.77099609375\n"
     ]
    }
   ],
   "source": [
    "# Evaluate the model on validation data\n",
    "mse, mae = model.evaluate(x_val, y_val)\n",
    "print('Validation MSE:', mse)\n",
    "print('Validation MAE:', mae)"
   ]
  },
  {
   "cell_type": "code",
   "execution_count": null,
   "id": "bd033d85",
   "metadata": {},
   "outputs": [],
   "source": []
  }
 ],
 "metadata": {
  "kernelspec": {
   "display_name": "Python 3 (ipykernel)",
   "language": "python",
   "name": "python3"
  },
  "language_info": {
   "codemirror_mode": {
    "name": "ipython",
    "version": 3
   },
   "file_extension": ".py",
   "mimetype": "text/x-python",
   "name": "python",
   "nbconvert_exporter": "python",
   "pygments_lexer": "ipython3",
   "version": "3.9.12"
  }
 },
 "nbformat": 4,
 "nbformat_minor": 5
}
