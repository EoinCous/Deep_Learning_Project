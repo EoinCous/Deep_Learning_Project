{
 "cells": [
  {
   "cell_type": "markdown",
   "id": "bbdea839",
   "metadata": {},
   "source": [
    "# Classification Task Comparison"
   ]
  },
  {
   "cell_type": "code",
   "execution_count": 11,
   "id": "2d8c9705",
   "metadata": {},
   "outputs": [],
   "source": [
    "from keras.models import load_model\n",
    "from tensorflow.keras.preprocessing.sequence import pad_sequences\n",
    "import pandas as pd\n",
    "import numpy as np\n",
    "from sklearn.metrics import confusion_matrix, f1_score\n",
    "import matplotlib.pyplot as plt\n",
    "import seaborn as sns"
   ]
  },
  {
   "cell_type": "code",
   "execution_count": 12,
   "id": "9647c796",
   "metadata": {},
   "outputs": [],
   "source": [
    "# Load the models\n",
    "transformer_model = load_model('../models/transformer_classification_model.h5')\n",
    "RNN_model = load_model('../models/RNN_classification_model.h5')"
   ]
  },
  {
   "cell_type": "code",
   "execution_count": 13,
   "id": "844945a3",
   "metadata": {},
   "outputs": [],
   "source": [
    "# Load data\n",
    "train_df = pd.read_csv('../data/cleaned_train.csv')\n",
    "x_train = train_df['numerical_sequence'].apply(lambda x: [int(i) for i in x.split(',')])\n",
    "\n",
    "test_df = pd.read_csv('../data/cleaned_test.csv')\n",
    "x_test = np.array(test_df['numerical_sequence'].apply(lambda x: [int(i) for i in x.split(',')]))\n",
    "y_test = np.array(test_df['BERT_sentiment_score'])"
   ]
  },
  {
   "cell_type": "code",
   "execution_count": 14,
   "id": "4c84cb4e",
   "metadata": {},
   "outputs": [],
   "source": [
    "# Get the longest sequence\n",
    "max_length = max([len(seq) for seq in x_test] + [len(seq) for seq in x_train])\n",
    "# Pad sequences with zeros ro have the same length\n",
    "x_test = pad_sequences(x_test, maxlen= max_length, padding='post', truncating='post')"
   ]
  },
  {
   "cell_type": "code",
   "execution_count": 15,
   "id": "6e2d10e5",
   "metadata": {},
   "outputs": [
    {
     "name": "stdout",
     "output_type": "stream",
     "text": [
      "122/122 [==============================] - 6s 45ms/step\n",
      "122/122 [==============================] - 17s 116ms/step\n"
     ]
    }
   ],
   "source": [
    "# Get predictions for the Transformer model\n",
    "transformer_pred = transformer_model.predict(x_test)\n",
    "transformer_pred_classes = np.argmax(transformer_pred, axis=1)\n",
    "\n",
    "# Get predictions for the RNN model\n",
    "RNN_pred = RNN_model.predict(x_test)\n",
    "RNN_pred_classes = np.argmax(RNN_pred, axis=1)"
   ]
  },
  {
   "cell_type": "code",
   "execution_count": 16,
   "id": "18bfd492",
   "metadata": {},
   "outputs": [
    {
     "name": "stdout",
     "output_type": "stream",
     "text": [
      "122/122 [==============================] - 26s 186ms/step - loss: 1.2147 - accuracy: 0.5944\n",
      "Loss: 1.2147153615951538\n",
      "Accuracy: 0.5943712592124939\n",
      "F1 score:  0.5851135267661974\n"
     ]
    }
   ],
   "source": [
    "loss, accuracy = RNN_model.evaluate(x_test, y_test)\n",
    "# Calculate F1 score for Transformer model\n",
    "transformer_f1 = f1_score(y_test, transformer_pred_classes, average='weighted')\n",
    "\n",
    "print('Loss:', loss)\n",
    "print('Accuracy:', accuracy)\n",
    "print('F1 score: ', transformer_f1)"
   ]
  },
  {
   "cell_type": "code",
   "execution_count": 17,
   "id": "d6c48fb6",
   "metadata": {},
   "outputs": [
    {
     "name": "stdout",
     "output_type": "stream",
     "text": [
      "122/122 [==============================] - 6s 47ms/step - loss: 0.9374 - accuracy: 0.6016\n",
      "Loss: 0.9374011158943176\n",
      "Accuracy: 0.6016008257865906\n",
      "F1 score:  0.5863602477282454\n"
     ]
    }
   ],
   "source": [
    "loss, accuracy = transformer_model.evaluate(x_test, y_test)\n",
    "# Calculate F1 score for RNN model\n",
    "RNN_f1 = f1_score(y_test, RNN_pred_classes, average='weighted')\n",
    "\n",
    "print('Loss:', loss)\n",
    "print('Accuracy:', accuracy)\n",
    "print('F1 score: ', RNN_f1)"
   ]
  },
  {
   "cell_type": "code",
   "execution_count": 18,
   "id": "d7fa2894",
   "metadata": {},
   "outputs": [],
   "source": [
    "# Create confusion matrices\n",
    "transformer_cm = confusion_matrix(y_test, transformer_pred_classes)\n",
    "RNN_cm = confusion_matrix(y_test, RNN_pred_classes)"
   ]
  },
  {
   "cell_type": "code",
   "execution_count": 22,
   "id": "75c3c188",
   "metadata": {},
   "outputs": [
    {
     "name": "stdout",
     "output_type": "stream",
     "text": [
      "[[1183  104  153]\n",
      " [ 405  318  270]\n",
      " [ 453  159  828]]\n",
      "[[1099  203  138]\n",
      " [ 356  356  281]\n",
      " [ 347  246  847]]\n"
     ]
    }
   ],
   "source": [
    "print(transformer_cm)\n",
    "print(RNN_cm)"
   ]
  },
  {
   "cell_type": "code",
   "execution_count": 19,
   "id": "a88dc409",
   "metadata": {},
   "outputs": [
    {
     "data": {
      "image/png": "[encoded data removed]",
      "text/plain": [
       "<Figure size 432x288 with 2 Axes>"
      ]
     },
     "metadata": {
      "needs_background": "light"
     },
     "output_type": "display_data"
    }
   ],
   "source": [
    "# Plot confusion matrices\n",
    "sns.heatmap(transformer_cm, annot=True, fmt='d', cmap='Blues')\n",
    "plt.title('Transformer Confusion Matrix')\n",
    "plt.xlabel('Predicted')\n",
    "plt.ylabel('True')\n",
    "plt.show()"
   ]
  },
  {
   "cell_type": "code",
   "execution_count": 20,
   "id": "ba56fab7",
   "metadata": {},
   "outputs": [
    {
     "data": {
      "image/png": "[encoded data removed]",
      "text/plain": [
       "<Figure size 432x288 with 2 Axes>"
      ]
     },
     "metadata": {
      "needs_background": "light"
     },
     "output_type": "display_data"
    }
   ],
   "source": [
    "sns.heatmap(RNN_cm, annot=True, fmt='d', cmap='Blues')\n",
    "plt.title('RNN Confusion Matrix')\n",
    "plt.xlabel('Predicted')\n",
    "plt.ylabel('True')\n",
    "plt.show()"
   ]
  },
  {
   "cell_type": "code",
   "execution_count": null,
   "id": "ace2aec3",
   "metadata": {},
   "outputs": [],
   "source": []
  }
 ],
 "metadata": {
  "kernelspec": {
   "display_name": "Python 3 (ipykernel)",
   "language": "python",
   "name": "python3"
  },
  "language_info": {
   "codemirror_mode": {
    "name": "ipython",
    "version": 3
   },
   "file_extension": ".py",
   "mimetype": "text/x-python",
   "name": "python",
   "nbconvert_exporter": "python",
   "pygments_lexer": "ipython3",
   "version": "3.9.12"
  }
 },
 "nbformat": 4,
 "nbformat_minor": 5
}
