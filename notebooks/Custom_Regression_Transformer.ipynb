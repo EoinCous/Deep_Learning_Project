{
 "cells": [
  {
   "cell_type": "code",
   "execution_count": 66,
   "id": "7f2b6f26",
   "metadata": {},
   "outputs": [],
   "source": [
    "import tensorflow as tf\n",
    "from keras.layers import MultiHeadAttention, LayerNormalization, Dropout, Layer\n",
    "from keras.layers import Embedding, Input, GlobalAveragePooling1D, Dense, Flatten\n",
    "from keras.datasets import imdb\n",
    "from keras.models import Sequential, Model\n",
    "from keras.callbacks import EarlyStopping\n",
    "from tensorflow.keras.optimizers import Adam\n",
    "import pandas as pd\n",
    "import numpy as np\n",
    "from sklearn.preprocessing import LabelEncoder\n",
    "import warnings\n",
    "\n",
    "warnings.filterwarnings(\"ignore\", category=np.VisibleDeprecationWarning)"
   ]
  },
  {
   "cell_type": "code",
   "execution_count": 67,
   "id": "b02a2f16",
   "metadata": {},
   "outputs": [],
   "source": [
    "def transformer_block(embed_dim, num_heads, ff_dim, dropout_rate):\n",
    "    att = MultiHeadAttention(num_heads=num_heads, key_dim=embed_dim)\n",
    "    ffn = Sequential(\n",
    "        [Dense(ff_dim, activation=\"relu\"),\n",
    "         Dense(embed_dim), ]\n",
    "    )\n",
    "    layernorm1 = LayerNormalization(epsilon=1e-6)\n",
    "    layernorm2 = LayerNormalization(epsilon=1e-6)\n",
    "    dropout1 = Dropout(dropout_rate)\n",
    "    dropout2 = Dropout(dropout_rate)\n",
    "    \n",
    "    def call(inputs, training):\n",
    "        attn_output = att(inputs, inputs)\n",
    "        attn_output = dropout1(attn_output, training=training)\n",
    "        out1 = layernorm1(inputs + attn_output)\n",
    "        ffn_output = ffn(out1)\n",
    "        ffn_output = dropout2(ffn_output, training=training)\n",
    "        return layernorm2(out1 + ffn_output)\n",
    "    \n",
    "    return call"
   ]
  },
  {
   "cell_type": "code",
   "execution_count": 68,
   "id": "fa52cc9d",
   "metadata": {},
   "outputs": [],
   "source": [
    "#Load training data\n",
    "train_df = pd.read_csv('../data/cleaned_train.csv')\n",
    "\n",
    "# Extract the columns you want to use as input features\n",
    "columns = ['BERT_sentiment_score', 'normalised_word_count', 'pub_day', 'pub_hour']\n",
    "# Extract input features from the dataframe\n",
    "x_train = np.array(train_df[columns].dropna())\n",
    "\n",
    "y_train = np.array(train_df['n_comments'])"
   ]
  },
  {
   "cell_type": "code",
   "execution_count": 69,
   "id": "c38a9578",
   "metadata": {},
   "outputs": [],
   "source": [
    "#Load test data\n",
    "test_df = pd.read_csv('../data/cleaned_test.csv')\n",
    "\n",
    "x_test = np.array(test_df[columns].dropna())"
   ]
  },
  {
   "cell_type": "code",
   "execution_count": 70,
   "id": "b4e430dc",
   "metadata": {},
   "outputs": [],
   "source": [
    "def label_encode(raw_data):\n",
    "    # Concatenate train and test data vertically to ensure consistent label encoding\n",
    "    combined_df = pd.concat([train_df['topic'], test_df['topic']], axis=0)\n",
    "\n",
    "    # Create an instance of LabelEncoder\n",
    "    le = LabelEncoder()\n",
    "\n",
    "    # Fit and transform the combined data using LabelEncoder\n",
    "    combined_encoded = le.fit_transform(combined_df)\n",
    "    \n",
    "    return np.array(le.transform(raw_data.dropna()))"
   ]
  },
  {
   "cell_type": "code",
   "execution_count": 71,
   "id": "91b8370e",
   "metadata": {},
   "outputs": [],
   "source": [
    "# Apply the LabelEncoder transformation on train data\n",
    "train_topic_encoded = pd.DataFrame(label_encode(train_df['topic']), columns=['topic encoded'])\n",
    "# Concatenate the 'topic_encoded' tensor with the other input features\n",
    "x_train = np.concatenate((x_train, train_topic_encoded), axis=1)"
   ]
  },
  {
   "cell_type": "code",
   "execution_count": 72,
   "id": "e2f4ea99",
   "metadata": {},
   "outputs": [],
   "source": [
    "# Apply the LabelEncoder transformation on train data\n",
    "test_topic_encoded = pd.DataFrame(label_encode(test_df['topic']), columns=['topic encoded'])\n",
    "# Concatenate the 'topic_encoded' tensor with the other input features\n",
    "x_test = np.concatenate([x_test, test_topic_encoded], axis=1)"
   ]
  },
  {
   "cell_type": "code",
   "execution_count": 73,
   "id": "989a30c0",
   "metadata": {},
   "outputs": [],
   "source": [
    "# Define the EarlyStopping callback\n",
    "early_stopping = EarlyStopping(monitor='val_mae', \n",
    "                               # Number of epochs to wait for improvement\n",
    "                               patience=10,  \n",
    "                               verbose=1, \n",
    "                               # Restore the weights of the best epoch\n",
    "                               restore_best_weights=True)  "
   ]
  },
  {
   "cell_type": "code",
   "execution_count": 74,
   "id": "b467f89f",
   "metadata": {},
   "outputs": [
    {
     "name": "stdout",
     "output_type": "stream",
     "text": [
      "Epoch 1/100\n",
      "156/156 [==============================] - 2s 7ms/step - loss: 375893.6875 - mae: 300.6873 - val_loss: 318976.8750 - val_mae: 277.6093\n",
      "Epoch 2/100\n",
      "156/156 [==============================] - 1s 5ms/step - loss: 368783.4688 - mae: 293.9716 - val_loss: 310986.8438 - val_mae: 270.4387\n",
      "Epoch 3/100\n",
      "156/156 [==============================] - 1s 6ms/step - loss: 358724.6875 - mae: 287.5089 - val_loss: 300478.9062 - val_mae: 263.9179\n",
      "Epoch 4/100\n",
      "156/156 [==============================] - 1s 6ms/step - loss: 346626.2500 - mae: 282.8741 - val_loss: 288888.4375 - val_mae: 259.9121\n",
      "Epoch 5/100\n",
      "156/156 [==============================] - 1s 5ms/step - loss: 333807.7812 - mae: 279.5728 - val_loss: 276878.2500 - val_mae: 253.4381\n",
      "Epoch 6/100\n",
      "156/156 [==============================] - 1s 5ms/step - loss: 320481.6875 - mae: 274.6079 - val_loss: 264930.2500 - val_mae: 251.3798\n",
      "Epoch 7/100\n",
      "156/156 [==============================] - 1s 5ms/step - loss: 307653.8750 - mae: 272.8229 - val_loss: 254080.9688 - val_mae: 247.9370\n",
      "Epoch 8/100\n",
      "156/156 [==============================] - 1s 5ms/step - loss: 295845.8125 - mae: 272.1413 - val_loss: 244703.4688 - val_mae: 248.5215\n",
      "Epoch 9/100\n",
      "156/156 [==============================] - 1s 6ms/step - loss: 285116.0312 - mae: 269.5396 - val_loss: 234569.9844 - val_mae: 237.7808\n",
      "Epoch 10/100\n",
      "156/156 [==============================] - 1s 7ms/step - loss: 273430.2812 - mae: 261.6373 - val_loss: 224921.0312 - val_mae: 235.5201\n",
      "Epoch 11/100\n",
      "156/156 [==============================] - 1s 6ms/step - loss: 262286.0938 - mae: 258.1108 - val_loss: 216885.0938 - val_mae: 230.2425\n",
      "Epoch 12/100\n",
      "156/156 [==============================] - 1s 6ms/step - loss: 252124.6094 - mae: 254.7963 - val_loss: 208984.0469 - val_mae: 229.5190\n",
      "Epoch 13/100\n",
      "156/156 [==============================] - 1s 6ms/step - loss: 243485.2969 - mae: 253.4168 - val_loss: 202220.2188 - val_mae: 230.2710\n",
      "Epoch 14/100\n",
      "156/156 [==============================] - 1s 6ms/step - loss: 235766.5000 - mae: 252.1442 - val_loss: 196788.9375 - val_mae: 229.3042\n",
      "Epoch 15/100\n",
      "156/156 [==============================] - 1s 6ms/step - loss: 229442.0781 - mae: 250.8056 - val_loss: 192317.0938 - val_mae: 236.0641\n",
      "Epoch 16/100\n",
      "156/156 [==============================] - 1s 6ms/step - loss: 223571.7031 - mae: 249.5181 - val_loss: 187625.1562 - val_mae: 233.1251\n",
      "Epoch 17/100\n",
      "156/156 [==============================] - 1s 5ms/step - loss: 217780.0000 - mae: 247.5694 - val_loss: 184683.0625 - val_mae: 234.4516\n",
      "Epoch 18/100\n",
      "156/156 [==============================] - 1s 5ms/step - loss: 213812.6719 - mae: 246.9821 - val_loss: 181841.3594 - val_mae: 231.7905\n",
      "Epoch 19/100\n",
      "156/156 [==============================] - 1s 5ms/step - loss: 210975.0938 - mae: 248.3818 - val_loss: 180298.5156 - val_mae: 226.7216\n",
      "Epoch 20/100\n",
      "156/156 [==============================] - 1s 5ms/step - loss: 208012.1094 - mae: 247.5846 - val_loss: 179167.9844 - val_mae: 236.0969\n",
      "Epoch 21/100\n",
      "156/156 [==============================] - 1s 5ms/step - loss: 205711.5938 - mae: 248.5257 - val_loss: 178671.4219 - val_mae: 231.3419\n",
      "Epoch 22/100\n",
      "156/156 [==============================] - 1s 5ms/step - loss: 203829.7031 - mae: 247.9515 - val_loss: 178700.3750 - val_mae: 239.2472\n",
      "Epoch 23/100\n",
      "156/156 [==============================] - 1s 5ms/step - loss: 202215.8125 - mae: 248.6107 - val_loss: 175341.3438 - val_mae: 231.6273\n",
      "Epoch 24/100\n",
      "156/156 [==============================] - 1s 5ms/step - loss: 201869.0625 - mae: 247.8886 - val_loss: 171929.1250 - val_mae: 227.4208\n",
      "Epoch 25/100\n",
      "156/156 [==============================] - 1s 5ms/step - loss: 199527.8281 - mae: 246.4545 - val_loss: 173664.8906 - val_mae: 230.5079\n",
      "Epoch 26/100\n",
      "156/156 [==============================] - 1s 5ms/step - loss: 199790.7344 - mae: 247.8321 - val_loss: 178180.8281 - val_mae: 244.0231\n",
      "Epoch 27/100\n",
      "156/156 [==============================] - 1s 5ms/step - loss: 197836.4688 - mae: 247.4060 - val_loss: 169353.1562 - val_mae: 234.2851\n",
      "Epoch 28/100\n",
      "156/156 [==============================] - 1s 6ms/step - loss: 197259.3125 - mae: 246.9218 - val_loss: 171653.1719 - val_mae: 237.3600\n",
      "Epoch 29/100\n",
      "151/156 [============================>.] - ETA: 0s - loss: 198986.7656 - mae: 248.8356Restoring model weights from the end of the best epoch: 19.\n",
      "156/156 [==============================] - 1s 6ms/step - loss: 198076.7500 - mae: 248.4241 - val_loss: 168873.0000 - val_mae: 228.5931\n",
      "Epoch 29: early stopping\n"
     ]
    },
    {
     "data": {
      "text/plain": [
       "<keras.callbacks.History at 0x27fbeb24790>"
      ]
     },
     "execution_count": 74,
     "metadata": {},
     "output_type": "execute_result"
    }
   ],
   "source": [
    "# Define model architecture\n",
    "max_seq_length = x_train.shape[1]\n",
    "vocab_size = int(np.max(x_train) + 1)\n",
    "embedding_dim = 32\n",
    "num_heads = 2\n",
    "ff_dim = 32\n",
    "dropout_rate = 0.1\n",
    "\n",
    "inputs = Input(shape=(max_seq_length,))\n",
    "embedding_layer = Embedding(input_dim=vocab_size, output_dim=embedding_dim, input_length=max_seq_length)(inputs)\n",
    "transformer_block_fn = transformer_block(embed_dim=embedding_dim, \n",
    "                                         num_heads=num_heads, ff_dim=ff_dim, \n",
    "                                         dropout_rate=dropout_rate)\n",
    "transformer_block = transformer_block_fn(embedding_layer, training=True)\n",
    "pooling_layer = GlobalAveragePooling1D()(transformer_block)\n",
    "dropout_layer = Dropout(rate=0.1)(pooling_layer)\n",
    "outputs = Dense(units=1, activation='linear')(dropout_layer)  # Change activation to 'linear' for regression\n",
    "\n",
    "model = Model(inputs=inputs, outputs=outputs)\n",
    "\n",
    "# Compile the model\n",
    "model.compile(optimizer=Adam(), loss='mse', metrics=['mae'])  # Change loss function to 'mse' for regression\n",
    "\n",
    "# Train the model\n",
    "model.fit(x_train, y_train, batch_size=64, epochs=100, validation_split=0.2, \n",
    "          callbacks=[early_stopping])"
   ]
  },
  {
   "cell_type": "code",
   "execution_count": 75,
   "id": "585304a1",
   "metadata": {},
   "outputs": [],
   "source": [
    "# save the trained model\n",
    "model.save('../models/transformer_regression_model.h5')"
   ]
  },
  {
   "cell_type": "code",
   "execution_count": 76,
   "id": "d563f661",
   "metadata": {},
   "outputs": [
    {
     "name": "stdout",
     "output_type": "stream",
     "text": [
      "122/122 [==============================] - 0s 2ms/step\n"
     ]
    }
   ],
   "source": [
    "y_pred = model.predict(x_test)"
   ]
  },
  {
   "cell_type": "code",
   "execution_count": 80,
   "id": "ac5bca58",
   "metadata": {},
   "outputs": [
    {
     "data": {
      "text/plain": [
       "array([286.4306], dtype=float32)"
      ]
     },
     "execution_count": 80,
     "metadata": {},
     "output_type": "execute_result"
    }
   ],
   "source": [
    "y_pred[12]"
   ]
  },
  {
   "cell_type": "code",
   "execution_count": null,
   "id": "9ea41546",
   "metadata": {},
   "outputs": [],
   "source": []
  }
 ],
 "metadata": {
  "kernelspec": {
   "display_name": "Python 3 (ipykernel)",
   "language": "python",
   "name": "python3"
  },
  "language_info": {
   "codemirror_mode": {
    "name": "ipython",
    "version": 3
   },
   "file_extension": ".py",
   "mimetype": "text/x-python",
   "name": "python",
   "nbconvert_exporter": "python",
   "pygments_lexer": "ipython3",
   "version": "3.9.12"
  }
 },
 "nbformat": 4,
 "nbformat_minor": 5
}
