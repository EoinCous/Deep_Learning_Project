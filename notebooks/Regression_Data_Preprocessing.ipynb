{
 "cells": [
  {
   "cell_type": "code",
   "execution_count": 52,
   "id": "77677d42",
   "metadata": {},
   "outputs": [],
   "source": [
    "import pandas as pd\n",
    "import numpy as np\n",
    "from sklearn.preprocessing import LabelEncoder\n",
    "from sklearn.model_selection import train_test_split\n",
    "from keras.callbacks import EarlyStopping\n",
    "from keras.models import load_model"
   ]
  },
  {
   "cell_type": "code",
   "execution_count": 53,
   "id": "cac9ed4e",
   "metadata": {},
   "outputs": [],
   "source": [
    "#Load training data\n",
    "train_df = pd.read_csv('../data/cleaned_train.csv')\n",
    "\n",
    "# Extract the columns you want to use as input features\n",
    "columns = ['BERT_sentiment_score', 'normalised_word_count', 'pub_day', 'pub_hour']\n",
    "# Extract input features from the dataframe\n",
    "x_train = np.array(train_df[columns].dropna())\n",
    "\n",
    "y_train = np.array(train_df['n_comments'].dropna())"
   ]
  },
  {
   "cell_type": "code",
   "execution_count": 54,
   "id": "1fe2e659",
   "metadata": {},
   "outputs": [],
   "source": [
    "def label_encode(raw_data):\n",
    "    # Create an instance of LabelEncoder\n",
    "    le = LabelEncoder()\n",
    "\n",
    "    le.fit_transform(train_df['topic'])\n",
    "    \n",
    "    return np.array(le.transform(raw_data.dropna()))"
   ]
  },
  {
   "cell_type": "code",
   "execution_count": 55,
   "id": "74f53d6c",
   "metadata": {},
   "outputs": [],
   "source": [
    "# Apply the LabelEncoder transformation on train data\n",
    "train_topic_encoded = pd.DataFrame(label_encode(train_df['topic']), columns=['topic encoded'])\n",
    "# Concatenate the 'topic_encoded' tensor with the other input features\n",
    "x_train = np.concatenate((x_train, train_topic_encoded), axis=1)"
   ]
  },
  {
   "cell_type": "code",
   "execution_count": 56,
   "id": "0a5ee936",
   "metadata": {},
   "outputs": [],
   "source": [
    "# Training and test split\n",
    "x_train, x_test, y_train, y_test = train_test_split(x_train, y_train, test_size=0.2, random_state=42)"
   ]
  },
  {
   "cell_type": "code",
   "execution_count": 57,
   "id": "f1a39c1e",
   "metadata": {},
   "outputs": [],
   "source": [
    "# create DataFrame with x_test and y_test\n",
    "test_df = pd.DataFrame(data=x_test, columns=['BERT_sentiment_score', 'normalised_word_count', 'pub_day', 'pub_hour', 'topic'])\n",
    "test_df['n_comments'] = y_test\n",
    "\n",
    "# reset index\n",
    "test_df = test_df.reset_index(drop=True)\n",
    "\n",
    "# save the dataframe to a CSV file\n",
    "test_df.to_csv('../data/regression_test_data.csv', index=False)"
   ]
  },
  {
   "cell_type": "code",
   "execution_count": 58,
   "id": "38f43f9d",
   "metadata": {},
   "outputs": [],
   "source": [
    "# create DataFrame with x_test and y_test\n",
    "train_df = pd.DataFrame(data=x_train, columns=['BERT_sentiment_score', 'normalised_word_count', 'pub_day', 'pub_hour', 'topic'])\n",
    "train_df['n_comments'] = y_train\n",
    "\n",
    "# reset index\n",
    "train_df = train_df.reset_index(drop=True)\n",
    "\n",
    "# save the dataframe to a CSV file\n",
    "train_df.to_csv('../data/regression_train_data.csv', index=False)"
   ]
  },
  {
   "cell_type": "code",
   "execution_count": null,
   "id": "c8ddda9b",
   "metadata": {},
   "outputs": [],
   "source": []
  }
 ],
 "metadata": {
  "kernelspec": {
   "display_name": "Python 3 (ipykernel)",
   "language": "python",
   "name": "python3"
  },
  "language_info": {
   "codemirror_mode": {
    "name": "ipython",
    "version": 3
   },
   "file_extension": ".py",
   "mimetype": "text/x-python",
   "name": "python",
   "nbconvert_exporter": "python",
   "pygments_lexer": "ipython3",
   "version": "3.9.12"
  }
 },
 "nbformat": 4,
 "nbformat_minor": 5
}
