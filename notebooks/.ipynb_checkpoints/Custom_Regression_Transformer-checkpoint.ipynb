{
 "cells": [
  {
   "cell_type": "code",
   "execution_count": 18,
   "id": "7f2b6f26",
   "metadata": {},
   "outputs": [],
   "source": [
    "import tensorflow as tf\n",
    "from keras.layers import MultiHeadAttention, LayerNormalization, Dropout, Layer\n",
    "from keras.layers import Embedding, Input, GlobalAveragePooling1D, Dense, Flatten\n",
    "from keras.datasets import imdb\n",
    "from keras.models import Sequential, Model\n",
    "from keras.callbacks import EarlyStopping\n",
    "from tensorflow.keras.optimizers import Adam\n",
    "import pandas as pd\n",
    "import numpy as np\n",
    "from sklearn.preprocessing import LabelEncoder\n",
    "from sklearn.model_selection import train_test_split\n",
    "import warnings\n",
    "\n",
    "warnings.filterwarnings(\"ignore\", category=np.VisibleDeprecationWarning)"
   ]
  },
  {
   "cell_type": "code",
   "execution_count": 19,
   "id": "b02a2f16",
   "metadata": {},
   "outputs": [],
   "source": [
    "def transformer_block(embed_dim, num_heads, ff_dim, dropout_rate):\n",
    "    att = MultiHeadAttention(num_heads=num_heads, key_dim=embed_dim)\n",
    "    ffn = Sequential(\n",
    "        [Dense(ff_dim, activation=\"relu\"),\n",
    "         Dense(embed_dim), ]\n",
    "    )\n",
    "    layernorm1 = LayerNormalization(epsilon=1e-6)\n",
    "    layernorm2 = LayerNormalization(epsilon=1e-6)\n",
    "    dropout1 = Dropout(dropout_rate)\n",
    "    dropout2 = Dropout(dropout_rate)\n",
    "    \n",
    "    def call(inputs, training):\n",
    "        attn_output = att(inputs, inputs)\n",
    "        attn_output = dropout1(attn_output, training=training)\n",
    "        out1 = layernorm1(inputs + attn_output)\n",
    "        ffn_output = ffn(out1)\n",
    "        ffn_output = dropout2(ffn_output, training=training)\n",
    "        return layernorm2(out1 + ffn_output)\n",
    "    \n",
    "    return call"
   ]
  },
  {
   "cell_type": "code",
   "execution_count": 20,
   "id": "fa52cc9d",
   "metadata": {},
   "outputs": [],
   "source": [
    "#Load training data\n",
    "train_df = pd.read_csv('../data/cleaned_train.csv')\n",
    "\n",
    "# Extract the columns you want to use as input features\n",
    "columns = ['BERT_sentiment_score', 'normalised_word_count', 'pub_day', 'pub_hour']\n",
    "# Extract input features from the dataframe\n",
    "x_train = np.array(train_df[columns].dropna())\n",
    "\n",
    "y_train = np.array(train_df['n_comments'].dropna())"
   ]
  },
  {
   "cell_type": "code",
   "execution_count": 21,
   "id": "c38a9578",
   "metadata": {},
   "outputs": [],
   "source": [
    "#Load test data\n",
    "test_df = pd.read_csv('../data/cleaned_test.csv')\n",
    "\n",
    "x_test = np.array(test_df[columns].dropna())"
   ]
  },
  {
   "cell_type": "code",
   "execution_count": 22,
   "id": "b4e430dc",
   "metadata": {},
   "outputs": [],
   "source": [
    "def label_encode(raw_data):\n",
    "    # Concatenate train and test data vertically to ensure consistent label encoding\n",
    "    combined_df = pd.concat([train_df['topic'], test_df['topic']], axis=0)\n",
    "\n",
    "    # Create an instance of LabelEncoder\n",
    "    le = LabelEncoder()\n",
    "\n",
    "    # Fit and transform the combined data using LabelEncoder\n",
    "    combined_encoded = le.fit_transform(combined_df)\n",
    "    \n",
    "    return np.array(le.transform(raw_data.dropna()))"
   ]
  },
  {
   "cell_type": "code",
   "execution_count": 23,
   "id": "91b8370e",
   "metadata": {},
   "outputs": [],
   "source": [
    "# Apply the LabelEncoder transformation on train data\n",
    "train_topic_encoded = pd.DataFrame(label_encode(train_df['topic']), columns=['topic encoded'])\n",
    "# Concatenate the 'topic_encoded' tensor with the other input features\n",
    "x_train = np.concatenate((x_train, train_topic_encoded), axis=1)"
   ]
  },
  {
   "cell_type": "code",
   "execution_count": 24,
   "id": "e2f4ea99",
   "metadata": {},
   "outputs": [],
   "source": [
    "# Apply the LabelEncoder transformation on train data\n",
    "test_topic_encoded = pd.DataFrame(label_encode(test_df['topic']), columns=['topic encoded'])\n",
    "# Concatenate the 'topic_encoded' tensor with the other input features\n",
    "x_test = np.concatenate([x_test, test_topic_encoded], axis=1)"
   ]
  },
  {
   "cell_type": "code",
   "execution_count": 25,
   "id": "ac237d37",
   "metadata": {},
   "outputs": [],
   "source": [
    "# Training and validation split\n",
    "x_train, x_val, y_train, y_val = train_test_split(x_train, y_train, test_size=0.2, random_state=42)"
   ]
  },
  {
   "cell_type": "code",
   "execution_count": 26,
   "id": "989a30c0",
   "metadata": {},
   "outputs": [],
   "source": [
    "# Define the EarlyStopping callback\n",
    "early_stopping = EarlyStopping(monitor='val_mae', \n",
    "                               # Number of epochs to wait for improvement\n",
    "                               patience=10,  \n",
    "                               verbose=1, \n",
    "                               # Restore the weights of the best epoch\n",
    "                               restore_best_weights=True)  "
   ]
  },
  {
   "cell_type": "code",
   "execution_count": 27,
   "id": "b467f89f",
   "metadata": {},
   "outputs": [
    {
     "name": "stdout",
     "output_type": "stream",
     "text": [
      "Epoch 1/100\n",
      "156/156 [==============================] - 6s 15ms/step - loss: 363435.2812 - mae: 297.4564 - val_loss: 368373.4062 - val_mae: 290.3582\n",
      "Epoch 2/100\n",
      "156/156 [==============================] - 2s 11ms/step - loss: 356260.2812 - mae: 290.5601 - val_loss: 360009.4688 - val_mae: 283.6694\n",
      "Epoch 3/100\n",
      "156/156 [==============================] - 2s 10ms/step - loss: 346226.3750 - mae: 284.0396 - val_loss: 348980.4688 - val_mae: 277.6183\n",
      "Epoch 4/100\n",
      "156/156 [==============================] - 2s 11ms/step - loss: 334469.4688 - mae: 279.2980 - val_loss: 336867.5938 - val_mae: 274.1417\n",
      "Epoch 5/100\n",
      "156/156 [==============================] - 2s 11ms/step - loss: 321926.5625 - mae: 276.6255 - val_loss: 324455.4062 - val_mae: 272.3585\n",
      "Epoch 6/100\n",
      "156/156 [==============================] - 2s 11ms/step - loss: 309195.0000 - mae: 272.3262 - val_loss: 311921.0312 - val_mae: 265.7162\n",
      "Epoch 7/100\n",
      "156/156 [==============================] - 2s 10ms/step - loss: 296563.5000 - mae: 269.0978 - val_loss: 300276.1875 - val_mae: 265.2399\n",
      "Epoch 8/100\n",
      "156/156 [==============================] - 2s 10ms/step - loss: 285324.0312 - mae: 268.7124 - val_loss: 289855.0312 - val_mae: 267.3816\n",
      "Epoch 9/100\n",
      "156/156 [==============================] - 2s 10ms/step - loss: 275548.8438 - mae: 268.1683 - val_loss: 280471.6250 - val_mae: 264.9380\n",
      "Epoch 10/100\n",
      "156/156 [==============================] - 2s 11ms/step - loss: 264818.5938 - mae: 260.5620 - val_loss: 269211.5312 - val_mae: 254.6156\n",
      "Epoch 11/100\n",
      "156/156 [==============================] - 2s 10ms/step - loss: 253582.9688 - mae: 253.7630 - val_loss: 259005.9219 - val_mae: 252.6576\n",
      "Epoch 12/100\n",
      "156/156 [==============================] - 2s 10ms/step - loss: 243242.5000 - mae: 250.3195 - val_loss: 250479.1094 - val_mae: 253.7352\n",
      "Epoch 13/100\n",
      "156/156 [==============================] - 2s 10ms/step - loss: 234671.2031 - mae: 248.9803 - val_loss: 242803.3438 - val_mae: 243.7355\n",
      "Epoch 14/100\n",
      "156/156 [==============================] - 2s 11ms/step - loss: 226435.4219 - mae: 246.3123 - val_loss: 236347.2500 - val_mae: 243.0743\n",
      "Epoch 15/100\n",
      "156/156 [==============================] - 2s 10ms/step - loss: 219549.2969 - mae: 245.0987 - val_loss: 230889.0312 - val_mae: 250.4577\n",
      "Epoch 16/100\n",
      "156/156 [==============================] - 2s 10ms/step - loss: 213982.4531 - mae: 244.1250 - val_loss: 226280.6719 - val_mae: 244.0224\n",
      "Epoch 17/100\n",
      "156/156 [==============================] - 2s 10ms/step - loss: 208730.2031 - mae: 242.8048 - val_loss: 222681.5938 - val_mae: 247.9475\n",
      "Epoch 18/100\n",
      "156/156 [==============================] - 2s 10ms/step - loss: 204591.9062 - mae: 243.1515 - val_loss: 218992.0781 - val_mae: 247.1857\n",
      "Epoch 19/100\n",
      "156/156 [==============================] - 2s 10ms/step - loss: 201677.6562 - mae: 242.7337 - val_loss: 217907.4688 - val_mae: 249.7601\n",
      "Epoch 20/100\n",
      "156/156 [==============================] - 2s 11ms/step - loss: 198923.5781 - mae: 242.4647 - val_loss: 217309.0312 - val_mae: 254.0385\n",
      "Epoch 21/100\n",
      "156/156 [==============================] - 2s 12ms/step - loss: 196725.7969 - mae: 241.9856 - val_loss: 211339.1250 - val_mae: 243.8344\n",
      "Epoch 22/100\n",
      "156/156 [==============================] - 2s 11ms/step - loss: 194789.2344 - mae: 241.9654 - val_loss: 210699.5781 - val_mae: 252.0329\n",
      "Epoch 23/100\n",
      "156/156 [==============================] - 2s 10ms/step - loss: 193765.2031 - mae: 242.6359 - val_loss: 210988.3281 - val_mae: 240.9670\n",
      "Epoch 24/100\n",
      "156/156 [==============================] - 2s 10ms/step - loss: 192061.6562 - mae: 241.5517 - val_loss: 206628.5000 - val_mae: 241.8155\n",
      "Epoch 25/100\n",
      "156/156 [==============================] - 2s 11ms/step - loss: 190366.9688 - mae: 240.9302 - val_loss: 206403.7656 - val_mae: 245.2529\n",
      "Epoch 26/100\n",
      "156/156 [==============================] - 2s 10ms/step - loss: 189364.0000 - mae: 241.0796 - val_loss: 205855.3750 - val_mae: 251.2661\n",
      "Epoch 27/100\n",
      "156/156 [==============================] - 2s 11ms/step - loss: 188806.6875 - mae: 242.0043 - val_loss: 205837.5000 - val_mae: 248.1913\n",
      "Epoch 28/100\n",
      "156/156 [==============================] - 2s 11ms/step - loss: 188466.7344 - mae: 242.1937 - val_loss: 204503.6250 - val_mae: 249.3936\n",
      "Epoch 29/100\n",
      "156/156 [==============================] - 2s 10ms/step - loss: 187443.6875 - mae: 240.4281 - val_loss: 203511.1250 - val_mae: 249.8757\n",
      "Epoch 30/100\n",
      "156/156 [==============================] - 2s 11ms/step - loss: 186138.7031 - mae: 240.3523 - val_loss: 202818.8438 - val_mae: 242.4814\n",
      "Epoch 31/100\n",
      "156/156 [==============================] - 2s 11ms/step - loss: 185343.4375 - mae: 240.5746 - val_loss: 203147.7344 - val_mae: 247.2578\n",
      "Epoch 32/100\n",
      "156/156 [==============================] - 2s 11ms/step - loss: 184845.1094 - mae: 238.9613 - val_loss: 201549.9531 - val_mae: 243.9167\n",
      "Epoch 33/100\n",
      "154/156 [============================>.] - ETA: 0s - loss: 185070.7500 - mae: 240.7337Restoring model weights from the end of the best epoch: 23.\n",
      "156/156 [==============================] - 2s 11ms/step - loss: 185050.0156 - mae: 240.9070 - val_loss: 200539.1094 - val_mae: 241.9876\n",
      "Epoch 33: early stopping\n"
     ]
    },
    {
     "data": {
      "text/plain": [
       "<keras.callbacks.History at 0x26d88d4aa60>"
      ]
     },
     "execution_count": 27,
     "metadata": {},
     "output_type": "execute_result"
    }
   ],
   "source": [
    "# Define model architecture\n",
    "max_seq_length = x_train.shape[1]\n",
    "vocab_size = int(np.max(x_train) + 1)\n",
    "embedding_dim = 32\n",
    "num_heads = 2\n",
    "ff_dim = 32\n",
    "dropout_rate = 0.1\n",
    "\n",
    "inputs = Input(shape=(max_seq_length,))\n",
    "embedding_layer = Embedding(input_dim=vocab_size, output_dim=embedding_dim, input_length=max_seq_length)(inputs)\n",
    "transformer_block_fn = transformer_block(embed_dim=embedding_dim, \n",
    "                                         num_heads=num_heads, ff_dim=ff_dim, \n",
    "                                         dropout_rate=dropout_rate)\n",
    "transformer_block = transformer_block_fn(embedding_layer, training=True)\n",
    "pooling_layer = GlobalAveragePooling1D()(transformer_block)\n",
    "dropout_layer = Dropout(rate=0.1)(pooling_layer)\n",
    "outputs = Dense(units=1, activation='linear')(dropout_layer)  # Change activation to 'linear' for regression\n",
    "\n",
    "model = Model(inputs=inputs, outputs=outputs)\n",
    "\n",
    "# Compile the model\n",
    "model.compile(optimizer=Adam(), loss='mse', metrics=['mae'])  # Change loss function to 'mse' for regression\n",
    "\n",
    "# Train the model\n",
    "model.fit(x_train, y_train, batch_size=64, epochs=100, validation_data=(x_val, y_val), \n",
    "          callbacks=[early_stopping])"
   ]
  },
  {
   "cell_type": "code",
   "execution_count": 75,
   "id": "585304a1",
   "metadata": {},
   "outputs": [],
   "source": [
    "# save the trained model\n",
    "model.save('../models/transformer_regression_model.h5')"
   ]
  },
  {
   "cell_type": "code",
   "execution_count": 29,
   "id": "d563f661",
   "metadata": {},
   "outputs": [
    {
     "name": "stdout",
     "output_type": "stream",
     "text": [
      "78/78 [==============================] - 0s 4ms/step - loss: 211007.6719 - mae: 240.7832\n",
      "Validation MSE: 211007.671875\n",
      "Validation MAE: 240.78318786621094\n"
     ]
    }
   ],
   "source": [
    "# Evaluate the model on validation data\n",
    "mse, mae = model.evaluate(x_val, y_val)\n",
    "print('Validation MSE:', mse)\n",
    "print('Validation MAE:', mae)"
   ]
  },
  {
   "cell_type": "code",
   "execution_count": null,
   "id": "9ea41546",
   "metadata": {},
   "outputs": [],
   "source": []
  }
 ],
 "metadata": {
  "kernelspec": {
   "display_name": "Python 3 (ipykernel)",
   "language": "python",
   "name": "python3"
  },
  "language_info": {
   "codemirror_mode": {
    "name": "ipython",
    "version": 3
   },
   "file_extension": ".py",
   "mimetype": "text/x-python",
   "name": "python",
   "nbconvert_exporter": "python",
   "pygments_lexer": "ipython3",
   "version": "3.9.12"
  }
 },
 "nbformat": 4,
 "nbformat_minor": 5
}
