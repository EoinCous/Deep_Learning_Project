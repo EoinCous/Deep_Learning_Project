{
 "cells": [
  {
   "cell_type": "code",
   "execution_count": 8,
   "id": "eebd5ece",
   "metadata": {},
   "outputs": [],
   "source": [
    "import tensorflow as tf\n",
    "from tensorflow.keras.models import Sequential\n",
    "from tensorflow.keras.layers import Dense\n",
    "from sklearn.preprocessing import LabelEncoder\n",
    "from sklearn.model_selection import train_test_split\n",
    "from keras.callbacks import EarlyStopping\n",
    "import pandas as pd\n",
    "import numpy as np"
   ]
  },
  {
   "cell_type": "code",
   "execution_count": 19,
   "id": "94c47fab",
   "metadata": {},
   "outputs": [],
   "source": [
    "train_df = pd.read_csv('../data/cleaned_train.csv')\n",
    "\n",
    "# Extract the columns you want to use as input features\n",
    "columns = ['BERT_sentiment_score', 'normalised_word_count', 'pub_day', 'pub_hour']\n",
    "# Extract input features from the dataframe\n",
    "x_train = train_df[columns].dropna()\n",
    "\n",
    "y_train = np.array(train_df['n_comments'].dropna())"
   ]
  },
  {
   "cell_type": "code",
   "execution_count": 20,
   "id": "bd15824d",
   "metadata": {},
   "outputs": [],
   "source": [
    "test_df = pd.read_csv('../data/cleaned_test.csv')\n",
    "\n",
    "x_test = test_df[columns].dropna()"
   ]
  },
  {
   "cell_type": "code",
   "execution_count": 21,
   "id": "82b53182",
   "metadata": {},
   "outputs": [],
   "source": [
    "def label_encode(raw_data):\n",
    "    # Concatenate train and test data vertically to ensure consistent label encoding\n",
    "    combined_df = pd.concat([train_df['topic'], test_df['topic']], axis=0)\n",
    "\n",
    "    # Create an instance of LabelEncoder\n",
    "    le = LabelEncoder()\n",
    "\n",
    "    # Fit and transform the combined data using LabelEncoder\n",
    "    combined_encoded = le.fit_transform(combined_df)\n",
    "    \n",
    "    return np.array(le.transform(raw_data.dropna()))"
   ]
  },
  {
   "cell_type": "code",
   "execution_count": 22,
   "id": "13bbd997",
   "metadata": {},
   "outputs": [],
   "source": [
    "# Apply the LabelEncoder transformation on train data\n",
    "train_topic_encoded = pd.DataFrame(label_encode(train_df['topic']), columns=['topic encoded'])\n",
    "# Concatenate the 'topic_encoded' tensor with the other input features\n",
    "x_train = pd.concat([x_train, train_topic_encoded], axis=1)"
   ]
  },
  {
   "cell_type": "code",
   "execution_count": 23,
   "id": "42055fec",
   "metadata": {},
   "outputs": [],
   "source": [
    "# Apply the LabelEncoder transformation on train data\n",
    "test_topic_encoded = pd.DataFrame(label_encode(test_df['topic']), columns=['topic encoded'])\n",
    "# Concatenate the 'topic_encoded' tensor with the other input features\n",
    "x_test = pd.concat([x_test, test_topic_encoded], axis=1)"
   ]
  },
  {
   "cell_type": "code",
   "execution_count": 24,
   "id": "01ce4a81",
   "metadata": {},
   "outputs": [],
   "source": [
    "# Training and validation split\n",
    "x_train, x_val, y_train, y_val = train_test_split(x_train, y_train, test_size=0.2, random_state=42)"
   ]
  },
  {
   "cell_type": "code",
   "execution_count": 25,
   "id": "86f9e323",
   "metadata": {},
   "outputs": [],
   "source": [
    "# Define the EarlyStopping callback\n",
    "early_stopping = EarlyStopping(monitor='val_loss', \n",
    "                               # Number of epochs to wait for improvement\n",
    "                               patience=10,  \n",
    "                               verbose=1, \n",
    "                               # Restore the weights of the best epoch\n",
    "                               restore_best_weights=True) "
   ]
  },
  {
   "cell_type": "code",
   "execution_count": 26,
   "id": "06ea2453",
   "metadata": {},
   "outputs": [],
   "source": [
    "# Create MLP model\n",
    "model = Sequential()\n",
    "num_features = 5\n",
    "model.add(Dense(64, activation='relu', input_dim=num_features))\n",
    "model.add(Dense(32, activation='relu'))\n",
    "model.add(Dense(1, activation='linear'))"
   ]
  },
  {
   "cell_type": "code",
   "execution_count": 40,
   "id": "b5451755",
   "metadata": {},
   "outputs": [],
   "source": [
    "# Compile the model\n",
    "model.compile(optimizer='adam', loss='mean_squared_error', metrics=['mean_squared_error', 'mean_absolute_error'])"
   ]
  },
  {
   "cell_type": "code",
   "execution_count": 41,
   "id": "17eef2c0",
   "metadata": {},
   "outputs": [
    {
     "name": "stdout",
     "output_type": "stream",
     "text": [
      "Epoch 1/100\n",
      "312/312 [==============================] - 2s 4ms/step - loss: 224432.3594 - mean_squared_error: 224432.3594 - mean_absolute_error: 287.8504 - val_loss: 239200.5000 - val_mean_squared_error: 239200.5000 - val_mean_absolute_error: 288.5703\n",
      "Epoch 2/100\n",
      "312/312 [==============================] - 1s 3ms/step - loss: 223982.0469 - mean_squared_error: 223982.0469 - mean_absolute_error: 286.0585 - val_loss: 239835.7188 - val_mean_squared_error: 239835.7188 - val_mean_absolute_error: 298.1466\n",
      "Epoch 3/100\n",
      "312/312 [==============================] - 1s 3ms/step - loss: 223062.5938 - mean_squared_error: 223062.5938 - mean_absolute_error: 285.7972 - val_loss: 238570.6719 - val_mean_squared_error: 238570.6719 - val_mean_absolute_error: 287.0718\n",
      "Epoch 4/100\n",
      "312/312 [==============================] - 1s 3ms/step - loss: 223429.5469 - mean_squared_error: 223429.5469 - mean_absolute_error: 287.0821 - val_loss: 240811.7969 - val_mean_squared_error: 240811.7969 - val_mean_absolute_error: 268.9714\n",
      "Epoch 5/100\n",
      "312/312 [==============================] - 1s 3ms/step - loss: 223022.1562 - mean_squared_error: 223022.1562 - mean_absolute_error: 285.0201 - val_loss: 238520.9219 - val_mean_squared_error: 238520.9219 - val_mean_absolute_error: 289.2762\n",
      "Epoch 6/100\n",
      "312/312 [==============================] - 1s 3ms/step - loss: 223415.7344 - mean_squared_error: 223415.7344 - mean_absolute_error: 285.4665 - val_loss: 239539.7344 - val_mean_squared_error: 239539.7344 - val_mean_absolute_error: 294.6851\n",
      "Epoch 7/100\n",
      "312/312 [==============================] - 1s 3ms/step - loss: 222787.7969 - mean_squared_error: 222787.7969 - mean_absolute_error: 285.3308 - val_loss: 238562.6094 - val_mean_squared_error: 238562.6094 - val_mean_absolute_error: 292.0047\n",
      "Epoch 8/100\n",
      "312/312 [==============================] - 1s 3ms/step - loss: 222986.1250 - mean_squared_error: 222986.1250 - mean_absolute_error: 285.4083 - val_loss: 238998.1250 - val_mean_squared_error: 238998.1250 - val_mean_absolute_error: 295.3427\n",
      "Epoch 9/100\n",
      "312/312 [==============================] - 1s 3ms/step - loss: 222797.8125 - mean_squared_error: 222797.8125 - mean_absolute_error: 286.0223 - val_loss: 239304.0625 - val_mean_squared_error: 239304.0625 - val_mean_absolute_error: 273.6182\n",
      "Epoch 10/100\n",
      "312/312 [==============================] - 1s 3ms/step - loss: 222519.9062 - mean_squared_error: 222519.9062 - mean_absolute_error: 284.9081 - val_loss: 237544.8125 - val_mean_squared_error: 237544.8125 - val_mean_absolute_error: 286.9032\n",
      "Epoch 11/100\n",
      "312/312 [==============================] - 1s 3ms/step - loss: 222125.6562 - mean_squared_error: 222125.6562 - mean_absolute_error: 284.3746 - val_loss: 242792.6094 - val_mean_squared_error: 242792.6094 - val_mean_absolute_error: 307.8764\n",
      "Epoch 12/100\n",
      "312/312 [==============================] - 1s 3ms/step - loss: 222413.7188 - mean_squared_error: 222413.7188 - mean_absolute_error: 285.0727 - val_loss: 237266.9219 - val_mean_squared_error: 237266.9219 - val_mean_absolute_error: 277.3185\n",
      "Epoch 13/100\n",
      "312/312 [==============================] - 1s 3ms/step - loss: 221975.2188 - mean_squared_error: 221975.2188 - mean_absolute_error: 285.0190 - val_loss: 237778.7188 - val_mean_squared_error: 237778.7188 - val_mean_absolute_error: 276.2435\n",
      "Epoch 14/100\n",
      "312/312 [==============================] - 1s 3ms/step - loss: 222637.2031 - mean_squared_error: 222637.2031 - mean_absolute_error: 284.2151 - val_loss: 237408.0625 - val_mean_squared_error: 237408.0625 - val_mean_absolute_error: 278.7924\n",
      "Epoch 15/100\n",
      "312/312 [==============================] - 1s 3ms/step - loss: 221485.9688 - mean_squared_error: 221485.9688 - mean_absolute_error: 283.2868 - val_loss: 239201.8906 - val_mean_squared_error: 239201.8906 - val_mean_absolute_error: 298.3354\n",
      "Epoch 16/100\n",
      "312/312 [==============================] - 1s 3ms/step - loss: 221431.8281 - mean_squared_error: 221431.8281 - mean_absolute_error: 283.6489 - val_loss: 238650.3750 - val_mean_squared_error: 238650.3750 - val_mean_absolute_error: 299.3503\n",
      "Epoch 17/100\n",
      "312/312 [==============================] - 1s 3ms/step - loss: 221094.8125 - mean_squared_error: 221094.8125 - mean_absolute_error: 284.0316 - val_loss: 240987.2344 - val_mean_squared_error: 240987.2344 - val_mean_absolute_error: 309.0832\n",
      "Epoch 18/100\n",
      "312/312 [==============================] - 1s 3ms/step - loss: 221223.7812 - mean_squared_error: 221223.7812 - mean_absolute_error: 284.1710 - val_loss: 236377.7188 - val_mean_squared_error: 236377.7188 - val_mean_absolute_error: 286.0366\n",
      "Epoch 19/100\n",
      "312/312 [==============================] - 1s 3ms/step - loss: 220961.0000 - mean_squared_error: 220961.0000 - mean_absolute_error: 283.3974 - val_loss: 238263.0625 - val_mean_squared_error: 238263.0625 - val_mean_absolute_error: 297.9206\n",
      "Epoch 20/100\n",
      "312/312 [==============================] - 1s 4ms/step - loss: 220575.4062 - mean_squared_error: 220575.4062 - mean_absolute_error: 283.4791 - val_loss: 236665.4219 - val_mean_squared_error: 236665.4219 - val_mean_absolute_error: 289.9156\n",
      "Epoch 21/100\n",
      "312/312 [==============================] - 1s 3ms/step - loss: 220602.8125 - mean_squared_error: 220602.8125 - mean_absolute_error: 283.1734 - val_loss: 238008.2969 - val_mean_squared_error: 238008.2969 - val_mean_absolute_error: 287.9838\n",
      "Epoch 22/100\n",
      "312/312 [==============================] - 1s 3ms/step - loss: 220885.2969 - mean_squared_error: 220885.2969 - mean_absolute_error: 282.8499 - val_loss: 237208.0312 - val_mean_squared_error: 237208.0312 - val_mean_absolute_error: 296.3341\n",
      "Epoch 23/100\n",
      "312/312 [==============================] - 1s 3ms/step - loss: 220245.8281 - mean_squared_error: 220245.8281 - mean_absolute_error: 282.5677 - val_loss: 236344.4844 - val_mean_squared_error: 236344.4844 - val_mean_absolute_error: 285.7827\n",
      "Epoch 24/100\n",
      "312/312 [==============================] - 1s 3ms/step - loss: 219303.7344 - mean_squared_error: 219303.7344 - mean_absolute_error: 282.2688 - val_loss: 237132.0156 - val_mean_squared_error: 237132.0156 - val_mean_absolute_error: 291.6109\n",
      "Epoch 25/100\n",
      "312/312 [==============================] - 1s 3ms/step - loss: 220473.4531 - mean_squared_error: 220473.4531 - mean_absolute_error: 283.7550 - val_loss: 244328.6406 - val_mean_squared_error: 244328.6406 - val_mean_absolute_error: 313.9020\n",
      "Epoch 26/100\n",
      "312/312 [==============================] - 1s 3ms/step - loss: 220066.9062 - mean_squared_error: 220066.9062 - mean_absolute_error: 282.8417 - val_loss: 236110.8594 - val_mean_squared_error: 236110.8594 - val_mean_absolute_error: 284.3495\n",
      "Epoch 27/100\n",
      "312/312 [==============================] - 1s 3ms/step - loss: 219359.6094 - mean_squared_error: 219359.6094 - mean_absolute_error: 282.4136 - val_loss: 236791.9062 - val_mean_squared_error: 236791.9062 - val_mean_absolute_error: 279.6912\n",
      "Epoch 28/100\n",
      "312/312 [==============================] - 1s 3ms/step - loss: 219637.7812 - mean_squared_error: 219637.7812 - mean_absolute_error: 282.1995 - val_loss: 236454.8438 - val_mean_squared_error: 236454.8438 - val_mean_absolute_error: 289.8310\n",
      "Epoch 29/100\n",
      "312/312 [==============================] - 1s 3ms/step - loss: 219521.6406 - mean_squared_error: 219521.6406 - mean_absolute_error: 282.4684 - val_loss: 239921.8594 - val_mean_squared_error: 239921.8594 - val_mean_absolute_error: 301.9968\n",
      "Epoch 30/100\n",
      "312/312 [==============================] - 1s 3ms/step - loss: 219763.5938 - mean_squared_error: 219763.5938 - mean_absolute_error: 282.8051 - val_loss: 236616.1562 - val_mean_squared_error: 236616.1562 - val_mean_absolute_error: 293.4172\n",
      "Epoch 31/100\n",
      "312/312 [==============================] - 1s 3ms/step - loss: 219215.8125 - mean_squared_error: 219215.8125 - mean_absolute_error: 281.3950 - val_loss: 235490.4219 - val_mean_squared_error: 235490.4219 - val_mean_absolute_error: 286.3419\n",
      "Epoch 32/100\n",
      "312/312 [==============================] - 1s 3ms/step - loss: 219701.7031 - mean_squared_error: 219701.7031 - mean_absolute_error: 281.8409 - val_loss: 236646.0938 - val_mean_squared_error: 236646.0938 - val_mean_absolute_error: 297.9348\n",
      "Epoch 33/100\n"
     ]
    },
    {
     "name": "stdout",
     "output_type": "stream",
     "text": [
      "312/312 [==============================] - 1s 3ms/step - loss: 219565.0781 - mean_squared_error: 219565.0781 - mean_absolute_error: 282.1203 - val_loss: 236542.7656 - val_mean_squared_error: 236542.7656 - val_mean_absolute_error: 292.3196\n",
      "Epoch 34/100\n",
      "312/312 [==============================] - 1s 3ms/step - loss: 218708.5781 - mean_squared_error: 218708.5781 - mean_absolute_error: 281.2365 - val_loss: 236027.2969 - val_mean_squared_error: 236027.2969 - val_mean_absolute_error: 280.1293\n",
      "Epoch 35/100\n",
      "312/312 [==============================] - 1s 4ms/step - loss: 218679.7812 - mean_squared_error: 218679.7812 - mean_absolute_error: 281.2172 - val_loss: 235889.8594 - val_mean_squared_error: 235889.8594 - val_mean_absolute_error: 276.2203\n",
      "Epoch 36/100\n",
      "312/312 [==============================] - 1s 4ms/step - loss: 218749.5156 - mean_squared_error: 218749.5156 - mean_absolute_error: 281.6062 - val_loss: 238077.8750 - val_mean_squared_error: 238077.8750 - val_mean_absolute_error: 274.6230\n",
      "Epoch 37/100\n",
      "312/312 [==============================] - 1s 3ms/step - loss: 218841.7656 - mean_squared_error: 218841.7656 - mean_absolute_error: 281.3639 - val_loss: 236163.6250 - val_mean_squared_error: 236163.6250 - val_mean_absolute_error: 276.6068\n",
      "Epoch 38/100\n",
      "312/312 [==============================] - 1s 3ms/step - loss: 218549.8281 - mean_squared_error: 218549.8281 - mean_absolute_error: 281.0531 - val_loss: 234849.0156 - val_mean_squared_error: 234849.0156 - val_mean_absolute_error: 279.7713\n",
      "Epoch 39/100\n",
      "312/312 [==============================] - 1s 3ms/step - loss: 218441.4062 - mean_squared_error: 218441.4062 - mean_absolute_error: 280.8860 - val_loss: 236573.7031 - val_mean_squared_error: 236573.7031 - val_mean_absolute_error: 291.0097\n",
      "Epoch 40/100\n",
      "312/312 [==============================] - 1s 3ms/step - loss: 218138.1719 - mean_squared_error: 218138.1719 - mean_absolute_error: 280.6641 - val_loss: 236460.8281 - val_mean_squared_error: 236460.8281 - val_mean_absolute_error: 290.1446\n",
      "Epoch 41/100\n",
      "312/312 [==============================] - 1s 3ms/step - loss: 218213.1094 - mean_squared_error: 218213.1094 - mean_absolute_error: 280.5896 - val_loss: 234474.4062 - val_mean_squared_error: 234474.4062 - val_mean_absolute_error: 284.7553\n",
      "Epoch 42/100\n",
      "312/312 [==============================] - 1s 3ms/step - loss: 218357.0781 - mean_squared_error: 218357.0781 - mean_absolute_error: 280.7599 - val_loss: 235276.2500 - val_mean_squared_error: 235276.2500 - val_mean_absolute_error: 282.1894\n",
      "Epoch 43/100\n",
      "312/312 [==============================] - 1s 3ms/step - loss: 218169.7656 - mean_squared_error: 218169.7656 - mean_absolute_error: 281.2339 - val_loss: 235489.1094 - val_mean_squared_error: 235489.1094 - val_mean_absolute_error: 280.6326\n",
      "Epoch 44/100\n",
      "312/312 [==============================] - 1s 3ms/step - loss: 218177.3906 - mean_squared_error: 218177.3906 - mean_absolute_error: 280.2973 - val_loss: 238577.1406 - val_mean_squared_error: 238577.1406 - val_mean_absolute_error: 302.7613\n",
      "Epoch 45/100\n",
      "312/312 [==============================] - 1s 3ms/step - loss: 217708.5625 - mean_squared_error: 217708.5625 - mean_absolute_error: 280.2444 - val_loss: 238384.9375 - val_mean_squared_error: 238384.9375 - val_mean_absolute_error: 304.0439\n",
      "Epoch 46/100\n",
      "312/312 [==============================] - 1s 3ms/step - loss: 217401.5312 - mean_squared_error: 217401.5312 - mean_absolute_error: 279.8690 - val_loss: 236055.9219 - val_mean_squared_error: 236055.9219 - val_mean_absolute_error: 293.5874\n",
      "Epoch 47/100\n",
      "312/312 [==============================] - 1s 3ms/step - loss: 217740.0469 - mean_squared_error: 217740.0469 - mean_absolute_error: 280.4290 - val_loss: 234518.2344 - val_mean_squared_error: 234518.2344 - val_mean_absolute_error: 285.6573\n",
      "Epoch 48/100\n",
      "312/312 [==============================] - 1s 3ms/step - loss: 217565.3750 - mean_squared_error: 217565.3750 - mean_absolute_error: 280.0478 - val_loss: 235074.8438 - val_mean_squared_error: 235074.8438 - val_mean_absolute_error: 272.9607\n",
      "Epoch 49/100\n",
      "312/312 [==============================] - 1s 3ms/step - loss: 217903.7188 - mean_squared_error: 217903.7188 - mean_absolute_error: 279.8044 - val_loss: 235707.4062 - val_mean_squared_error: 235707.4062 - val_mean_absolute_error: 283.2299\n",
      "Epoch 50/100\n",
      "312/312 [==============================] - 1s 3ms/step - loss: 216987.7812 - mean_squared_error: 216987.7812 - mean_absolute_error: 279.9745 - val_loss: 235325.1562 - val_mean_squared_error: 235325.1562 - val_mean_absolute_error: 271.6301\n",
      "Epoch 51/100\n",
      "312/312 [==============================] - 1s 4ms/step - loss: 217671.7500 - mean_squared_error: 217671.7500 - mean_absolute_error: 280.0831 - val_loss: 234155.3594 - val_mean_squared_error: 234155.3594 - val_mean_absolute_error: 284.8230\n",
      "Epoch 52/100\n",
      "312/312 [==============================] - 1s 3ms/step - loss: 216728.2969 - mean_squared_error: 216728.2969 - mean_absolute_error: 279.1366 - val_loss: 235525.8281 - val_mean_squared_error: 235525.8281 - val_mean_absolute_error: 295.3817\n",
      "Epoch 53/100\n",
      "312/312 [==============================] - 1s 3ms/step - loss: 217725.8438 - mean_squared_error: 217725.8438 - mean_absolute_error: 279.7330 - val_loss: 235641.8906 - val_mean_squared_error: 235641.8906 - val_mean_absolute_error: 286.3487\n",
      "Epoch 54/100\n",
      "312/312 [==============================] - 1s 3ms/step - loss: 217137.2812 - mean_squared_error: 217137.2812 - mean_absolute_error: 279.5763 - val_loss: 234654.0156 - val_mean_squared_error: 234654.0156 - val_mean_absolute_error: 286.7827\n",
      "Epoch 55/100\n",
      "312/312 [==============================] - 1s 3ms/step - loss: 217030.8906 - mean_squared_error: 217030.8906 - mean_absolute_error: 279.3226 - val_loss: 238497.8125 - val_mean_squared_error: 238497.8125 - val_mean_absolute_error: 302.3832\n",
      "Epoch 56/100\n",
      "312/312 [==============================] - 1s 3ms/step - loss: 216875.0625 - mean_squared_error: 216875.0625 - mean_absolute_error: 279.9853 - val_loss: 234413.7031 - val_mean_squared_error: 234413.7031 - val_mean_absolute_error: 280.5129\n",
      "Epoch 57/100\n",
      "312/312 [==============================] - 1s 3ms/step - loss: 216728.0625 - mean_squared_error: 216728.0625 - mean_absolute_error: 279.0651 - val_loss: 234008.4844 - val_mean_squared_error: 234008.4844 - val_mean_absolute_error: 281.6993\n",
      "Epoch 58/100\n",
      "312/312 [==============================] - 1s 3ms/step - loss: 217005.1562 - mean_squared_error: 217005.1562 - mean_absolute_error: 280.8238 - val_loss: 234626.8750 - val_mean_squared_error: 234626.8750 - val_mean_absolute_error: 272.2099\n",
      "Epoch 59/100\n",
      "312/312 [==============================] - 1s 3ms/step - loss: 217414.8906 - mean_squared_error: 217414.8906 - mean_absolute_error: 279.8655 - val_loss: 234499.2031 - val_mean_squared_error: 234499.2031 - val_mean_absolute_error: 275.9190\n",
      "Epoch 60/100\n",
      "312/312 [==============================] - 1s 3ms/step - loss: 216220.3281 - mean_squared_error: 216220.3281 - mean_absolute_error: 279.0949 - val_loss: 235249.7031 - val_mean_squared_error: 235249.7031 - val_mean_absolute_error: 284.8871\n",
      "Epoch 61/100\n",
      "312/312 [==============================] - 1s 3ms/step - loss: 216516.4375 - mean_squared_error: 216516.4375 - mean_absolute_error: 279.4973 - val_loss: 234112.7656 - val_mean_squared_error: 234112.7656 - val_mean_absolute_error: 274.2148\n",
      "Epoch 62/100\n",
      "312/312 [==============================] - 1s 3ms/step - loss: 216399.3594 - mean_squared_error: 216399.3594 - mean_absolute_error: 278.4362 - val_loss: 234237.5938 - val_mean_squared_error: 234237.5938 - val_mean_absolute_error: 279.0449\n",
      "Epoch 63/100\n",
      "312/312 [==============================] - 1s 3ms/step - loss: 216408.2188 - mean_squared_error: 216408.2188 - mean_absolute_error: 279.4217 - val_loss: 234006.1875 - val_mean_squared_error: 234006.1875 - val_mean_absolute_error: 274.0810\n",
      "Epoch 64/100\n",
      "312/312 [==============================] - 1s 3ms/step - loss: 215843.0000 - mean_squared_error: 215843.0000 - mean_absolute_error: 279.3084 - val_loss: 234072.0469 - val_mean_squared_error: 234072.0469 - val_mean_absolute_error: 278.9244\n",
      "Epoch 65/100\n"
     ]
    },
    {
     "name": "stdout",
     "output_type": "stream",
     "text": [
      "312/312 [==============================] - 1s 3ms/step - loss: 215846.7812 - mean_squared_error: 215846.7812 - mean_absolute_error: 278.0534 - val_loss: 234335.0625 - val_mean_squared_error: 234335.0625 - val_mean_absolute_error: 285.5387\n",
      "Epoch 66/100\n",
      "312/312 [==============================] - 1s 3ms/step - loss: 216534.6250 - mean_squared_error: 216534.6250 - mean_absolute_error: 279.2219 - val_loss: 235235.7812 - val_mean_squared_error: 235235.7812 - val_mean_absolute_error: 280.2524\n",
      "Epoch 67/100\n",
      "312/312 [==============================] - 1s 3ms/step - loss: 216071.7500 - mean_squared_error: 216071.7500 - mean_absolute_error: 278.2560 - val_loss: 235744.6562 - val_mean_squared_error: 235744.6562 - val_mean_absolute_error: 275.5909\n",
      "Epoch 68/100\n",
      "312/312 [==============================] - 1s 3ms/step - loss: 215719.5781 - mean_squared_error: 215719.5781 - mean_absolute_error: 279.5334 - val_loss: 235011.0312 - val_mean_squared_error: 235011.0312 - val_mean_absolute_error: 278.0323\n",
      "Epoch 69/100\n",
      "312/312 [==============================] - 1s 3ms/step - loss: 216373.0625 - mean_squared_error: 216373.0625 - mean_absolute_error: 278.2361 - val_loss: 237981.1094 - val_mean_squared_error: 237981.1094 - val_mean_absolute_error: 306.7614\n",
      "Epoch 70/100\n",
      "312/312 [==============================] - 1s 3ms/step - loss: 215936.7656 - mean_squared_error: 215936.7656 - mean_absolute_error: 279.0970 - val_loss: 235589.1875 - val_mean_squared_error: 235589.1875 - val_mean_absolute_error: 269.6104\n",
      "Epoch 71/100\n",
      "312/312 [==============================] - 1s 3ms/step - loss: 216035.0781 - mean_squared_error: 216035.0781 - mean_absolute_error: 278.8360 - val_loss: 233579.7969 - val_mean_squared_error: 233579.7969 - val_mean_absolute_error: 276.9986\n",
      "Epoch 72/100\n",
      "312/312 [==============================] - 1s 3ms/step - loss: 215811.9531 - mean_squared_error: 215811.9531 - mean_absolute_error: 278.1812 - val_loss: 233627.5000 - val_mean_squared_error: 233627.5000 - val_mean_absolute_error: 277.1614\n",
      "Epoch 73/100\n",
      "312/312 [==============================] - 1s 3ms/step - loss: 215851.2812 - mean_squared_error: 215851.2812 - mean_absolute_error: 279.1100 - val_loss: 233083.4375 - val_mean_squared_error: 233083.4375 - val_mean_absolute_error: 276.9436\n",
      "Epoch 74/100\n",
      "312/312 [==============================] - 1s 3ms/step - loss: 215766.7500 - mean_squared_error: 215766.7500 - mean_absolute_error: 278.4197 - val_loss: 236509.9531 - val_mean_squared_error: 236509.9531 - val_mean_absolute_error: 295.8566\n",
      "Epoch 75/100\n",
      "312/312 [==============================] - 1s 3ms/step - loss: 215226.7812 - mean_squared_error: 215226.7812 - mean_absolute_error: 277.7139 - val_loss: 234718.4219 - val_mean_squared_error: 234718.4219 - val_mean_absolute_error: 290.3569\n",
      "Epoch 76/100\n",
      "312/312 [==============================] - 1s 3ms/step - loss: 215046.1094 - mean_squared_error: 215046.1094 - mean_absolute_error: 277.7622 - val_loss: 238109.4219 - val_mean_squared_error: 238109.4219 - val_mean_absolute_error: 302.3625\n",
      "Epoch 77/100\n",
      "312/312 [==============================] - 1s 3ms/step - loss: 215885.1719 - mean_squared_error: 215885.1719 - mean_absolute_error: 279.0783 - val_loss: 234096.0625 - val_mean_squared_error: 234096.0625 - val_mean_absolute_error: 282.5518\n",
      "Epoch 78/100\n",
      "312/312 [==============================] - 1s 3ms/step - loss: 216469.6719 - mean_squared_error: 216469.6719 - mean_absolute_error: 278.9595 - val_loss: 234876.8750 - val_mean_squared_error: 234876.8750 - val_mean_absolute_error: 275.6040\n",
      "Epoch 79/100\n",
      "312/312 [==============================] - 1s 3ms/step - loss: 215113.8438 - mean_squared_error: 215113.8438 - mean_absolute_error: 278.5229 - val_loss: 235410.9531 - val_mean_squared_error: 235410.9531 - val_mean_absolute_error: 269.0191\n",
      "Epoch 80/100\n",
      "312/312 [==============================] - 1s 3ms/step - loss: 215255.1250 - mean_squared_error: 215255.1250 - mean_absolute_error: 278.3730 - val_loss: 232718.6406 - val_mean_squared_error: 232718.6406 - val_mean_absolute_error: 281.9915\n",
      "Epoch 81/100\n",
      "312/312 [==============================] - 1s 4ms/step - loss: 215118.4531 - mean_squared_error: 215118.4531 - mean_absolute_error: 277.5598 - val_loss: 239436.9844 - val_mean_squared_error: 239436.9844 - val_mean_absolute_error: 307.7020\n",
      "Epoch 82/100\n",
      "312/312 [==============================] - 1s 3ms/step - loss: 214565.9531 - mean_squared_error: 214565.9531 - mean_absolute_error: 277.6111 - val_loss: 233248.3281 - val_mean_squared_error: 233248.3281 - val_mean_absolute_error: 281.2598\n",
      "Epoch 83/100\n",
      "312/312 [==============================] - 1s 3ms/step - loss: 215042.0781 - mean_squared_error: 215042.0781 - mean_absolute_error: 277.7818 - val_loss: 232905.1719 - val_mean_squared_error: 232905.1719 - val_mean_absolute_error: 280.8870\n",
      "Epoch 84/100\n",
      "312/312 [==============================] - 1s 3ms/step - loss: 215066.6562 - mean_squared_error: 215066.6562 - mean_absolute_error: 277.9697 - val_loss: 232799.8594 - val_mean_squared_error: 232799.8594 - val_mean_absolute_error: 284.2607\n",
      "Epoch 85/100\n",
      "312/312 [==============================] - 1s 3ms/step - loss: 214879.0938 - mean_squared_error: 214879.0938 - mean_absolute_error: 278.0832 - val_loss: 233354.3125 - val_mean_squared_error: 233354.3125 - val_mean_absolute_error: 285.3391\n",
      "Epoch 86/100\n",
      "312/312 [==============================] - 1s 3ms/step - loss: 214626.4688 - mean_squared_error: 214626.4688 - mean_absolute_error: 276.9132 - val_loss: 234358.3438 - val_mean_squared_error: 234358.3438 - val_mean_absolute_error: 292.5719\n",
      "Epoch 87/100\n",
      "312/312 [==============================] - 1s 3ms/step - loss: 215035.2969 - mean_squared_error: 215035.2969 - mean_absolute_error: 278.0420 - val_loss: 233800.2344 - val_mean_squared_error: 233800.2344 - val_mean_absolute_error: 269.9767\n",
      "Epoch 88/100\n",
      "312/312 [==============================] - 1s 3ms/step - loss: 214185.9688 - mean_squared_error: 214185.9688 - mean_absolute_error: 276.9464 - val_loss: 235261.8906 - val_mean_squared_error: 235261.8906 - val_mean_absolute_error: 298.4865\n",
      "Epoch 89/100\n",
      "312/312 [==============================] - 1s 3ms/step - loss: 213840.6250 - mean_squared_error: 213840.6250 - mean_absolute_error: 277.2943 - val_loss: 236324.4219 - val_mean_squared_error: 236324.4219 - val_mean_absolute_error: 296.9857\n",
      "Epoch 90/100\n",
      "307/312 [============================>.] - ETA: 0s - loss: 214986.7188 - mean_squared_error: 214986.7188 - mean_absolute_error: 277.5284Restoring model weights from the end of the best epoch: 80.\n",
      "312/312 [==============================] - 1s 3ms/step - loss: 214224.8125 - mean_squared_error: 214224.8125 - mean_absolute_error: 277.1057 - val_loss: 234269.7812 - val_mean_squared_error: 234269.7812 - val_mean_absolute_error: 275.3426\n",
      "Epoch 90: early stopping\n"
     ]
    },
    {
     "data": {
      "text/plain": [
       "<keras.callbacks.History at 0x1c32f4565e0>"
      ]
     },
     "execution_count": 41,
     "metadata": {},
     "output_type": "execute_result"
    }
   ],
   "source": [
    "# Train the model\n",
    "model.fit(x_train, y_train, batch_size=32, epochs=100, validation_data=(x_val, y_val), callbacks=[early_stopping])"
   ]
  },
  {
   "cell_type": "code",
   "execution_count": 42,
   "id": "15889f67",
   "metadata": {},
   "outputs": [],
   "source": [
    "# save the trained model\n",
    "model.save('MLP_prediction_model.h5')"
   ]
  },
  {
   "cell_type": "code",
   "execution_count": 44,
   "id": "c9f2cc93",
   "metadata": {},
   "outputs": [
    {
     "name": "stdout",
     "output_type": "stream",
     "text": [
      "78/78 [==============================] - 0s 3ms/step - loss: 232718.6406 - mean_squared_error: 232718.6406 - mean_absolute_error: 281.9915\n",
      "Validation MSE: 232718.640625\n",
      "Validation MAE: 281.991455078125\n"
     ]
    }
   ],
   "source": [
    "# Evaluate the model on validation data\n",
    "loss, mse, mae = model.evaluate(x_val, y_val)\n",
    "print('Validation MSE:', mse)\n",
    "print('Validation MAE:', mae)"
   ]
  },
  {
   "cell_type": "code",
   "execution_count": 45,
   "id": "d7f855ed",
   "metadata": {},
   "outputs": [
    {
     "name": "stdout",
     "output_type": "stream",
     "text": [
      "122/122 [==============================] - 0s 2ms/step\n"
     ]
    },
    {
     "data": {
      "text/plain": [
       "array([[1053.425  ],\n",
       "       [1052.9486 ],\n",
       "       [ 810.7326 ],\n",
       "       ...,\n",
       "       [ 189.75615],\n",
       "       [ 258.37585],\n",
       "       [ 301.5313 ]], dtype=float32)"
      ]
     },
     "execution_count": 45,
     "metadata": {},
     "output_type": "execute_result"
    }
   ],
   "source": [
    "model.predict(x_test)"
   ]
  }
 ],
 "metadata": {
  "kernelspec": {
   "display_name": "Python 3 (ipykernel)",
   "language": "python",
   "name": "python3"
  },
  "language_info": {
   "codemirror_mode": {
    "name": "ipython",
    "version": 3
   },
   "file_extension": ".py",
   "mimetype": "text/x-python",
   "name": "python",
   "nbconvert_exporter": "python",
   "pygments_lexer": "ipython3",
   "version": "3.9.12"
  }
 },
 "nbformat": 4,
 "nbformat_minor": 5
}
