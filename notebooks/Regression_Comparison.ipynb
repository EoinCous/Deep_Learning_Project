{
 "cells": [
  {
   "cell_type": "code",
   "execution_count": 20,
   "id": "d04e6d6c",
   "metadata": {},
   "outputs": [],
   "source": [
    "from keras.models import load_model\n",
    "from sklearn.preprocessing import LabelEncoder\n",
    "import pandas as pd\n",
    "import numpy as np"
   ]
  },
  {
   "cell_type": "code",
   "execution_count": 21,
   "id": "93a1c7e4",
   "metadata": {},
   "outputs": [],
   "source": [
    "# Load the regression models\n",
    "transformer_model = load_model('../models/transformer_regression_model.h5')\n",
    "MLP_model = load_model('../models/MLP_regression_model.h5')"
   ]
  },
  {
   "cell_type": "code",
   "execution_count": 22,
   "id": "2195778c",
   "metadata": {},
   "outputs": [],
   "source": [
    "# Load the test data\n",
    "#Load test data\n",
    "test_df = pd.read_csv('../data/cleaned_test.csv')\n",
    "\n",
    "# Extract the columns you want to use as input features\n",
    "columns = ['BERT_sentiment_score', 'normalised_word_count', 'pub_day', 'pub_hour']\n",
    "\n",
    "x_test = test_df[columns].dropna()\n",
    "\n",
    "train_df = pd.read_csv('../data/cleaned_train.csv')"
   ]
  },
  {
   "cell_type": "code",
   "execution_count": 23,
   "id": "bc625a96",
   "metadata": {},
   "outputs": [],
   "source": [
    "def label_encode(raw_data):\n",
    "    # Concatenate train and test data vertically to ensure consistent label encoding\n",
    "    combined_df = pd.concat([train_df['topic'], test_df['topic']], axis=0)\n",
    "\n",
    "    # Create an instance of LabelEncoder\n",
    "    le = LabelEncoder()\n",
    "\n",
    "    # Fit and transform the combined data using LabelEncoder\n",
    "    combined_encoded = le.fit_transform(combined_df)\n",
    "    \n",
    "    return np.array(le.transform(raw_data.dropna()))"
   ]
  },
  {
   "cell_type": "code",
   "execution_count": 24,
   "id": "834efa6f",
   "metadata": {},
   "outputs": [],
   "source": [
    "# Apply the LabelEncoder transformation on train data\n",
    "test_topic_encoded = pd.DataFrame(label_encode(test_df['topic']), columns=['topic encoded'])\n",
    "# Concatenate the 'topic_encoded' tensor with the other input features\n",
    "x_test = pd.concat([x_test, test_topic_encoded], axis=1)"
   ]
  },
  {
   "cell_type": "code",
   "execution_count": 26,
   "id": "9b5da1a7",
   "metadata": {},
   "outputs": [
    {
     "name": "stdout",
     "output_type": "stream",
     "text": [
      "122/122 [==============================] - 2s 4ms/step\n"
     ]
    },
    {
     "data": {
      "text/plain": [
       "array([[635.4996 ],\n",
       "       [634.2707 ],\n",
       "       [633.88763],\n",
       "       ...,\n",
       "       [141.44095],\n",
       "       [ 49.59222],\n",
       "       [230.27518]], dtype=float32)"
      ]
     },
     "execution_count": 26,
     "metadata": {},
     "output_type": "execute_result"
    }
   ],
   "source": [
    "transformer_model.predict(x_test)"
   ]
  },
  {
   "cell_type": "code",
   "execution_count": 27,
   "id": "a274131d",
   "metadata": {},
   "outputs": [
    {
     "name": "stdout",
     "output_type": "stream",
     "text": [
      "122/122 [==============================] - 0s 2ms/step\n"
     ]
    },
    {
     "data": {
      "text/plain": [
       "array([[934.73047],\n",
       "       [932.3764 ],\n",
       "       [823.02234],\n",
       "       ...,\n",
       "       [201.67836],\n",
       "       [471.15903],\n",
       "       [457.87823]], dtype=float32)"
      ]
     },
     "execution_count": 27,
     "metadata": {},
     "output_type": "execute_result"
    }
   ],
   "source": [
    "MLP_model.predict(x_test)"
   ]
  },
  {
   "cell_type": "code",
   "execution_count": null,
   "id": "b6c89abd",
   "metadata": {},
   "outputs": [],
   "source": []
  }
 ],
 "metadata": {
  "kernelspec": {
   "display_name": "Python 3 (ipykernel)",
   "language": "python",
   "name": "python3"
  },
  "language_info": {
   "codemirror_mode": {
    "name": "ipython",
    "version": 3
   },
   "file_extension": ".py",
   "mimetype": "text/x-python",
   "name": "python",
   "nbconvert_exporter": "python",
   "pygments_lexer": "ipython3",
   "version": "3.9.12"
  }
 },
 "nbformat": 4,
 "nbformat_minor": 5
}
