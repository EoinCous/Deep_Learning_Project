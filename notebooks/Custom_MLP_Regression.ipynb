{
 "cells": [
  {
   "cell_type": "markdown",
   "id": "92978309",
   "metadata": {},
   "source": [
    "# Multilayer Perceptron Regression Model\n",
    "Predicts the number of comments an article will get based on the article's topic, tone, length, hour of the day and day of the week"
   ]
  },
  {
   "cell_type": "code",
   "execution_count": null,
   "id": "3569ea9c",
   "metadata": {},
   "outputs": [],
   "source": [
    "import tensorflow as tf\n",
    "from tensorflow.keras.models import Sequential\n",
    "from tensorflow.keras.layers import Dense, BatchNormalization, Dropout\n",
    "from sklearn.preprocessing import LabelEncoder\n",
    "from sklearn.model_selection import train_test_split\n",
    "from keras.callbacks import EarlyStopping\n",
    "import pandas as pd\n",
    "import numpy as np"
   ]
  },
  {
   "cell_type": "code",
   "execution_count": 32,
   "id": "94c47fab",
   "metadata": {},
   "outputs": [],
   "source": [
    "#Load train data\n",
    "train_df = pd.read_csv('../data/cleaned_train.csv')\n",
    "\n",
    "# Extract the columns you want to use as input features\n",
    "columns = ['BERT_sentiment_score', 'normalised_word_count', 'pub_day', 'pub_hour']\n",
    "# Extract input features from the dataframe\n",
    "x_train = train_df[columns].dropna()\n",
    "\n",
    "y_train = np.array(train_df['n_comments'].dropna())"
   ]
  },
  {
   "cell_type": "code",
   "execution_count": 33,
   "id": "bd15824d",
   "metadata": {},
   "outputs": [],
   "source": [
    "#Load test data\n",
    "test_df = pd.read_csv('../data/cleaned_test.csv')\n",
    "\n",
    "x_test = test_df[columns].dropna()"
   ]
  },
  {
   "cell_type": "code",
   "execution_count": 34,
   "id": "82b53182",
   "metadata": {},
   "outputs": [],
   "source": [
    "def label_encode(raw_data):\n",
    "    # Concatenate train and test data vertically to ensure consistent label encoding\n",
    "    combined_df = pd.concat([train_df['topic'], test_df['topic']], axis=0)\n",
    "\n",
    "    # Create an instance of LabelEncoder\n",
    "    le = LabelEncoder()\n",
    "\n",
    "    # Fit and transform the combined data using LabelEncoder\n",
    "    combined_encoded = le.fit_transform(combined_df)\n",
    "    \n",
    "    return np.array(le.transform(raw_data.dropna()))"
   ]
  },
  {
   "cell_type": "code",
   "execution_count": 35,
   "id": "13bbd997",
   "metadata": {},
   "outputs": [],
   "source": [
    "# Apply the LabelEncoder transformation on train data\n",
    "train_topic_encoded = pd.DataFrame(label_encode(train_df['topic']), columns=['topic encoded'])\n",
    "# Concatenate the 'topic_encoded' tensor with the other input features\n",
    "x_train = pd.concat([x_train, train_topic_encoded], axis=1)"
   ]
  },
  {
   "cell_type": "code",
   "execution_count": 36,
   "id": "42055fec",
   "metadata": {},
   "outputs": [],
   "source": [
    "# Apply the LabelEncoder transformation on train data\n",
    "test_topic_encoded = pd.DataFrame(label_encode(test_df['topic']), columns=['topic encoded'])\n",
    "# Concatenate the 'topic_encoded' tensor with the other input features\n",
    "x_test = pd.concat([x_test, test_topic_encoded], axis=1)"
   ]
  },
  {
   "cell_type": "code",
   "execution_count": 37,
   "id": "01ce4a81",
   "metadata": {},
   "outputs": [],
   "source": [
    "# Training and validation split\n",
    "x_train, x_val, y_train, y_val = train_test_split(x_train, y_train, test_size=0.2, random_state=42)"
   ]
  },
  {
   "cell_type": "code",
   "execution_count": 38,
   "id": "86f9e323",
   "metadata": {},
   "outputs": [],
   "source": [
    "# Define the EarlyStopping callback\n",
    "early_stopping = EarlyStopping(monitor='val_loss', \n",
    "                               # Number of epochs to wait for improvement\n",
    "                               patience=10,  \n",
    "                               verbose=1, \n",
    "                               # Restore the weights of the best epoch\n",
    "                               restore_best_weights=True) "
   ]
  },
  {
   "cell_type": "code",
   "execution_count": null,
   "id": "c83b4fe1",
   "metadata": {},
   "outputs": [],
   "source": [
    "# Hyperparameters\n",
    "num_features = 5\n",
    "dropout = 0.2"
   ]
  },
  {
   "cell_type": "code",
   "execution_count": 39,
   "id": "7d5b639f",
   "metadata": {},
   "outputs": [
    {
     "name": "stdout",
     "output_type": "stream",
     "text": [
      "Model: \"sequential_3\"\n",
      "_________________________________________________________________\n",
      " Layer (type)                Output Shape              Param #   \n",
      "=================================================================\n",
      " dense_7 (Dense)             (None, 128)               768       \n",
      "                                                                 \n",
      " batch_normalization (BatchN  (None, 128)              512       \n",
      " ormalization)                                                   \n",
      "                                                                 \n",
      " dropout (Dropout)           (None, 128)               0         \n",
      "                                                                 \n",
      " dense_8 (Dense)             (None, 64)                8256      \n",
      "                                                                 \n",
      " batch_normalization_1 (Batc  (None, 64)               256       \n",
      " hNormalization)                                                 \n",
      "                                                                 \n",
      " dropout_1 (Dropout)         (None, 64)                0         \n",
      "                                                                 \n",
      " dense_9 (Dense)             (None, 32)                2080      \n",
      "                                                                 \n",
      " batch_normalization_2 (Batc  (None, 32)               128       \n",
      " hNormalization)                                                 \n",
      "                                                                 \n",
      " dropout_2 (Dropout)         (None, 32)                0         \n",
      "                                                                 \n",
      " dense_10 (Dense)            (None, 1)                 33        \n",
      "                                                                 \n",
      "=================================================================\n",
      "Total params: 12,033\n",
      "Trainable params: 11,585\n",
      "Non-trainable params: 448\n",
      "_________________________________________________________________\n"
     ]
    }
   ],
   "source": [
    "# Define MLP model architecture\n",
    "model = Sequential()\n",
    "# Input layer\n",
    "model.add(Dense(128, activation='relu', input_dim=num_features))\n",
    "model.add(BatchNormalization())\n",
    "model.add(Dropout(dropout))\n",
    "# Hidden layer\n",
    "model.add(Dense(64, activation='relu'))\n",
    "model.add(BatchNormalization())\n",
    "model.add(Dropout(dropout))\n",
    "# Hidden layer\n",
    "model.add(Dense(32, activation='relu'))\n",
    "model.add(BatchNormalization())\n",
    "model.add(Dropout(dropout))\n",
    "# Output layer\n",
    "model.add(Dense(1, activation='linear'))\n",
    "\n",
    "model.summary()"
   ]
  },
  {
   "cell_type": "code",
   "execution_count": 40,
   "id": "b5451755",
   "metadata": {},
   "outputs": [
    {
     "name": "stdout",
     "output_type": "stream",
     "text": [
      "Epoch 1/100\n",
      "312/312 [==============================] - 2s 4ms/step - loss: 366792.4375 - mean_squared_error: 366792.4375 - mean_absolute_error: 304.9885 - val_loss: 371520.6562 - val_mean_squared_error: 371520.6562 - val_mean_absolute_error: 301.4355\n",
      "Epoch 2/100\n",
      "312/312 [==============================] - 1s 3ms/step - loss: 354100.0312 - mean_squared_error: 354100.0312 - mean_absolute_error: 298.9378 - val_loss: 367288.1875 - val_mean_squared_error: 367288.1875 - val_mean_absolute_error: 307.7218\n",
      "Epoch 3/100\n",
      "312/312 [==============================] - 1s 3ms/step - loss: 333197.3438 - mean_squared_error: 333197.3438 - mean_absolute_error: 290.6393 - val_loss: 341757.9688 - val_mean_squared_error: 341757.9688 - val_mean_absolute_error: 291.5362\n",
      "Epoch 4/100\n",
      "312/312 [==============================] - 1s 3ms/step - loss: 309092.7188 - mean_squared_error: 309092.7188 - mean_absolute_error: 280.9439 - val_loss: 320107.2812 - val_mean_squared_error: 320107.2812 - val_mean_absolute_error: 276.3119\n",
      "Epoch 5/100\n",
      "312/312 [==============================] - 1s 3ms/step - loss: 289554.0000 - mean_squared_error: 289554.0000 - mean_absolute_error: 275.9881 - val_loss: 284470.2812 - val_mean_squared_error: 284470.2812 - val_mean_absolute_error: 268.2542\n",
      "Epoch 6/100\n",
      "312/312 [==============================] - 1s 4ms/step - loss: 272789.7812 - mean_squared_error: 272789.7812 - mean_absolute_error: 274.5394 - val_loss: 261801.9531 - val_mean_squared_error: 261801.9531 - val_mean_absolute_error: 259.2151\n",
      "Epoch 7/100\n",
      "312/312 [==============================] - 1s 4ms/step - loss: 257162.8594 - mean_squared_error: 257162.8594 - mean_absolute_error: 272.3174 - val_loss: 266360.0938 - val_mean_squared_error: 266360.0938 - val_mean_absolute_error: 256.2586\n",
      "Epoch 8/100\n",
      "312/312 [==============================] - 1s 5ms/step - loss: 249627.0938 - mean_squared_error: 249627.0938 - mean_absolute_error: 275.2999 - val_loss: 253904.5000 - val_mean_squared_error: 253904.5000 - val_mean_absolute_error: 260.9832\n",
      "Epoch 9/100\n",
      "312/312 [==============================] - 1s 4ms/step - loss: 243554.7812 - mean_squared_error: 243554.7812 - mean_absolute_error: 278.3990 - val_loss: 237834.5312 - val_mean_squared_error: 237834.5312 - val_mean_absolute_error: 283.2379\n",
      "Epoch 10/100\n",
      "312/312 [==============================] - 1s 3ms/step - loss: 236186.3281 - mean_squared_error: 236186.3281 - mean_absolute_error: 280.0414 - val_loss: 233883.3906 - val_mean_squared_error: 233883.3906 - val_mean_absolute_error: 282.8737\n",
      "Epoch 11/100\n",
      "312/312 [==============================] - 1s 3ms/step - loss: 235986.4375 - mean_squared_error: 235986.4375 - mean_absolute_error: 284.8766 - val_loss: 239583.2969 - val_mean_squared_error: 239583.2969 - val_mean_absolute_error: 303.0772\n",
      "Epoch 12/100\n",
      "312/312 [==============================] - 1s 3ms/step - loss: 236415.9688 - mean_squared_error: 236415.9688 - mean_absolute_error: 290.4318 - val_loss: 235604.6875 - val_mean_squared_error: 235604.6875 - val_mean_absolute_error: 272.7379\n",
      "Epoch 13/100\n",
      "312/312 [==============================] - 1s 3ms/step - loss: 236911.8750 - mean_squared_error: 236911.8750 - mean_absolute_error: 293.8200 - val_loss: 235233.0938 - val_mean_squared_error: 235233.0938 - val_mean_absolute_error: 270.9108\n",
      "Epoch 14/100\n",
      "312/312 [==============================] - 1s 3ms/step - loss: 233685.6719 - mean_squared_error: 233685.6719 - mean_absolute_error: 292.9230 - val_loss: 231915.5156 - val_mean_squared_error: 231915.5156 - val_mean_absolute_error: 273.0476\n",
      "Epoch 15/100\n",
      "312/312 [==============================] - 1s 3ms/step - loss: 234640.0000 - mean_squared_error: 234640.0000 - mean_absolute_error: 294.9566 - val_loss: 248073.6250 - val_mean_squared_error: 248073.6250 - val_mean_absolute_error: 271.2573\n",
      "Epoch 16/100\n",
      "312/312 [==============================] - 1s 3ms/step - loss: 236255.9219 - mean_squared_error: 236255.9219 - mean_absolute_error: 297.0317 - val_loss: 237033.7500 - val_mean_squared_error: 237033.7500 - val_mean_absolute_error: 274.8634\n",
      "Epoch 17/100\n",
      "312/312 [==============================] - 1s 3ms/step - loss: 233718.8594 - mean_squared_error: 233718.8594 - mean_absolute_error: 295.6232 - val_loss: 234356.4688 - val_mean_squared_error: 234356.4688 - val_mean_absolute_error: 303.9244\n",
      "Epoch 18/100\n",
      "312/312 [==============================] - 1s 3ms/step - loss: 235890.3438 - mean_squared_error: 235890.3438 - mean_absolute_error: 297.0269 - val_loss: 262895.8750 - val_mean_squared_error: 262895.8750 - val_mean_absolute_error: 262.2367\n",
      "Epoch 19/100\n",
      "312/312 [==============================] - 1s 3ms/step - loss: 235459.0625 - mean_squared_error: 235459.0625 - mean_absolute_error: 297.7862 - val_loss: 244099.1250 - val_mean_squared_error: 244099.1250 - val_mean_absolute_error: 291.8090\n",
      "Epoch 20/100\n",
      "312/312 [==============================] - 1s 3ms/step - loss: 236045.4062 - mean_squared_error: 236045.4062 - mean_absolute_error: 297.5937 - val_loss: 242262.3906 - val_mean_squared_error: 242262.3906 - val_mean_absolute_error: 268.3120\n",
      "Epoch 21/100\n",
      "312/312 [==============================] - 1s 4ms/step - loss: 233714.6250 - mean_squared_error: 233714.6250 - mean_absolute_error: 295.2550 - val_loss: 232272.9219 - val_mean_squared_error: 232272.9219 - val_mean_absolute_error: 279.5541\n",
      "Epoch 22/100\n",
      "312/312 [==============================] - 1s 4ms/step - loss: 228669.7656 - mean_squared_error: 228669.7656 - mean_absolute_error: 291.9921 - val_loss: 249410.9844 - val_mean_squared_error: 249410.9844 - val_mean_absolute_error: 337.9900\n",
      "Epoch 23/100\n",
      "312/312 [==============================] - 1s 5ms/step - loss: 230483.0625 - mean_squared_error: 230483.0625 - mean_absolute_error: 292.6781 - val_loss: 239175.6250 - val_mean_squared_error: 239175.6250 - val_mean_absolute_error: 271.3788\n",
      "Epoch 24/100\n",
      "306/312 [============================>.] - ETA: 0s - loss: 233908.2812 - mean_squared_error: 233908.2812 - mean_absolute_error: 294.9124Restoring model weights from the end of the best epoch: 14.\n",
      "312/312 [==============================] - 1s 4ms/step - loss: 234386.3125 - mean_squared_error: 234386.3125 - mean_absolute_error: 295.3381 - val_loss: 237121.6875 - val_mean_squared_error: 237121.6875 - val_mean_absolute_error: 307.3575\n",
      "Epoch 24: early stopping\n"
     ]
    },
    {
     "data": {
      "text/plain": [
       "<keras.callbacks.History at 0x22e960f0ca0>"
      ]
     },
     "execution_count": 40,
     "metadata": {},
     "output_type": "execute_result"
    }
   ],
   "source": [
    "# Compile the model\n",
    "model.compile(optimizer='adam', loss='mean_squared_error', metrics=['mean_squared_error', 'mean_absolute_error'])\n",
    "\n",
    "# Train the model\n",
    "model.fit(x_train, y_train, batch_size=32, epochs=100, validation_data=(x_val, y_val), callbacks=[early_stopping])"
   ]
  },
  {
   "cell_type": "code",
   "execution_count": 43,
   "id": "15889f67",
   "metadata": {},
   "outputs": [],
   "source": [
    "# save the trained model\n",
    "model.save('../models/MLP_regression_model.h5')"
   ]
  },
  {
   "cell_type": "code",
   "execution_count": 41,
   "id": "c9f2cc93",
   "metadata": {},
   "outputs": [
    {
     "name": "stdout",
     "output_type": "stream",
     "text": [
      "78/78 [==============================] - 0s 1ms/step - loss: 231915.5156 - mean_squared_error: 231915.5156 - mean_absolute_error: 273.0476\n",
      "Validation MSE: 231915.515625\n",
      "Validation MAE: 273.0476379394531\n"
     ]
    }
   ],
   "source": [
    "# Evaluate the model on validation data\n",
    "loss, mse, mae = model.evaluate(x_val, y_val)\n",
    "print('Validation MSE:', mse)\n",
    "print('Validation MAE:', mae)"
   ]
  },
  {
   "cell_type": "code",
   "execution_count": null,
   "id": "bd033d85",
   "metadata": {},
   "outputs": [],
   "source": []
  }
 ],
 "metadata": {
  "kernelspec": {
   "display_name": "Python 3 (ipykernel)",
   "language": "python",
   "name": "python3"
  },
  "language_info": {
   "codemirror_mode": {
    "name": "ipython",
    "version": 3
   },
   "file_extension": ".py",
   "mimetype": "text/x-python",
   "name": "python",
   "nbconvert_exporter": "python",
   "pygments_lexer": "ipython3",
   "version": "3.9.12"
  }
 },
 "nbformat": 4,
 "nbformat_minor": 5
}
