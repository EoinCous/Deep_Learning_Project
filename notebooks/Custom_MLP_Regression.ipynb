{
 "cells": [
  {
   "cell_type": "markdown",
   "id": "92978309",
   "metadata": {},
   "source": [
    "# Multilayer Perceptron Regression Model\n",
    "Predicts the number of comments an article will get based on the article's topic, tone, length, hour of the day and day of the week"
   ]
  },
  {
   "cell_type": "code",
   "execution_count": 1,
   "id": "3569ea9c",
   "metadata": {},
   "outputs": [],
   "source": [
    "import tensorflow as tf\n",
    "from tensorflow.keras.models import Sequential\n",
    "from tensorflow.keras.layers import Dense, BatchNormalization, Dropout\n",
    "from sklearn.preprocessing import LabelEncoder\n",
    "from sklearn.model_selection import train_test_split\n",
    "from keras.callbacks import EarlyStopping\n",
    "import pandas as pd\n",
    "import numpy as np"
   ]
  },
  {
   "cell_type": "code",
   "execution_count": 2,
   "id": "94c47fab",
   "metadata": {},
   "outputs": [],
   "source": [
    "#Load training data\n",
    "train_df = pd.read_csv('../data/regression_train_data.csv')\n",
    "\n",
    "# Extract the columns you want to use as input features\n",
    "columns = ['BERT_sentiment_score', 'normalised_word_count', 'pub_day', 'pub_hour', 'topic']\n",
    "# Extract input features from the dataframe\n",
    "x_train = np.array(train_df[columns])\n",
    "\n",
    "y_train = np.array(train_df['n_comments'])"
   ]
  },
  {
   "cell_type": "code",
   "execution_count": 3,
   "id": "01ce4a81",
   "metadata": {},
   "outputs": [],
   "source": [
    "# Training and validation split\n",
    "x_train, x_val, y_train, y_val = train_test_split(x_train, y_train, test_size=0.2, random_state=42)"
   ]
  },
  {
   "cell_type": "code",
   "execution_count": 4,
   "id": "86f9e323",
   "metadata": {},
   "outputs": [],
   "source": [
    "# Define the EarlyStopping callback\n",
    "early_stopping = EarlyStopping(monitor='val_loss', \n",
    "                               # Number of epochs to wait for improvement\n",
    "                               patience=10,  \n",
    "                               verbose=1, \n",
    "                               # Restore the weights of the best epoch\n",
    "                               restore_best_weights=True) "
   ]
  },
  {
   "cell_type": "code",
   "execution_count": 5,
   "id": "c83b4fe1",
   "metadata": {},
   "outputs": [],
   "source": [
    "# Hyperparameters\n",
    "num_features = 5\n",
    "dropout = 0.2"
   ]
  },
  {
   "cell_type": "code",
   "execution_count": 6,
   "id": "7d5b639f",
   "metadata": {},
   "outputs": [
    {
     "name": "stdout",
     "output_type": "stream",
     "text": [
      "Model: \"sequential\"\n",
      "_________________________________________________________________\n",
      " Layer (type)                Output Shape              Param #   \n",
      "=================================================================\n",
      " dense (Dense)               (None, 128)               768       \n",
      "                                                                 \n",
      " batch_normalization (BatchN  (None, 128)              512       \n",
      " ormalization)                                                   \n",
      "                                                                 \n",
      " dropout (Dropout)           (None, 128)               0         \n",
      "                                                                 \n",
      " dense_1 (Dense)             (None, 64)                8256      \n",
      "                                                                 \n",
      " batch_normalization_1 (Batc  (None, 64)               256       \n",
      " hNormalization)                                                 \n",
      "                                                                 \n",
      " dropout_1 (Dropout)         (None, 64)                0         \n",
      "                                                                 \n",
      " dense_2 (Dense)             (None, 32)                2080      \n",
      "                                                                 \n",
      " batch_normalization_2 (Batc  (None, 32)               128       \n",
      " hNormalization)                                                 \n",
      "                                                                 \n",
      " dropout_2 (Dropout)         (None, 32)                0         \n",
      "                                                                 \n",
      " dense_3 (Dense)             (None, 1)                 33        \n",
      "                                                                 \n",
      "=================================================================\n",
      "Total params: 12,033\n",
      "Trainable params: 11,585\n",
      "Non-trainable params: 448\n",
      "_________________________________________________________________\n"
     ]
    }
   ],
   "source": [
    "# Define MLP model architecture\n",
    "model = Sequential()\n",
    "# Input layer\n",
    "model.add(Dense(128, activation='relu', input_dim=num_features))\n",
    "model.add(BatchNormalization())\n",
    "model.add(Dropout(dropout))\n",
    "# Hidden layer\n",
    "model.add(Dense(64, activation='relu'))\n",
    "model.add(BatchNormalization())\n",
    "model.add(Dropout(dropout))\n",
    "# Hidden layer\n",
    "model.add(Dense(32, activation='relu'))\n",
    "model.add(BatchNormalization())\n",
    "model.add(Dropout(dropout))\n",
    "# Output layer\n",
    "model.add(Dense(1, activation='linear'))\n",
    "\n",
    "model.summary()"
   ]
  },
  {
   "cell_type": "code",
   "execution_count": 7,
   "id": "b5451755",
   "metadata": {},
   "outputs": [
    {
     "name": "stdout",
     "output_type": "stream",
     "text": [
      "Epoch 1/100\n",
      "250/250 [==============================] - 3s 5ms/step - loss: 377429.3750 - mean_squared_error: 377429.3750 - mean_absolute_error: 310.4794 - val_loss: 325531.4062 - val_mean_squared_error: 325531.4062 - val_mean_absolute_error: 285.9825\n",
      "Epoch 2/100\n",
      "250/250 [==============================] - 1s 3ms/step - loss: 368005.0625 - mean_squared_error: 368005.0625 - mean_absolute_error: 306.0757 - val_loss: 313683.6875 - val_mean_squared_error: 313683.6875 - val_mean_absolute_error: 281.5088\n",
      "Epoch 3/100\n",
      "250/250 [==============================] - 1s 4ms/step - loss: 353511.3125 - mean_squared_error: 353511.3125 - mean_absolute_error: 299.0978 - val_loss: 310218.9688 - val_mean_squared_error: 310218.9688 - val_mean_absolute_error: 281.8509\n",
      "Epoch 4/100\n",
      "250/250 [==============================] - 1s 3ms/step - loss: 335265.3125 - mean_squared_error: 335265.3125 - mean_absolute_error: 291.0441 - val_loss: 280224.7500 - val_mean_squared_error: 280224.7500 - val_mean_absolute_error: 265.0449\n",
      "Epoch 5/100\n",
      "250/250 [==============================] - 1s 3ms/step - loss: 315611.0312 - mean_squared_error: 315611.0312 - mean_absolute_error: 282.8932 - val_loss: 266626.6875 - val_mean_squared_error: 266626.6875 - val_mean_absolute_error: 260.3073\n",
      "Epoch 6/100\n",
      "250/250 [==============================] - 1s 3ms/step - loss: 297481.8750 - mean_squared_error: 297481.8750 - mean_absolute_error: 275.8625 - val_loss: 257085.7344 - val_mean_squared_error: 257085.7344 - val_mean_absolute_error: 254.7597\n",
      "Epoch 7/100\n",
      "250/250 [==============================] - 1s 3ms/step - loss: 281463.1250 - mean_squared_error: 281463.1250 - mean_absolute_error: 272.8835 - val_loss: 280937.6562 - val_mean_squared_error: 280937.6562 - val_mean_absolute_error: 257.1811\n",
      "Epoch 8/100\n",
      "250/250 [==============================] - 1s 3ms/step - loss: 269294.5000 - mean_squared_error: 269294.5000 - mean_absolute_error: 270.7798 - val_loss: 258676.7969 - val_mean_squared_error: 258676.7969 - val_mean_absolute_error: 250.6076\n",
      "Epoch 9/100\n",
      "250/250 [==============================] - 1s 3ms/step - loss: 260895.3906 - mean_squared_error: 260895.3906 - mean_absolute_error: 272.4683 - val_loss: 221549.2656 - val_mean_squared_error: 221549.2656 - val_mean_absolute_error: 255.8100\n",
      "Epoch 10/100\n",
      "250/250 [==============================] - 1s 3ms/step - loss: 254171.0000 - mean_squared_error: 254171.0000 - mean_absolute_error: 275.2916 - val_loss: 215516.7656 - val_mean_squared_error: 215516.7656 - val_mean_absolute_error: 261.9025\n",
      "Epoch 11/100\n",
      "250/250 [==============================] - 1s 3ms/step - loss: 247881.2031 - mean_squared_error: 247881.2031 - mean_absolute_error: 276.2937 - val_loss: 220672.7031 - val_mean_squared_error: 220672.7031 - val_mean_absolute_error: 308.9608\n",
      "Epoch 12/100\n",
      "250/250 [==============================] - 1s 3ms/step - loss: 244738.6094 - mean_squared_error: 244738.6094 - mean_absolute_error: 281.7327 - val_loss: 214860.8281 - val_mean_squared_error: 214860.8281 - val_mean_absolute_error: 256.6379\n",
      "Epoch 13/100\n",
      "250/250 [==============================] - 1s 3ms/step - loss: 242104.5469 - mean_squared_error: 242104.5469 - mean_absolute_error: 284.9781 - val_loss: 211576.2031 - val_mean_squared_error: 211576.2031 - val_mean_absolute_error: 254.0526\n",
      "Epoch 14/100\n",
      "250/250 [==============================] - 1s 3ms/step - loss: 239360.5000 - mean_squared_error: 239360.5000 - mean_absolute_error: 286.2927 - val_loss: 206115.4531 - val_mean_squared_error: 206115.4531 - val_mean_absolute_error: 277.8655\n",
      "Epoch 15/100\n",
      "250/250 [==============================] - 1s 3ms/step - loss: 240615.0156 - mean_squared_error: 240615.0156 - mean_absolute_error: 289.5768 - val_loss: 204874.0625 - val_mean_squared_error: 204874.0625 - val_mean_absolute_error: 271.7080\n",
      "Epoch 16/100\n",
      "250/250 [==============================] - 1s 3ms/step - loss: 237534.1875 - mean_squared_error: 237534.1875 - mean_absolute_error: 291.7158 - val_loss: 219573.5781 - val_mean_squared_error: 219573.5781 - val_mean_absolute_error: 315.6157\n",
      "Epoch 17/100\n",
      "250/250 [==============================] - 1s 5ms/step - loss: 237979.6562 - mean_squared_error: 237979.6562 - mean_absolute_error: 293.8363 - val_loss: 205854.1406 - val_mean_squared_error: 205854.1406 - val_mean_absolute_error: 269.9739\n",
      "Epoch 18/100\n",
      "250/250 [==============================] - 1s 4ms/step - loss: 237663.1875 - mean_squared_error: 237663.1875 - mean_absolute_error: 293.3925 - val_loss: 203463.7812 - val_mean_squared_error: 203463.7812 - val_mean_absolute_error: 266.5581\n",
      "Epoch 19/100\n",
      "250/250 [==============================] - 1s 4ms/step - loss: 236377.8125 - mean_squared_error: 236377.8125 - mean_absolute_error: 294.5980 - val_loss: 204902.0625 - val_mean_squared_error: 204902.0625 - val_mean_absolute_error: 285.3889\n",
      "Epoch 20/100\n",
      "250/250 [==============================] - 1s 4ms/step - loss: 235199.1094 - mean_squared_error: 235199.1094 - mean_absolute_error: 295.6151 - val_loss: 207875.3125 - val_mean_squared_error: 207875.3125 - val_mean_absolute_error: 277.2201\n",
      "Epoch 21/100\n",
      "250/250 [==============================] - 1s 4ms/step - loss: 238713.0469 - mean_squared_error: 238713.0469 - mean_absolute_error: 295.5311 - val_loss: 210846.2969 - val_mean_squared_error: 210846.2969 - val_mean_absolute_error: 304.0451\n",
      "Epoch 22/100\n",
      "250/250 [==============================] - 1s 4ms/step - loss: 240106.4375 - mean_squared_error: 240106.4375 - mean_absolute_error: 299.3639 - val_loss: 209709.0781 - val_mean_squared_error: 209709.0781 - val_mean_absolute_error: 297.6940\n",
      "Epoch 23/100\n",
      "250/250 [==============================] - 1s 3ms/step - loss: 238170.8750 - mean_squared_error: 238170.8750 - mean_absolute_error: 296.7986 - val_loss: 203534.8594 - val_mean_squared_error: 203534.8594 - val_mean_absolute_error: 272.4205\n",
      "Epoch 24/100\n",
      "250/250 [==============================] - 1s 3ms/step - loss: 237649.7812 - mean_squared_error: 237649.7812 - mean_absolute_error: 298.1633 - val_loss: 212383.6094 - val_mean_squared_error: 212383.6094 - val_mean_absolute_error: 256.7865\n",
      "Epoch 25/100\n",
      "250/250 [==============================] - 1s 3ms/step - loss: 238710.9844 - mean_squared_error: 238710.9844 - mean_absolute_error: 297.1076 - val_loss: 204957.8906 - val_mean_squared_error: 204957.8906 - val_mean_absolute_error: 266.1536\n",
      "Epoch 26/100\n",
      "250/250 [==============================] - 1s 3ms/step - loss: 233258.7656 - mean_squared_error: 233258.7656 - mean_absolute_error: 295.3360 - val_loss: 201802.8125 - val_mean_squared_error: 201802.8125 - val_mean_absolute_error: 275.1711\n",
      "Epoch 27/100\n",
      "250/250 [==============================] - 1s 3ms/step - loss: 235447.4531 - mean_squared_error: 235447.4531 - mean_absolute_error: 295.9131 - val_loss: 213995.9062 - val_mean_squared_error: 213995.9062 - val_mean_absolute_error: 256.8942\n",
      "Epoch 28/100\n",
      "250/250 [==============================] - 1s 3ms/step - loss: 233192.3906 - mean_squared_error: 233192.3906 - mean_absolute_error: 294.6001 - val_loss: 211429.3281 - val_mean_squared_error: 211429.3281 - val_mean_absolute_error: 303.7525\n",
      "Epoch 29/100\n",
      "250/250 [==============================] - 1s 3ms/step - loss: 233442.7812 - mean_squared_error: 233442.7812 - mean_absolute_error: 294.3541 - val_loss: 203074.3906 - val_mean_squared_error: 203074.3906 - val_mean_absolute_error: 261.8742\n",
      "Epoch 30/100\n",
      "250/250 [==============================] - 1s 3ms/step - loss: 235077.6094 - mean_squared_error: 235077.6094 - mean_absolute_error: 295.6951 - val_loss: 205460.6719 - val_mean_squared_error: 205460.6719 - val_mean_absolute_error: 268.0039\n",
      "Epoch 31/100\n",
      "250/250 [==============================] - 1s 3ms/step - loss: 235761.9062 - mean_squared_error: 235761.9062 - mean_absolute_error: 295.5927 - val_loss: 209274.8906 - val_mean_squared_error: 209274.8906 - val_mean_absolute_error: 283.6275\n",
      "Epoch 32/100\n",
      "250/250 [==============================] - 1s 3ms/step - loss: 234773.5625 - mean_squared_error: 234773.5625 - mean_absolute_error: 294.4641 - val_loss: 204523.3594 - val_mean_squared_error: 204523.3594 - val_mean_absolute_error: 261.2745\n",
      "Epoch 33/100\n"
     ]
    },
    {
     "name": "stdout",
     "output_type": "stream",
     "text": [
      "250/250 [==============================] - 1s 3ms/step - loss: 232105.9375 - mean_squared_error: 232105.9375 - mean_absolute_error: 293.4659 - val_loss: 202940.4844 - val_mean_squared_error: 202940.4844 - val_mean_absolute_error: 271.1512\n",
      "Epoch 34/100\n",
      "250/250 [==============================] - 1s 3ms/step - loss: 236070.0781 - mean_squared_error: 236070.0781 - mean_absolute_error: 296.0558 - val_loss: 204467.0000 - val_mean_squared_error: 204467.0000 - val_mean_absolute_error: 269.9231\n",
      "Epoch 35/100\n",
      "250/250 [==============================] - 1s 3ms/step - loss: 235452.6562 - mean_squared_error: 235452.6562 - mean_absolute_error: 295.5951 - val_loss: 202229.4844 - val_mean_squared_error: 202229.4844 - val_mean_absolute_error: 263.1682\n",
      "Epoch 36/100\n",
      "250/250 [==============================] - 1s 4ms/step - loss: 232615.1094 - mean_squared_error: 232615.1094 - mean_absolute_error: 293.9267 - val_loss: 201140.4688 - val_mean_squared_error: 201140.4688 - val_mean_absolute_error: 274.0835\n",
      "Epoch 37/100\n",
      "250/250 [==============================] - 1s 4ms/step - loss: 233056.4844 - mean_squared_error: 233056.4844 - mean_absolute_error: 294.1527 - val_loss: 230290.5312 - val_mean_squared_error: 230290.5312 - val_mean_absolute_error: 346.3860\n",
      "Epoch 38/100\n",
      "250/250 [==============================] - 1s 4ms/step - loss: 237867.4062 - mean_squared_error: 237867.4062 - mean_absolute_error: 297.7960 - val_loss: 207333.0781 - val_mean_squared_error: 207333.0781 - val_mean_absolute_error: 273.7526\n",
      "Epoch 39/100\n",
      "250/250 [==============================] - 1s 4ms/step - loss: 236720.5781 - mean_squared_error: 236720.5781 - mean_absolute_error: 295.6364 - val_loss: 206392.8281 - val_mean_squared_error: 206392.8281 - val_mean_absolute_error: 278.2245\n",
      "Epoch 40/100\n",
      "250/250 [==============================] - 1s 4ms/step - loss: 235083.7344 - mean_squared_error: 235083.7344 - mean_absolute_error: 295.5681 - val_loss: 202695.7188 - val_mean_squared_error: 202695.7188 - val_mean_absolute_error: 266.7004\n",
      "Epoch 41/100\n",
      "250/250 [==============================] - 1s 3ms/step - loss: 234173.7500 - mean_squared_error: 234173.7500 - mean_absolute_error: 293.5053 - val_loss: 204480.8281 - val_mean_squared_error: 204480.8281 - val_mean_absolute_error: 285.4260\n",
      "Epoch 42/100\n",
      "250/250 [==============================] - 1s 3ms/step - loss: 234856.7812 - mean_squared_error: 234856.7812 - mean_absolute_error: 294.2963 - val_loss: 203419.8281 - val_mean_squared_error: 203419.8281 - val_mean_absolute_error: 267.8989\n",
      "Epoch 43/100\n",
      "250/250 [==============================] - 1s 3ms/step - loss: 233801.4375 - mean_squared_error: 233801.4375 - mean_absolute_error: 294.0782 - val_loss: 204101.8594 - val_mean_squared_error: 204101.8594 - val_mean_absolute_error: 279.1388\n",
      "Epoch 44/100\n",
      "250/250 [==============================] - 1s 3ms/step - loss: 235356.0938 - mean_squared_error: 235356.0938 - mean_absolute_error: 295.5959 - val_loss: 209368.0781 - val_mean_squared_error: 209368.0781 - val_mean_absolute_error: 257.5954\n",
      "Epoch 45/100\n",
      "250/250 [==============================] - 1s 3ms/step - loss: 233919.1719 - mean_squared_error: 233919.1719 - mean_absolute_error: 293.4897 - val_loss: 204442.2656 - val_mean_squared_error: 204442.2656 - val_mean_absolute_error: 282.9328\n",
      "Epoch 46/100\n",
      "250/250 [==============================] - 1s 3ms/step - loss: 234875.0469 - mean_squared_error: 234875.0469 - mean_absolute_error: 293.0789 - val_loss: 200903.4375 - val_mean_squared_error: 200903.4375 - val_mean_absolute_error: 264.8357\n",
      "Epoch 47/100\n",
      "250/250 [==============================] - 1s 3ms/step - loss: 235374.7500 - mean_squared_error: 235374.7500 - mean_absolute_error: 295.6151 - val_loss: 202346.2500 - val_mean_squared_error: 202346.2500 - val_mean_absolute_error: 262.0704\n",
      "Epoch 48/100\n",
      "250/250 [==============================] - 1s 3ms/step - loss: 233870.9219 - mean_squared_error: 233870.9219 - mean_absolute_error: 291.4821 - val_loss: 208189.5156 - val_mean_squared_error: 208189.5156 - val_mean_absolute_error: 260.4503\n",
      "Epoch 49/100\n",
      "250/250 [==============================] - 1s 3ms/step - loss: 232017.0625 - mean_squared_error: 232017.0625 - mean_absolute_error: 292.6369 - val_loss: 201380.7031 - val_mean_squared_error: 201380.7031 - val_mean_absolute_error: 283.3795\n",
      "Epoch 50/100\n",
      "250/250 [==============================] - 1s 3ms/step - loss: 233319.4375 - mean_squared_error: 233319.4375 - mean_absolute_error: 293.3541 - val_loss: 200249.7344 - val_mean_squared_error: 200249.7344 - val_mean_absolute_error: 265.7528\n",
      "Epoch 51/100\n",
      "250/250 [==============================] - 1s 3ms/step - loss: 233270.0625 - mean_squared_error: 233270.0625 - mean_absolute_error: 292.8634 - val_loss: 204322.5000 - val_mean_squared_error: 204322.5000 - val_mean_absolute_error: 261.4850\n",
      "Epoch 52/100\n",
      "250/250 [==============================] - 1s 3ms/step - loss: 235345.2500 - mean_squared_error: 235345.2500 - mean_absolute_error: 294.0711 - val_loss: 206006.6562 - val_mean_squared_error: 206006.6562 - val_mean_absolute_error: 263.5440\n",
      "Epoch 53/100\n",
      "250/250 [==============================] - 1s 3ms/step - loss: 233061.4375 - mean_squared_error: 233061.4375 - mean_absolute_error: 293.5371 - val_loss: 202474.0156 - val_mean_squared_error: 202474.0156 - val_mean_absolute_error: 272.2975\n",
      "Epoch 54/100\n",
      "250/250 [==============================] - 1s 3ms/step - loss: 231778.8906 - mean_squared_error: 231778.8906 - mean_absolute_error: 291.3960 - val_loss: 199301.7344 - val_mean_squared_error: 199301.7344 - val_mean_absolute_error: 265.4923\n",
      "Epoch 55/100\n",
      "250/250 [==============================] - 1s 3ms/step - loss: 229778.9531 - mean_squared_error: 229778.9531 - mean_absolute_error: 290.1517 - val_loss: 199184.0938 - val_mean_squared_error: 199184.0938 - val_mean_absolute_error: 257.4983\n",
      "Epoch 56/100\n",
      "250/250 [==============================] - 1s 4ms/step - loss: 233353.5000 - mean_squared_error: 233353.5000 - mean_absolute_error: 292.3956 - val_loss: 202910.2031 - val_mean_squared_error: 202910.2031 - val_mean_absolute_error: 253.1445\n",
      "Epoch 57/100\n",
      "250/250 [==============================] - 1s 4ms/step - loss: 231358.1719 - mean_squared_error: 231358.1719 - mean_absolute_error: 291.0757 - val_loss: 205607.7188 - val_mean_squared_error: 205607.7188 - val_mean_absolute_error: 289.5692\n",
      "Epoch 58/100\n",
      "250/250 [==============================] - 1s 4ms/step - loss: 230737.6562 - mean_squared_error: 230737.6562 - mean_absolute_error: 290.5720 - val_loss: 203942.0312 - val_mean_squared_error: 203942.0312 - val_mean_absolute_error: 266.7075\n",
      "Epoch 59/100\n",
      "250/250 [==============================] - 1s 4ms/step - loss: 232171.5938 - mean_squared_error: 232171.5938 - mean_absolute_error: 291.7832 - val_loss: 201426.0938 - val_mean_squared_error: 201426.0938 - val_mean_absolute_error: 262.2144\n",
      "Epoch 60/100\n",
      "250/250 [==============================] - 1s 3ms/step - loss: 229987.9219 - mean_squared_error: 229987.9219 - mean_absolute_error: 292.2339 - val_loss: 206894.7969 - val_mean_squared_error: 206894.7969 - val_mean_absolute_error: 270.1995\n",
      "Epoch 61/100\n",
      "250/250 [==============================] - 1s 3ms/step - loss: 232599.7500 - mean_squared_error: 232599.7500 - mean_absolute_error: 291.7887 - val_loss: 205410.4219 - val_mean_squared_error: 205410.4219 - val_mean_absolute_error: 258.5498\n",
      "Epoch 62/100\n",
      "250/250 [==============================] - 1s 3ms/step - loss: 233527.4219 - mean_squared_error: 233527.4219 - mean_absolute_error: 292.5546 - val_loss: 200170.0938 - val_mean_squared_error: 200170.0938 - val_mean_absolute_error: 270.8880\n",
      "Epoch 63/100\n",
      "250/250 [==============================] - 1s 3ms/step - loss: 230538.4531 - mean_squared_error: 230538.4531 - mean_absolute_error: 290.0313 - val_loss: 206129.4375 - val_mean_squared_error: 206129.4375 - val_mean_absolute_error: 289.3174\n",
      "Epoch 64/100\n",
      "250/250 [==============================] - 1s 3ms/step - loss: 229124.0625 - mean_squared_error: 229124.0625 - mean_absolute_error: 289.0255 - val_loss: 198412.8281 - val_mean_squared_error: 198412.8281 - val_mean_absolute_error: 268.7215\n",
      "Epoch 65/100\n"
     ]
    },
    {
     "name": "stdout",
     "output_type": "stream",
     "text": [
      "250/250 [==============================] - 1s 4ms/step - loss: 230310.2812 - mean_squared_error: 230310.2812 - mean_absolute_error: 289.5506 - val_loss: 210889.1406 - val_mean_squared_error: 210889.1406 - val_mean_absolute_error: 250.4619\n",
      "Epoch 66/100\n",
      "250/250 [==============================] - 1s 5ms/step - loss: 228246.4375 - mean_squared_error: 228246.4375 - mean_absolute_error: 289.2497 - val_loss: 199589.5000 - val_mean_squared_error: 199589.5000 - val_mean_absolute_error: 268.6662\n",
      "Epoch 67/100\n",
      "250/250 [==============================] - 1s 4ms/step - loss: 232113.1562 - mean_squared_error: 232113.1562 - mean_absolute_error: 291.3314 - val_loss: 200651.0781 - val_mean_squared_error: 200651.0781 - val_mean_absolute_error: 272.7868\n",
      "Epoch 68/100\n",
      "250/250 [==============================] - 1s 4ms/step - loss: 228626.6719 - mean_squared_error: 228626.6719 - mean_absolute_error: 288.5007 - val_loss: 198117.9844 - val_mean_squared_error: 198117.9844 - val_mean_absolute_error: 261.2218\n",
      "Epoch 69/100\n",
      "250/250 [==============================] - 1s 3ms/step - loss: 228522.4688 - mean_squared_error: 228522.4688 - mean_absolute_error: 290.4197 - val_loss: 198310.2500 - val_mean_squared_error: 198310.2500 - val_mean_absolute_error: 262.0374\n",
      "Epoch 70/100\n",
      "250/250 [==============================] - 1s 3ms/step - loss: 227647.7656 - mean_squared_error: 227647.7656 - mean_absolute_error: 289.3658 - val_loss: 212937.6250 - val_mean_squared_error: 212937.6250 - val_mean_absolute_error: 249.2006\n",
      "Epoch 71/100\n",
      "250/250 [==============================] - 1s 4ms/step - loss: 229871.4688 - mean_squared_error: 229871.4688 - mean_absolute_error: 290.8302 - val_loss: 197427.6094 - val_mean_squared_error: 197427.6094 - val_mean_absolute_error: 258.7668\n",
      "Epoch 72/100\n",
      "250/250 [==============================] - 1s 3ms/step - loss: 227533.6406 - mean_squared_error: 227533.6406 - mean_absolute_error: 287.6507 - val_loss: 195626.7188 - val_mean_squared_error: 195626.7188 - val_mean_absolute_error: 270.9416\n",
      "Epoch 73/100\n",
      "250/250 [==============================] - 1s 4ms/step - loss: 230377.0312 - mean_squared_error: 230377.0312 - mean_absolute_error: 290.3996 - val_loss: 197019.0312 - val_mean_squared_error: 197019.0312 - val_mean_absolute_error: 262.7990\n",
      "Epoch 74/100\n",
      "250/250 [==============================] - 1s 4ms/step - loss: 226676.4219 - mean_squared_error: 226676.4219 - mean_absolute_error: 287.5289 - val_loss: 194532.0000 - val_mean_squared_error: 194532.0000 - val_mean_absolute_error: 270.4090\n",
      "Epoch 75/100\n",
      "250/250 [==============================] - 1s 4ms/step - loss: 229475.7344 - mean_squared_error: 229475.7344 - mean_absolute_error: 290.3758 - val_loss: 203823.6406 - val_mean_squared_error: 203823.6406 - val_mean_absolute_error: 266.7257\n",
      "Epoch 76/100\n",
      "250/250 [==============================] - 1s 4ms/step - loss: 229474.2188 - mean_squared_error: 229474.2188 - mean_absolute_error: 289.6301 - val_loss: 204074.4688 - val_mean_squared_error: 204074.4688 - val_mean_absolute_error: 275.3039\n",
      "Epoch 77/100\n",
      "250/250 [==============================] - 1s 3ms/step - loss: 227899.9688 - mean_squared_error: 227899.9688 - mean_absolute_error: 288.5644 - val_loss: 199185.2656 - val_mean_squared_error: 199185.2656 - val_mean_absolute_error: 279.7549\n",
      "Epoch 78/100\n",
      "250/250 [==============================] - 1s 3ms/step - loss: 229851.0625 - mean_squared_error: 229851.0625 - mean_absolute_error: 289.6503 - val_loss: 199136.0938 - val_mean_squared_error: 199136.0938 - val_mean_absolute_error: 266.8206\n",
      "Epoch 79/100\n",
      "250/250 [==============================] - 1s 3ms/step - loss: 227861.0312 - mean_squared_error: 227861.0312 - mean_absolute_error: 289.5132 - val_loss: 200002.1094 - val_mean_squared_error: 200002.1094 - val_mean_absolute_error: 282.1656\n",
      "Epoch 80/100\n",
      "250/250 [==============================] - 1s 3ms/step - loss: 229844.3906 - mean_squared_error: 229844.3906 - mean_absolute_error: 289.5825 - val_loss: 198491.1250 - val_mean_squared_error: 198491.1250 - val_mean_absolute_error: 257.4677\n",
      "Epoch 81/100\n",
      "250/250 [==============================] - 1s 3ms/step - loss: 226914.4062 - mean_squared_error: 226914.4062 - mean_absolute_error: 288.8671 - val_loss: 204345.2656 - val_mean_squared_error: 204345.2656 - val_mean_absolute_error: 256.7042\n",
      "Epoch 82/100\n",
      "250/250 [==============================] - 1s 3ms/step - loss: 226990.8125 - mean_squared_error: 226990.8125 - mean_absolute_error: 286.5146 - val_loss: 198232.3750 - val_mean_squared_error: 198232.3750 - val_mean_absolute_error: 279.8732\n",
      "Epoch 83/100\n",
      "250/250 [==============================] - 1s 3ms/step - loss: 231309.4219 - mean_squared_error: 231309.4219 - mean_absolute_error: 289.7082 - val_loss: 210434.0000 - val_mean_squared_error: 210434.0000 - val_mean_absolute_error: 246.4999\n",
      "Epoch 84/100\n",
      "245/250 [============================>.] - ETA: 0s - loss: 227743.2188 - mean_squared_error: 227743.2188 - mean_absolute_error: 289.0926Restoring model weights from the end of the best epoch: 74.\n",
      "250/250 [==============================] - 1s 3ms/step - loss: 226734.0625 - mean_squared_error: 226734.0625 - mean_absolute_error: 288.8090 - val_loss: 199978.2344 - val_mean_squared_error: 199978.2344 - val_mean_absolute_error: 254.5542\n",
      "Epoch 84: early stopping\n"
     ]
    },
    {
     "data": {
      "text/plain": [
       "<keras.callbacks.History at 0x174b3400400>"
      ]
     },
     "execution_count": 7,
     "metadata": {},
     "output_type": "execute_result"
    }
   ],
   "source": [
    "# Compile the model\n",
    "model.compile(optimizer='adam', loss='mean_squared_error', metrics=['mean_squared_error', 'mean_absolute_error'])\n",
    "\n",
    "# Train the model\n",
    "model.fit(x_train, y_train, batch_size=32, epochs=100, validation_data=(x_val, y_val), callbacks=[early_stopping])"
   ]
  },
  {
   "cell_type": "code",
   "execution_count": 8,
   "id": "15889f67",
   "metadata": {},
   "outputs": [],
   "source": [
    "# save the trained model\n",
    "model.save('../models/MLP_regression_model.h5')"
   ]
  },
  {
   "cell_type": "code",
   "execution_count": 9,
   "id": "c9f2cc93",
   "metadata": {},
   "outputs": [
    {
     "name": "stdout",
     "output_type": "stream",
     "text": [
      "63/63 [==============================] - 0s 1ms/step - loss: 194532.0000 - mean_squared_error: 194532.0000 - mean_absolute_error: 270.4090\n",
      "Validation MSE: 194532.0\n",
      "Validation MAE: 270.40899658203125\n"
     ]
    }
   ],
   "source": [
    "# Evaluate the model on validation data\n",
    "loss, mse, mae = model.evaluate(x_val, y_val)\n",
    "print('Validation MSE:', mse)\n",
    "print('Validation MAE:', mae)"
   ]
  },
  {
   "cell_type": "code",
   "execution_count": null,
   "id": "bd033d85",
   "metadata": {},
   "outputs": [],
   "source": []
  }
 ],
 "metadata": {
  "kernelspec": {
   "display_name": "Python 3 (ipykernel)",
   "language": "python",
   "name": "python3"
  },
  "language_info": {
   "codemirror_mode": {
    "name": "ipython",
    "version": 3
   },
   "file_extension": ".py",
   "mimetype": "text/x-python",
   "name": "python",
   "nbconvert_exporter": "python",
   "pygments_lexer": "ipython3",
   "version": "3.9.12"
  }
 },
 "nbformat": 4,
 "nbformat_minor": 5
}
