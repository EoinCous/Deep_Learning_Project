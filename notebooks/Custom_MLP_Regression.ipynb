{
 "cells": [
  {
   "cell_type": "code",
   "execution_count": 8,
   "id": "eebd5ece",
   "metadata": {},
   "outputs": [],
   "source": [
    "import tensorflow as tf\n",
    "from tensorflow.keras.models import Sequential\n",
    "from tensorflow.keras.layers import Dense\n",
    "from sklearn.preprocessing import LabelEncoder\n",
    "from keras.callbacks import EarlyStopping\n",
    "import pandas as pd\n",
    "import numpy as np"
   ]
  },
  {
   "cell_type": "code",
   "execution_count": 9,
   "id": "94c47fab",
   "metadata": {},
   "outputs": [],
   "source": [
    "train_df = pd.read_csv('../data/cleaned_train.csv')\n",
    "\n",
    "# Extract the columns you want to use as input features\n",
    "columns = ['BERT_sentiment_score', 'normalised_word_count', 'pub_day', 'pub_hour']\n",
    "# Extract input features from the dataframe\n",
    "x_train = train_df[columns].dropna()\n",
    "\n",
    "y_train = np.array(train_df['n_comments'])"
   ]
  },
  {
   "cell_type": "code",
   "execution_count": 10,
   "id": "bd15824d",
   "metadata": {},
   "outputs": [],
   "source": [
    "test_df = pd.read_csv('../data/cleaned_test.csv')\n",
    "\n",
    "x_test = test_df[columns].dropna()"
   ]
  },
  {
   "cell_type": "code",
   "execution_count": 11,
   "id": "82b53182",
   "metadata": {},
   "outputs": [],
   "source": [
    "def label_encode(raw_data):\n",
    "    # Concatenate train and test data vertically to ensure consistent label encoding\n",
    "    combined_df = pd.concat([train_df['topic'], test_df['topic']], axis=0)\n",
    "\n",
    "    # Create an instance of LabelEncoder\n",
    "    le = LabelEncoder()\n",
    "\n",
    "    # Fit and transform the combined data using LabelEncoder\n",
    "    combined_encoded = le.fit_transform(combined_df)\n",
    "    \n",
    "    return np.array(le.transform(raw_data.dropna()))"
   ]
  },
  {
   "cell_type": "code",
   "execution_count": 12,
   "id": "13bbd997",
   "metadata": {},
   "outputs": [],
   "source": [
    "# Apply the LabelEncoder transformation on train data\n",
    "train_topic_encoded = pd.DataFrame(label_encode(train_df['topic']), columns=['topic encoded'])\n",
    "# Concatenate the 'topic_encoded' tensor with the other input features\n",
    "x_train = pd.concat([x_train, train_topic_encoded], axis=1)"
   ]
  },
  {
   "cell_type": "code",
   "execution_count": 13,
   "id": "42055fec",
   "metadata": {},
   "outputs": [],
   "source": [
    "# Apply the LabelEncoder transformation on train data\n",
    "test_topic_encoded = pd.DataFrame(label_encode(test_df['topic']), columns=['topic encoded'])\n",
    "# Concatenate the 'topic_encoded' tensor with the other input features\n",
    "x_test = pd.concat([x_test, test_topic_encoded], axis=1)"
   ]
  },
  {
   "cell_type": "code",
   "execution_count": 26,
   "id": "86f9e323",
   "metadata": {},
   "outputs": [],
   "source": [
    "# Define the EarlyStopping callback\n",
    "early_stopping = EarlyStopping(monitor='val_loss', \n",
    "                               # Number of epochs to wait for improvement\n",
    "                               patience=10,  \n",
    "                               verbose=1, \n",
    "                               # Restore the weights of the best epoch\n",
    "                               restore_best_weights=True) "
   ]
  },
  {
   "cell_type": "code",
   "execution_count": 27,
   "id": "06ea2453",
   "metadata": {},
   "outputs": [],
   "source": [
    "# Create MLP model\n",
    "model = Sequential()\n",
    "num_features = 5\n",
    "model.add(Dense(64, activation='relu', input_dim=num_features))\n",
    "model.add(Dense(32, activation='relu'))\n",
    "model.add(Dense(1, activation='linear'))"
   ]
  },
  {
   "cell_type": "code",
   "execution_count": 28,
   "id": "b5451755",
   "metadata": {},
   "outputs": [],
   "source": [
    "# Compile the model\n",
    "model.compile(optimizer='adam', loss='mean_squared_error')"
   ]
  },
  {
   "cell_type": "code",
   "execution_count": 29,
   "id": "17eef2c0",
   "metadata": {},
   "outputs": [
    {
     "name": "stdout",
     "output_type": "stream",
     "text": [
      "Epoch 1/100\n",
      "312/312 [==============================] - 1s 2ms/step - loss: 303161.0938 - val_loss: 242510.8438\n",
      "Epoch 2/100\n",
      "312/312 [==============================] - 0s 2ms/step - loss: 276067.4062 - val_loss: 238003.2656\n",
      "Epoch 3/100\n",
      "312/312 [==============================] - 0s 2ms/step - loss: 270452.1875 - val_loss: 233473.6719\n",
      "Epoch 4/100\n",
      "312/312 [==============================] - 0s 2ms/step - loss: 264426.6875 - val_loss: 231142.2500\n",
      "Epoch 5/100\n",
      "312/312 [==============================] - 0s 2ms/step - loss: 260197.9531 - val_loss: 230513.5469\n",
      "Epoch 6/100\n",
      "312/312 [==============================] - 0s 2ms/step - loss: 257243.7656 - val_loss: 227685.4844\n",
      "Epoch 7/100\n",
      "312/312 [==============================] - 0s 2ms/step - loss: 255736.8906 - val_loss: 226026.5938\n",
      "Epoch 8/100\n",
      "312/312 [==============================] - 0s 2ms/step - loss: 253462.6719 - val_loss: 226896.1406\n",
      "Epoch 9/100\n",
      "312/312 [==============================] - 0s 2ms/step - loss: 252214.0625 - val_loss: 225948.0625\n",
      "Epoch 10/100\n",
      "312/312 [==============================] - 0s 2ms/step - loss: 251210.5000 - val_loss: 223425.2031\n",
      "Epoch 11/100\n",
      "312/312 [==============================] - 1s 2ms/step - loss: 249962.1406 - val_loss: 222952.3125\n",
      "Epoch 12/100\n",
      "312/312 [==============================] - 1s 2ms/step - loss: 249469.7656 - val_loss: 223238.7031\n",
      "Epoch 13/100\n",
      "312/312 [==============================] - 1s 2ms/step - loss: 248974.4375 - val_loss: 224380.9219\n",
      "Epoch 14/100\n",
      "312/312 [==============================] - 1s 2ms/step - loss: 248477.8438 - val_loss: 221025.5000\n",
      "Epoch 15/100\n",
      "312/312 [==============================] - 1s 2ms/step - loss: 247860.4375 - val_loss: 223343.2344\n",
      "Epoch 16/100\n",
      "312/312 [==============================] - 1s 2ms/step - loss: 247862.2344 - val_loss: 221646.7031\n",
      "Epoch 17/100\n",
      "312/312 [==============================] - 1s 2ms/step - loss: 246947.7188 - val_loss: 222438.7656\n",
      "Epoch 18/100\n",
      "312/312 [==============================] - 1s 2ms/step - loss: 247228.1406 - val_loss: 220206.6719\n",
      "Epoch 19/100\n",
      "312/312 [==============================] - 1s 2ms/step - loss: 246735.2031 - val_loss: 219540.2344\n",
      "Epoch 20/100\n",
      "312/312 [==============================] - 1s 2ms/step - loss: 246017.2656 - val_loss: 223286.8594\n",
      "Epoch 21/100\n",
      "312/312 [==============================] - 1s 2ms/step - loss: 246231.9062 - val_loss: 219873.9375\n",
      "Epoch 22/100\n",
      "312/312 [==============================] - 1s 2ms/step - loss: 245357.5156 - val_loss: 219823.1875\n",
      "Epoch 23/100\n",
      "312/312 [==============================] - 1s 3ms/step - loss: 245117.0000 - val_loss: 220931.5625\n",
      "Epoch 24/100\n",
      "312/312 [==============================] - 1s 3ms/step - loss: 245243.8594 - val_loss: 219499.3125\n",
      "Epoch 25/100\n",
      "312/312 [==============================] - 1s 3ms/step - loss: 244602.9375 - val_loss: 218800.0781\n",
      "Epoch 26/100\n",
      "312/312 [==============================] - 1s 2ms/step - loss: 244443.1250 - val_loss: 220310.4375\n",
      "Epoch 27/100\n",
      "312/312 [==============================] - 1s 2ms/step - loss: 243462.8594 - val_loss: 217881.4219\n",
      "Epoch 28/100\n",
      "312/312 [==============================] - 1s 2ms/step - loss: 243226.2188 - val_loss: 219800.5156\n",
      "Epoch 29/100\n",
      "312/312 [==============================] - 1s 2ms/step - loss: 243430.0312 - val_loss: 217646.7969\n",
      "Epoch 30/100\n",
      "312/312 [==============================] - 1s 2ms/step - loss: 242928.2031 - val_loss: 217519.6719\n",
      "Epoch 31/100\n",
      "312/312 [==============================] - 1s 2ms/step - loss: 242654.8438 - val_loss: 226039.8438\n",
      "Epoch 32/100\n",
      "312/312 [==============================] - 1s 2ms/step - loss: 242335.4844 - val_loss: 217542.0312\n",
      "Epoch 33/100\n",
      "312/312 [==============================] - 1s 2ms/step - loss: 241918.0156 - val_loss: 219277.6094\n",
      "Epoch 34/100\n",
      "312/312 [==============================] - 1s 2ms/step - loss: 241504.8750 - val_loss: 218646.3125\n",
      "Epoch 35/100\n",
      "312/312 [==============================] - 1s 2ms/step - loss: 241474.0781 - val_loss: 217415.3438\n",
      "Epoch 36/100\n",
      "312/312 [==============================] - 1s 2ms/step - loss: 241069.4531 - val_loss: 217926.8594\n",
      "Epoch 37/100\n",
      "312/312 [==============================] - 1s 2ms/step - loss: 240705.4375 - val_loss: 217269.2969\n",
      "Epoch 38/100\n",
      "312/312 [==============================] - 1s 2ms/step - loss: 240432.4062 - val_loss: 226812.0781\n",
      "Epoch 39/100\n",
      "312/312 [==============================] - 1s 2ms/step - loss: 240302.6406 - val_loss: 216708.0625\n",
      "Epoch 40/100\n",
      "312/312 [==============================] - 1s 2ms/step - loss: 240227.7812 - val_loss: 216690.5781\n",
      "Epoch 41/100\n",
      "312/312 [==============================] - 1s 2ms/step - loss: 240101.2656 - val_loss: 217278.1562\n",
      "Epoch 42/100\n",
      "312/312 [==============================] - 1s 2ms/step - loss: 239674.7031 - val_loss: 216674.6562\n",
      "Epoch 43/100\n",
      "312/312 [==============================] - 1s 2ms/step - loss: 239448.4219 - val_loss: 218109.7344\n",
      "Epoch 44/100\n",
      "312/312 [==============================] - 1s 2ms/step - loss: 239201.6250 - val_loss: 223984.5781\n",
      "Epoch 45/100\n",
      "312/312 [==============================] - 1s 2ms/step - loss: 239666.1250 - val_loss: 216567.4844\n",
      "Epoch 46/100\n",
      "312/312 [==============================] - 1s 3ms/step - loss: 238843.8906 - val_loss: 216795.9531\n",
      "Epoch 47/100\n",
      "312/312 [==============================] - 1s 3ms/step - loss: 239144.2969 - val_loss: 219701.8281\n",
      "Epoch 48/100\n",
      "312/312 [==============================] - 1s 2ms/step - loss: 238273.4844 - val_loss: 217493.1562\n",
      "Epoch 49/100\n",
      "312/312 [==============================] - 1s 3ms/step - loss: 238241.1875 - val_loss: 216478.1875\n",
      "Epoch 50/100\n",
      "312/312 [==============================] - 1s 3ms/step - loss: 239116.9688 - val_loss: 216148.8906\n",
      "Epoch 51/100\n",
      "312/312 [==============================] - 1s 2ms/step - loss: 237973.3125 - val_loss: 217666.7969\n",
      "Epoch 52/100\n",
      "312/312 [==============================] - 1s 2ms/step - loss: 238079.5312 - val_loss: 219076.1875\n",
      "Epoch 53/100\n",
      "312/312 [==============================] - 1s 2ms/step - loss: 237541.3906 - val_loss: 217377.0625\n",
      "Epoch 54/100\n",
      "312/312 [==============================] - 1s 2ms/step - loss: 237040.7500 - val_loss: 217260.8438\n",
      "Epoch 55/100\n",
      "312/312 [==============================] - 1s 2ms/step - loss: 237637.7344 - val_loss: 220323.9844\n",
      "Epoch 56/100\n",
      "312/312 [==============================] - 1s 2ms/step - loss: 237317.2188 - val_loss: 216146.6562\n",
      "Epoch 57/100\n",
      "312/312 [==============================] - 1s 2ms/step - loss: 236961.0781 - val_loss: 221121.3281\n",
      "Epoch 58/100\n",
      "312/312 [==============================] - 1s 2ms/step - loss: 236699.5625 - val_loss: 219196.3281\n",
      "Epoch 59/100\n",
      "312/312 [==============================] - 1s 2ms/step - loss: 236676.6719 - val_loss: 216382.6719\n",
      "Epoch 60/100\n",
      "312/312 [==============================] - 1s 2ms/step - loss: 236920.6875 - val_loss: 217576.6406\n",
      "Epoch 61/100\n",
      "312/312 [==============================] - 1s 2ms/step - loss: 236615.6094 - val_loss: 219454.3594\n",
      "Epoch 62/100\n",
      "312/312 [==============================] - 1s 2ms/step - loss: 236588.0156 - val_loss: 217184.3281\n",
      "Epoch 63/100\n",
      "312/312 [==============================] - 1s 2ms/step - loss: 236570.4531 - val_loss: 217994.5312\n",
      "Epoch 64/100\n",
      "312/312 [==============================] - 1s 2ms/step - loss: 236392.1406 - val_loss: 219008.8438\n",
      "Epoch 65/100\n",
      "312/312 [==============================] - 1s 2ms/step - loss: 236174.6406 - val_loss: 221161.2812\n",
      "Epoch 66/100\n",
      "296/312 [===========================>..] - ETA: 0s - loss: 236311.9688Restoring model weights from the end of the best epoch: 56.\n",
      "312/312 [==============================] - 1s 2ms/step - loss: 236317.1250 - val_loss: 217042.0469\n",
      "Epoch 66: early stopping\n"
     ]
    },
    {
     "data": {
      "text/plain": [
       "<keras.callbacks.History at 0x238d67f0f70>"
      ]
     },
     "execution_count": 29,
     "metadata": {},
     "output_type": "execute_result"
    }
   ],
   "source": [
    "# Train the model\n",
    "model.fit(x_train, y_train, batch_size=32, epochs=100, validation_split=0.2, callbacks=[early_stopping])"
   ]
  },
  {
   "cell_type": "code",
   "execution_count": 30,
   "id": "15889f67",
   "metadata": {},
   "outputs": [],
   "source": [
    "# save the trained model\n",
    "model.save('MLP_prediction_model.h5')"
   ]
  },
  {
   "cell_type": "code",
   "execution_count": 31,
   "id": "c9f2cc93",
   "metadata": {},
   "outputs": [
    {
     "name": "stdout",
     "output_type": "stream",
     "text": [
      "122/122 [==============================] - 0s 1ms/step\n"
     ]
    }
   ],
   "source": [
    "y_pred = model.predict(x_test)"
   ]
  },
  {
   "cell_type": "code",
   "execution_count": 33,
   "id": "8a6cde5c",
   "metadata": {},
   "outputs": [
    {
     "data": {
      "text/plain": [
       "array([175.84242], dtype=float32)"
      ]
     },
     "execution_count": 33,
     "metadata": {},
     "output_type": "execute_result"
    }
   ],
   "source": [
    "y_pred[1000]"
   ]
  },
  {
   "cell_type": "code",
   "execution_count": null,
   "id": "40e8ec44",
   "metadata": {},
   "outputs": [],
   "source": []
  }
 ],
 "metadata": {
  "kernelspec": {
   "display_name": "Python 3 (ipykernel)",
   "language": "python",
   "name": "python3"
  },
  "language_info": {
   "codemirror_mode": {
    "name": "ipython",
    "version": 3
   },
   "file_extension": ".py",
   "mimetype": "text/x-python",
   "name": "python",
   "nbconvert_exporter": "python",
   "pygments_lexer": "ipython3",
   "version": "3.9.12"
  }
 },
 "nbformat": 4,
 "nbformat_minor": 5
}
