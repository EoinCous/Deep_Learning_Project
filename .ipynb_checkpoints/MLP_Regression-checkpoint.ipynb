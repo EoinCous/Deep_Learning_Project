{
 "cells": [
  {
   "cell_type": "code",
   "execution_count": 1,
   "id": "eebd5ece",
   "metadata": {},
   "outputs": [],
   "source": [
    "import tensorflow as tf\n",
    "from tensorflow.keras.models import Sequential\n",
    "from tensorflow.keras.layers import Dense\n",
    "import pandas as pd\n",
    "import numpy as np"
   ]
  },
  {
   "cell_type": "code",
   "execution_count": 2,
   "id": "94c47fab",
   "metadata": {},
   "outputs": [],
   "source": [
    "train_df = pd.read_csv('data/cleaned_train.csv')\n",
    "\n",
    "# Extract the columns you want to use as input features\n",
    "columns = ['BERT_sentiment_score', 'normalised_word_count', 'pub_day', 'pub_hour']\n",
    "# Extract input features from the dataframe\n",
    "x_train = train_df[columns].dropna()\n",
    "\n",
    "y_train = np.array(train_df['n_comments'])"
   ]
  },
  {
   "cell_type": "code",
   "execution_count": 8,
   "id": "0fccb726",
   "metadata": {},
   "outputs": [],
   "source": [
    "#one-hot encoded string to tensor\n",
    "data = train_df['topic_encoded'].dropna()\n",
    "\n",
    "# Function to remove square brackets and convert string to list of integers\n",
    "def preprocess_data(data):\n",
    "    data = data.strip('[]')\n",
    "    data_list = list(map(int, data))\n",
    "    return data_list\n",
    "\n",
    "# Apply preprocessing to each element in the column\n",
    "data_list = data.apply(preprocess_data)\n",
    "\n",
    "# Convert list of lists to numpy array\n",
    "data_np = np.array(data_list.tolist())\n",
    "\n",
    "# Convert numpy array to tensor\n",
    "data_tensor = tf.convert_to_tensor(data_np, dtype=tf.float32)\n",
    "\n",
    "# Reshape tensor to desired shape (e.g., (num_samples, num_features) in this case)\n",
    "data_tensor = tf.reshape(data_tensor, (data_np.shape[0], -1))"
   ]
  },
  {
   "cell_type": "code",
   "execution_count": 3,
   "id": "3e951774",
   "metadata": {},
   "outputs": [],
   "source": [
    "import pandas as pd\n",
    "from gensim.models import Word2Vec\n",
    "\n",
    "# Load your text data\n",
    "data = train_df['topic'].dropna()\n",
    "\n",
    "# Convert the text data into list of sentences, where each sentence is a list of words\n",
    "sentences = [sent.split() for sent in data]\n",
    "\n",
    "# Train a Word2Vec model on your text data\n",
    "embedding_dim = 100  # Specify the embedding dimension\n",
    "model_train = Word2Vec(sentences, vector_size=embedding_dim, window=5, min_count=1, workers=4)\n",
    "\n",
    "# Get the word embeddings for your topics\n",
    "topic_embeddings = []\n",
    "for topic in data:\n",
    "    topic_words = topic.split()  # Split the topic text into individual words\n",
    "    topic_vector = np.zeros(embedding_dim)  # Initialize a vector of zeros for the topic\n",
    "    num_words = 0  # Keep track of the number of words in the topic\n",
    "\n",
    "    # Iterate over each word in the topic and add its embedding to the topic vector\n",
    "    for word in topic_words:\n",
    "        if word in model_train.wv:\n",
    "            topic_vector += model_train.wv[word]\n",
    "            num_words += 1\n",
    "\n",
    "    # Average the word embeddings to get the final topic embedding\n",
    "    if num_words > 0:\n",
    "        topic_vector /= num_words\n",
    "\n",
    "    topic_embeddings.append(topic_vector)\n",
    "\n",
    "# Convert the topic embeddings list into a numpy array\n",
    "topic_embeddings = np.array(topic_embeddings)\n",
    "\n",
    "# Now, topic_embeddings contains the numerical representations (embeddings) for your \"topic\" text data, which you can concatenate with your other input features and use as input to your MLP model for training and prediction.\n"
   ]
  },
  {
   "cell_type": "code",
   "execution_count": 4,
   "id": "228a24cb",
   "metadata": {},
   "outputs": [
    {
     "data": {
      "text/plain": [
       "array([-8.61968752e-03,  3.66573804e-03,  5.18988352e-03,  5.74193709e-03,\n",
       "        7.46691693e-03, -6.16767630e-03,  1.10561366e-03,  6.04728237e-03,\n",
       "       -2.84005166e-03, -6.17352268e-03, -4.10223001e-04, -8.36895034e-03,\n",
       "       -5.60001377e-03,  7.10453745e-03,  3.35253961e-03,  7.22566852e-03,\n",
       "        6.80024642e-03,  7.53074186e-03, -3.78915551e-03, -5.61807130e-04,\n",
       "        2.34837527e-03, -4.51903325e-03,  8.38873163e-03, -9.85816494e-03,\n",
       "        6.76464103e-03,  2.91441684e-03, -4.93283290e-03,  4.39818623e-03,\n",
       "       -1.73957588e-03,  6.71138288e-03,  9.96484980e-03, -4.36244486e-03,\n",
       "       -5.99339022e-04, -5.69563871e-03,  3.85082234e-03,  2.78662681e-03,\n",
       "        6.89107645e-03,  6.10109558e-03,  9.53849591e-03,  9.27341729e-03,\n",
       "        7.89806806e-03, -6.98950514e-03, -9.15586483e-03, -3.55753902e-04,\n",
       "       -3.09984200e-03,  7.89431576e-03,  5.93857281e-03, -1.54566288e-03,\n",
       "        1.51096343e-03,  1.79003959e-03,  7.81757105e-03, -9.51018836e-03,\n",
       "       -2.05531120e-04,  3.46919545e-03, -9.38973448e-04,  8.38177186e-03,\n",
       "        9.01078247e-03,  6.53650519e-03, -7.11622240e-04,  7.71040423e-03,\n",
       "       -8.53433646e-03,  3.20710661e-03, -4.63799713e-03, -5.08895656e-03,\n",
       "        3.58961825e-03,  5.37033798e-03,  7.76951294e-03, -5.76650631e-03,\n",
       "        7.43335951e-03,  6.62549492e-03, -3.70980031e-03, -8.74564145e-03,\n",
       "        5.43746725e-03,  6.50975481e-03, -7.87551398e-04, -6.70985691e-03,\n",
       "       -7.08592637e-03, -2.49706022e-03,  5.14325360e-03, -3.66523745e-03,\n",
       "       -9.37005971e-03,  3.82673973e-03,  4.88447910e-03, -6.42856350e-03,\n",
       "        1.20855810e-03, -2.07487820e-03,  2.44021412e-05, -9.88350902e-03,\n",
       "        2.69200327e-03, -4.75010648e-03,  1.08764647e-03, -1.57622574e-03,\n",
       "        2.19667191e-03, -7.88157713e-03, -2.71718507e-03,  2.66319746e-03,\n",
       "        5.34668192e-03, -2.39151483e-03, -9.51009523e-03,  4.50587738e-03])"
      ]
     },
     "execution_count": 4,
     "metadata": {},
     "output_type": "execute_result"
    }
   ],
   "source": [
    "topic_embeddings[0]"
   ]
  },
  {
   "cell_type": "code",
   "execution_count": 5,
   "id": "13bbd997",
   "metadata": {},
   "outputs": [],
   "source": [
    "# Concatenate the 'topic_encoded' tensor with the other input features\n",
    "x_train = tf.concat([x_train, topic_embeddings], axis=1)"
   ]
  },
  {
   "cell_type": "code",
   "execution_count": 6,
   "id": "73fc2a4a",
   "metadata": {},
   "outputs": [
    {
     "data": {
      "text/plain": [
       "TensorShape([12461, 104])"
      ]
     },
     "execution_count": 6,
     "metadata": {},
     "output_type": "execute_result"
    }
   ],
   "source": [
    "x_train.shape"
   ]
  },
  {
   "cell_type": "code",
   "execution_count": 7,
   "id": "06ea2453",
   "metadata": {},
   "outputs": [],
   "source": [
    "# Create MLP model\n",
    "model = Sequential()\n",
    "num_features = 104\n",
    "model.add(Dense(64, activation='relu', input_dim=num_features))\n",
    "model.add(Dense(32, activation='relu'))\n",
    "model.add(Dense(1, activation='linear'))"
   ]
  },
  {
   "cell_type": "code",
   "execution_count": 8,
   "id": "b5451755",
   "metadata": {},
   "outputs": [],
   "source": [
    "# Compile the model\n",
    "model.compile(optimizer='adam', loss='mean_squared_error')"
   ]
  },
  {
   "cell_type": "code",
   "execution_count": 9,
   "id": "17eef2c0",
   "metadata": {},
   "outputs": [
    {
     "name": "stdout",
     "output_type": "stream",
     "text": [
      "Epoch 1/100\n",
      "312/312 [==============================] - 1s 3ms/step - loss: 327477.6562 - val_loss: 249477.5469\n",
      "Epoch 2/100\n",
      "312/312 [==============================] - 1s 2ms/step - loss: 287691.3438 - val_loss: 238550.3906\n",
      "Epoch 3/100\n",
      "312/312 [==============================] - 1s 2ms/step - loss: 273416.2812 - val_loss: 229749.4531\n",
      "Epoch 4/100\n",
      "312/312 [==============================] - 1s 2ms/step - loss: 262301.5000 - val_loss: 223780.5000\n",
      "Epoch 5/100\n",
      "312/312 [==============================] - 1s 2ms/step - loss: 255661.1562 - val_loss: 219272.7500\n",
      "Epoch 6/100\n",
      "312/312 [==============================] - 1s 2ms/step - loss: 250556.3281 - val_loss: 215500.2500\n",
      "Epoch 7/100\n",
      "312/312 [==============================] - 1s 2ms/step - loss: 246289.1094 - val_loss: 212235.7812\n",
      "Epoch 8/100\n",
      "312/312 [==============================] - 1s 2ms/step - loss: 242481.1250 - val_loss: 210041.7500\n",
      "Epoch 9/100\n",
      "312/312 [==============================] - 1s 2ms/step - loss: 238961.7188 - val_loss: 205994.7031\n",
      "Epoch 10/100\n",
      "312/312 [==============================] - 1s 2ms/step - loss: 235233.8281 - val_loss: 204187.5312\n",
      "Epoch 11/100\n",
      "312/312 [==============================] - 1s 2ms/step - loss: 232281.4844 - val_loss: 201199.6875\n",
      "Epoch 12/100\n",
      "312/312 [==============================] - 1s 2ms/step - loss: 229436.4531 - val_loss: 200651.9688\n",
      "Epoch 13/100\n",
      "312/312 [==============================] - 1s 2ms/step - loss: 226352.3906 - val_loss: 197195.7656\n",
      "Epoch 14/100\n",
      "312/312 [==============================] - 1s 2ms/step - loss: 223522.0469 - val_loss: 197453.6406\n",
      "Epoch 15/100\n",
      "312/312 [==============================] - 1s 2ms/step - loss: 220643.5156 - val_loss: 191224.9375\n",
      "Epoch 16/100\n",
      "312/312 [==============================] - 1s 2ms/step - loss: 217666.6719 - val_loss: 188414.7812\n",
      "Epoch 17/100\n",
      "312/312 [==============================] - 1s 2ms/step - loss: 214840.9062 - val_loss: 187533.9062\n",
      "Epoch 18/100\n",
      "312/312 [==============================] - 1s 2ms/step - loss: 211395.4219 - val_loss: 184082.7969\n",
      "Epoch 19/100\n",
      "312/312 [==============================] - 1s 2ms/step - loss: 209439.3750 - val_loss: 181860.0625\n",
      "Epoch 20/100\n",
      "312/312 [==============================] - 1s 2ms/step - loss: 207082.2188 - val_loss: 180247.1250\n",
      "Epoch 21/100\n",
      "312/312 [==============================] - 1s 2ms/step - loss: 205055.2188 - val_loss: 178024.4531\n",
      "Epoch 22/100\n",
      "312/312 [==============================] - 1s 2ms/step - loss: 203254.3438 - val_loss: 175627.7031\n",
      "Epoch 23/100\n",
      "312/312 [==============================] - 1s 2ms/step - loss: 201792.5938 - val_loss: 177270.6719\n",
      "Epoch 24/100\n",
      "312/312 [==============================] - 1s 3ms/step - loss: 200287.1719 - val_loss: 174956.7344\n",
      "Epoch 25/100\n",
      "312/312 [==============================] - 1s 2ms/step - loss: 199571.4219 - val_loss: 174740.6719\n",
      "Epoch 26/100\n",
      "312/312 [==============================] - 1s 3ms/step - loss: 198814.7188 - val_loss: 176804.3594\n",
      "Epoch 27/100\n",
      "312/312 [==============================] - 1s 2ms/step - loss: 198231.4844 - val_loss: 172466.6562\n",
      "Epoch 28/100\n",
      "312/312 [==============================] - 1s 2ms/step - loss: 197480.9688 - val_loss: 175349.3281\n",
      "Epoch 29/100\n",
      "312/312 [==============================] - 1s 2ms/step - loss: 196722.5312 - val_loss: 172910.6406\n",
      "Epoch 30/100\n",
      "312/312 [==============================] - 1s 2ms/step - loss: 196021.5781 - val_loss: 187006.4219\n",
      "Epoch 31/100\n",
      "312/312 [==============================] - 1s 2ms/step - loss: 196441.0781 - val_loss: 170727.7031\n",
      "Epoch 32/100\n",
      "312/312 [==============================] - 1s 2ms/step - loss: 196086.2812 - val_loss: 169922.5938\n",
      "Epoch 33/100\n",
      "312/312 [==============================] - 1s 2ms/step - loss: 195582.5938 - val_loss: 170730.7031\n",
      "Epoch 34/100\n",
      "312/312 [==============================] - 1s 2ms/step - loss: 195110.9531 - val_loss: 169187.5156\n",
      "Epoch 35/100\n",
      "312/312 [==============================] - 1s 2ms/step - loss: 194964.9375 - val_loss: 170595.7969\n",
      "Epoch 36/100\n",
      "312/312 [==============================] - 1s 2ms/step - loss: 194491.0312 - val_loss: 171846.5156\n",
      "Epoch 37/100\n",
      "312/312 [==============================] - 1s 2ms/step - loss: 194815.1719 - val_loss: 170148.2031\n",
      "Epoch 38/100\n",
      "312/312 [==============================] - 1s 2ms/step - loss: 194160.5938 - val_loss: 170278.2500\n",
      "Epoch 39/100\n",
      "312/312 [==============================] - 1s 2ms/step - loss: 193962.5625 - val_loss: 168649.6406\n",
      "Epoch 40/100\n",
      "312/312 [==============================] - 1s 2ms/step - loss: 193456.9219 - val_loss: 169259.6094\n",
      "Epoch 41/100\n",
      "312/312 [==============================] - 1s 2ms/step - loss: 193092.6562 - val_loss: 169725.7031\n",
      "Epoch 42/100\n",
      "312/312 [==============================] - 1s 2ms/step - loss: 193149.3750 - val_loss: 172771.1250\n",
      "Epoch 43/100\n",
      "312/312 [==============================] - 1s 2ms/step - loss: 192863.1094 - val_loss: 169471.2969\n",
      "Epoch 44/100\n",
      "312/312 [==============================] - 1s 2ms/step - loss: 192351.7344 - val_loss: 167764.2344\n",
      "Epoch 45/100\n",
      "312/312 [==============================] - 1s 2ms/step - loss: 192653.6562 - val_loss: 169580.5000\n",
      "Epoch 46/100\n",
      "312/312 [==============================] - 1s 2ms/step - loss: 192418.5312 - val_loss: 165948.2969\n",
      "Epoch 47/100\n",
      "312/312 [==============================] - 1s 2ms/step - loss: 191867.9219 - val_loss: 167337.5781\n",
      "Epoch 48/100\n",
      "312/312 [==============================] - 1s 2ms/step - loss: 191753.3750 - val_loss: 166258.4531\n",
      "Epoch 49/100\n",
      "312/312 [==============================] - 1s 2ms/step - loss: 191325.5625 - val_loss: 170945.2031\n",
      "Epoch 50/100\n",
      "312/312 [==============================] - 1s 2ms/step - loss: 191631.5000 - val_loss: 169813.7812\n",
      "Epoch 51/100\n",
      "312/312 [==============================] - 1s 2ms/step - loss: 190903.5469 - val_loss: 164811.6406\n",
      "Epoch 52/100\n",
      "312/312 [==============================] - 1s 2ms/step - loss: 190993.6562 - val_loss: 164973.1250\n",
      "Epoch 53/100\n",
      "312/312 [==============================] - 1s 3ms/step - loss: 190761.3281 - val_loss: 174507.6094\n",
      "Epoch 54/100\n",
      "312/312 [==============================] - 1s 2ms/step - loss: 190199.5469 - val_loss: 164809.6719\n",
      "Epoch 55/100\n",
      "312/312 [==============================] - 1s 2ms/step - loss: 190289.4531 - val_loss: 165951.0781\n",
      "Epoch 56/100\n",
      "312/312 [==============================] - 1s 2ms/step - loss: 190094.9219 - val_loss: 169346.4062\n",
      "Epoch 57/100\n",
      "312/312 [==============================] - 1s 2ms/step - loss: 190205.7656 - val_loss: 167675.2656\n",
      "Epoch 58/100\n",
      "312/312 [==============================] - 1s 2ms/step - loss: 189932.1562 - val_loss: 168524.9688\n",
      "Epoch 59/100\n",
      "312/312 [==============================] - 1s 2ms/step - loss: 189499.3281 - val_loss: 170755.3438\n",
      "Epoch 60/100\n",
      "312/312 [==============================] - 1s 2ms/step - loss: 189160.6094 - val_loss: 167829.9062\n",
      "Epoch 61/100\n",
      "312/312 [==============================] - 1s 2ms/step - loss: 189598.4219 - val_loss: 163933.8594\n",
      "Epoch 62/100\n",
      "312/312 [==============================] - 1s 2ms/step - loss: 189363.9688 - val_loss: 170256.7188\n",
      "Epoch 63/100\n",
      "312/312 [==============================] - 1s 2ms/step - loss: 189193.0781 - val_loss: 166830.2031\n",
      "Epoch 64/100\n",
      "312/312 [==============================] - 1s 2ms/step - loss: 189140.6250 - val_loss: 165658.0000\n",
      "Epoch 65/100\n",
      "312/312 [==============================] - 1s 2ms/step - loss: 188517.6719 - val_loss: 176129.4531\n",
      "Epoch 66/100\n",
      "312/312 [==============================] - 1s 2ms/step - loss: 188488.4062 - val_loss: 163907.0156\n",
      "Epoch 67/100\n",
      "312/312 [==============================] - 1s 2ms/step - loss: 188291.2344 - val_loss: 164180.6406\n",
      "Epoch 68/100\n",
      "312/312 [==============================] - 1s 2ms/step - loss: 188031.9531 - val_loss: 168785.0781\n",
      "Epoch 69/100\n",
      "312/312 [==============================] - 1s 2ms/step - loss: 188154.8594 - val_loss: 163338.5156\n",
      "Epoch 70/100\n",
      "312/312 [==============================] - 1s 2ms/step - loss: 187576.3594 - val_loss: 170230.3438\n",
      "Epoch 71/100\n",
      "312/312 [==============================] - 1s 2ms/step - loss: 187824.0938 - val_loss: 163783.8281\n",
      "Epoch 72/100\n",
      "312/312 [==============================] - 1s 2ms/step - loss: 188416.1094 - val_loss: 164438.5156\n",
      "Epoch 73/100\n",
      "312/312 [==============================] - 1s 2ms/step - loss: 187474.8438 - val_loss: 163004.9062\n",
      "Epoch 74/100\n"
     ]
    },
    {
     "name": "stdout",
     "output_type": "stream",
     "text": [
      "312/312 [==============================] - 1s 2ms/step - loss: 187175.8750 - val_loss: 167312.5312\n",
      "Epoch 75/100\n",
      "312/312 [==============================] - 1s 2ms/step - loss: 186855.5000 - val_loss: 163299.5312\n",
      "Epoch 76/100\n",
      "312/312 [==============================] - 1s 2ms/step - loss: 186688.9375 - val_loss: 168402.4062\n",
      "Epoch 77/100\n",
      "312/312 [==============================] - 1s 2ms/step - loss: 186793.6094 - val_loss: 162934.6719\n",
      "Epoch 78/100\n",
      "312/312 [==============================] - 1s 2ms/step - loss: 186899.6250 - val_loss: 163752.6875\n",
      "Epoch 79/100\n",
      "312/312 [==============================] - 1s 2ms/step - loss: 186533.7969 - val_loss: 163569.0469\n",
      "Epoch 80/100\n",
      "312/312 [==============================] - 1s 2ms/step - loss: 186643.2500 - val_loss: 163478.5781\n",
      "Epoch 81/100\n",
      "312/312 [==============================] - 1s 2ms/step - loss: 186997.6562 - val_loss: 164383.5312\n",
      "Epoch 82/100\n",
      "312/312 [==============================] - 1s 2ms/step - loss: 186025.8438 - val_loss: 173700.3750\n",
      "Epoch 83/100\n",
      "312/312 [==============================] - 1s 2ms/step - loss: 186864.6094 - val_loss: 169088.3594\n",
      "Epoch 84/100\n",
      "312/312 [==============================] - 1s 2ms/step - loss: 185680.2344 - val_loss: 166907.2500\n",
      "Epoch 85/100\n",
      "312/312 [==============================] - 1s 2ms/step - loss: 185928.5312 - val_loss: 165340.4219\n",
      "Epoch 86/100\n",
      "312/312 [==============================] - 1s 2ms/step - loss: 186715.8594 - val_loss: 162454.3281\n",
      "Epoch 87/100\n",
      "312/312 [==============================] - 1s 2ms/step - loss: 185606.4375 - val_loss: 166862.4219\n",
      "Epoch 88/100\n",
      "312/312 [==============================] - 1s 2ms/step - loss: 185456.5938 - val_loss: 162938.0781\n",
      "Epoch 89/100\n",
      "312/312 [==============================] - 1s 2ms/step - loss: 186463.6406 - val_loss: 162700.4062\n",
      "Epoch 90/100\n",
      "312/312 [==============================] - 1s 2ms/step - loss: 185139.5156 - val_loss: 164362.1875\n",
      "Epoch 91/100\n",
      "312/312 [==============================] - 1s 2ms/step - loss: 185039.7500 - val_loss: 164001.9062\n",
      "Epoch 92/100\n",
      "312/312 [==============================] - 1s 2ms/step - loss: 185456.1875 - val_loss: 164305.8906\n",
      "Epoch 93/100\n",
      "312/312 [==============================] - 1s 2ms/step - loss: 185166.7500 - val_loss: 163614.1406\n",
      "Epoch 94/100\n",
      "312/312 [==============================] - 1s 2ms/step - loss: 184677.7188 - val_loss: 162886.8125\n",
      "Epoch 95/100\n",
      "312/312 [==============================] - 1s 2ms/step - loss: 185003.1719 - val_loss: 169892.6719\n",
      "Epoch 96/100\n",
      "312/312 [==============================] - 1s 2ms/step - loss: 184393.4375 - val_loss: 162462.1719\n",
      "Epoch 97/100\n",
      "312/312 [==============================] - 1s 2ms/step - loss: 184422.2188 - val_loss: 170386.5156\n",
      "Epoch 98/100\n",
      "312/312 [==============================] - 1s 2ms/step - loss: 185318.3906 - val_loss: 162983.6875\n",
      "Epoch 99/100\n",
      "312/312 [==============================] - 1s 2ms/step - loss: 184438.5469 - val_loss: 164880.9844\n",
      "Epoch 100/100\n",
      "312/312 [==============================] - 1s 2ms/step - loss: 184812.8281 - val_loss: 165106.8281\n"
     ]
    },
    {
     "data": {
      "text/plain": [
       "<keras.callbacks.History at 0x1f17ebe0970>"
      ]
     },
     "execution_count": 9,
     "metadata": {},
     "output_type": "execute_result"
    }
   ],
   "source": [
    "# Train the model\n",
    "model.fit(x_train, y_train, batch_size=32, epochs=100, validation_split=0.2)"
   ]
  },
  {
   "cell_type": "code",
   "execution_count": 13,
   "id": "2c6af53e",
   "metadata": {},
   "outputs": [],
   "source": [
    "# save the trained model\n",
    "model.save('MLP_prediction_model.h5')"
   ]
  },
  {
   "cell_type": "code",
   "execution_count": 10,
   "id": "e059daed",
   "metadata": {},
   "outputs": [],
   "source": [
    "test_df = pd.read_csv('data/cleaned_test.csv')\n",
    "\n",
    "x_test = test_df[columns].dropna().values"
   ]
  },
  {
   "cell_type": "code",
   "execution_count": 45,
   "id": "bf2b4864",
   "metadata": {},
   "outputs": [],
   "source": [
    "#one-hot encoded string to tensor\n",
    "data = test_df['topic_encoded'].dropna()\n",
    "\n",
    "# Function to remove square brackets and convert string to list of integers\n",
    "def preprocess_data(data):\n",
    "    data = data.strip('[]')\n",
    "    data_list = list(map(int, data))\n",
    "    return data_list\n",
    "\n",
    "# Apply preprocessing to each element in the column\n",
    "data_list = data.apply(preprocess_data)\n",
    "\n",
    "# Convert list of lists to numpy array\n",
    "data_np = np.array(data_list.tolist())\n",
    "\n",
    "# Convert numpy array to tensor\n",
    "data_tensor = tf.convert_to_tensor(data_np, dtype=tf.float32)\n",
    "\n",
    "# Reshape tensor to desired shape (e.g., (num_samples, num_features) in this case)\n",
    "data_tensor = tf.reshape(data_tensor, (data_np.shape[0], -1))"
   ]
  },
  {
   "cell_type": "code",
   "execution_count": 11,
   "id": "d2729fdb",
   "metadata": {},
   "outputs": [],
   "source": [
    "# Load your text data\n",
    "data = test_df['topic'].dropna()\n",
    "\n",
    "# Convert the text data into list of sentences, where each sentence is a list of words\n",
    "sentences = [sent.split() for sent in data]\n",
    "\n",
    "# Train a Word2Vec model on your text data\n",
    "embedding_dim = 100  # Specify the embedding dimension\n",
    "model_test = Word2Vec(sentences, vector_size=embedding_dim, window=5, min_count=1, workers=4)\n",
    "\n",
    "# Get the word embeddings for your topics\n",
    "topic_embeddings = []\n",
    "for topic in data:\n",
    "    topic_words = topic.split()  # Split the topic text into individual words\n",
    "    topic_vector = np.zeros(embedding_dim)  # Initialize a vector of zeros for the topic\n",
    "    num_words = 0  # Keep track of the number of words in the topic\n",
    "\n",
    "    # Iterate over each word in the topic and add its embedding to the topic vector\n",
    "    for word in topic_words:\n",
    "        if word in model_test.wv:\n",
    "            topic_vector += model_test.wv[word]\n",
    "            num_words += 1\n",
    "\n",
    "    # Average the word embeddings to get the final topic embedding\n",
    "    if num_words > 0:\n",
    "        topic_vector /= num_words\n",
    "\n",
    "    topic_embeddings.append(topic_vector)\n",
    "\n",
    "# Convert the topic embeddings list into a numpy array\n",
    "topic_embeddings = np.array(topic_embeddings)"
   ]
  },
  {
   "cell_type": "code",
   "execution_count": 12,
   "id": "3a14cd5a",
   "metadata": {},
   "outputs": [],
   "source": [
    "# Concatenate the 'topic_encoded' tensor with the other input features\n",
    "x_test = tf.concat([x_test, topic_embeddings], axis=1)"
   ]
  },
  {
   "cell_type": "code",
   "execution_count": 13,
   "id": "c9f2cc93",
   "metadata": {},
   "outputs": [
    {
     "name": "stdout",
     "output_type": "stream",
     "text": [
      "122/122 [==============================] - 0s 898us/step\n"
     ]
    }
   ],
   "source": [
    "y_pred = model.predict(x_test)"
   ]
  },
  {
   "cell_type": "code",
   "execution_count": 14,
   "id": "8a6cde5c",
   "metadata": {},
   "outputs": [
    {
     "data": {
      "text/plain": [
       "array([49.160404], dtype=float32)"
      ]
     },
     "execution_count": 14,
     "metadata": {},
     "output_type": "execute_result"
    }
   ],
   "source": [
    "y_pred[9]"
   ]
  },
  {
   "cell_type": "code",
   "execution_count": null,
   "id": "40e8ec44",
   "metadata": {},
   "outputs": [],
   "source": []
  }
 ],
 "metadata": {
  "kernelspec": {
   "display_name": "Python 3 (ipykernel)",
   "language": "python",
   "name": "python3"
  },
  "language_info": {
   "codemirror_mode": {
    "name": "ipython",
    "version": 3
   },
   "file_extension": ".py",
   "mimetype": "text/x-python",
   "name": "python",
   "nbconvert_exporter": "python",
   "pygments_lexer": "ipython3",
   "version": "3.9.12"
  }
 },
 "nbformat": 4,
 "nbformat_minor": 5
}
