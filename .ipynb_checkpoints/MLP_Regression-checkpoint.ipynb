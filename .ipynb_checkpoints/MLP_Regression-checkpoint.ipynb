{
 "cells": [
  {
   "cell_type": "code",
   "execution_count": 64,
   "id": "eebd5ece",
   "metadata": {},
   "outputs": [],
   "source": [
    "import tensorflow as tf\n",
    "from tensorflow.keras.models import Sequential\n",
    "from tensorflow.keras.layers import Dense\n",
    "import pandas as pd\n",
    "import numpy as np"
   ]
  },
  {
   "cell_type": "code",
   "execution_count": 65,
   "id": "94c47fab",
   "metadata": {},
   "outputs": [],
   "source": [
    "train_df = pd.read_csv('data/cleaned_train.csv')\n",
    "\n",
    "# Extract the columns you want to use as input features\n",
    "columns = ['BERT_sentiment_score', 'normalised_word_count', 'pub_day', 'pub_hour']\n",
    "# Extract input features from the dataframe\n",
    "x_train = train_df[columns].dropna()\n",
    "\n",
    "y_train = np.array(train_df['n_comments'])"
   ]
  },
  {
   "cell_type": "code",
   "execution_count": 66,
   "id": "82b53182",
   "metadata": {},
   "outputs": [],
   "source": [
    "from sklearn.preprocessing import LabelEncoder\n",
    "# Concatenate train and test data vertically to ensure consistent label encoding\n",
    "combined_df = pd.concat([train_df['topic'], test_df['topic']], axis=0)\n",
    "\n",
    "# Create an instance of LabelEncoder\n",
    "le = LabelEncoder()\n",
    "\n",
    "# Fit and transform the combined data using LabelEncoder\n",
    "combined_encoded = le.fit_transform(combined_df)\n",
    "\n",
    "# Apply the LabelEncoder transformation separately on train and test data\n",
    "train_topic_encoded = np.array(le.transform(train_df['topic'].dropna()))\n",
    "test_topic_encoded = le.transform(test_df['topic'].dropna())"
   ]
  },
  {
   "cell_type": "code",
   "execution_count": 67,
   "id": "1564f9fa",
   "metadata": {},
   "outputs": [],
   "source": [
    "train_topic_df = pd.DataFrame(train_topic_encoded, columns=['topic encoded'])"
   ]
  },
  {
   "cell_type": "code",
   "execution_count": 68,
   "id": "13bbd997",
   "metadata": {},
   "outputs": [],
   "source": [
    "# Concatenate the 'topic_encoded' tensor with the other input features\n",
    "x_train = pd.concat([x_train, train_topic_df], axis=1)"
   ]
  },
  {
   "cell_type": "code",
   "execution_count": 69,
   "id": "06ea2453",
   "metadata": {},
   "outputs": [],
   "source": [
    "# Create MLP model\n",
    "model = Sequential()\n",
    "num_features = 5\n",
    "model.add(Dense(64, activation='relu', input_dim=num_features))\n",
    "model.add(Dense(32, activation='relu'))\n",
    "model.add(Dense(1, activation='linear'))"
   ]
  },
  {
   "cell_type": "code",
   "execution_count": 70,
   "id": "b5451755",
   "metadata": {},
   "outputs": [],
   "source": [
    "# Compile the model\n",
    "model.compile(optimizer='adam', loss='mean_squared_error')"
   ]
  },
  {
   "cell_type": "code",
   "execution_count": 71,
   "id": "17eef2c0",
   "metadata": {},
   "outputs": [
    {
     "name": "stdout",
     "output_type": "stream",
     "text": [
      "Epoch 1/100\n",
      "312/312 [==============================] - 2s 3ms/step - loss: 308687.5000 - val_loss: 241640.7969\n",
      "Epoch 2/100\n",
      "312/312 [==============================] - 1s 2ms/step - loss: 276970.7500 - val_loss: 239035.6562\n",
      "Epoch 3/100\n",
      "312/312 [==============================] - 1s 2ms/step - loss: 273393.3125 - val_loss: 236034.9531\n",
      "Epoch 4/100\n",
      "312/312 [==============================] - 1s 2ms/step - loss: 268862.6875 - val_loss: 234239.3281\n",
      "Epoch 5/100\n",
      "312/312 [==============================] - 1s 2ms/step - loss: 263815.7812 - val_loss: 230599.0781\n",
      "Epoch 6/100\n",
      "312/312 [==============================] - 1s 2ms/step - loss: 259359.1719 - val_loss: 227419.4375\n",
      "Epoch 7/100\n",
      "312/312 [==============================] - 1s 3ms/step - loss: 256185.1406 - val_loss: 225639.2344\n",
      "Epoch 8/100\n",
      "312/312 [==============================] - 1s 3ms/step - loss: 254104.3906 - val_loss: 223852.5625\n",
      "Epoch 9/100\n",
      "312/312 [==============================] - 1s 3ms/step - loss: 252656.4062 - val_loss: 228974.7188\n",
      "Epoch 10/100\n",
      "312/312 [==============================] - 1s 3ms/step - loss: 251380.7969 - val_loss: 222162.3750\n",
      "Epoch 11/100\n",
      "312/312 [==============================] - 1s 3ms/step - loss: 250453.7969 - val_loss: 221936.5156\n",
      "Epoch 12/100\n",
      "312/312 [==============================] - 1s 3ms/step - loss: 249917.8438 - val_loss: 222336.8438\n",
      "Epoch 13/100\n",
      "312/312 [==============================] - 1s 4ms/step - loss: 249173.5000 - val_loss: 220978.2969\n",
      "Epoch 14/100\n",
      "312/312 [==============================] - 1s 3ms/step - loss: 248736.6406 - val_loss: 220537.2188\n",
      "Epoch 15/100\n",
      "312/312 [==============================] - 1s 3ms/step - loss: 248482.5625 - val_loss: 220820.0000\n",
      "Epoch 16/100\n",
      "312/312 [==============================] - 1s 2ms/step - loss: 247516.9688 - val_loss: 221620.7031\n",
      "Epoch 17/100\n",
      "312/312 [==============================] - 1s 2ms/step - loss: 247383.8281 - val_loss: 224629.5781\n",
      "Epoch 18/100\n",
      "312/312 [==============================] - 1s 3ms/step - loss: 247263.6719 - val_loss: 220645.7188\n",
      "Epoch 19/100\n",
      "312/312 [==============================] - 1s 3ms/step - loss: 246584.0312 - val_loss: 221924.7656\n",
      "Epoch 20/100\n",
      "312/312 [==============================] - 1s 2ms/step - loss: 246055.8125 - val_loss: 219071.0469\n",
      "Epoch 21/100\n",
      "312/312 [==============================] - 1s 3ms/step - loss: 245752.7812 - val_loss: 220365.0469\n",
      "Epoch 22/100\n",
      "312/312 [==============================] - 1s 3ms/step - loss: 245376.3594 - val_loss: 219215.9219\n",
      "Epoch 23/100\n",
      "312/312 [==============================] - 1s 3ms/step - loss: 245124.7188 - val_loss: 218614.6250\n",
      "Epoch 24/100\n",
      "312/312 [==============================] - 1s 3ms/step - loss: 244748.9688 - val_loss: 220844.6719\n",
      "Epoch 25/100\n",
      "312/312 [==============================] - 1s 3ms/step - loss: 243725.8906 - val_loss: 219528.7031\n",
      "Epoch 26/100\n",
      "312/312 [==============================] - 1s 3ms/step - loss: 243662.4375 - val_loss: 221411.5312\n",
      "Epoch 27/100\n",
      "312/312 [==============================] - 1s 3ms/step - loss: 243507.8750 - val_loss: 218693.6719\n",
      "Epoch 28/100\n",
      "312/312 [==============================] - 1s 3ms/step - loss: 242878.9688 - val_loss: 218165.5781\n",
      "Epoch 29/100\n",
      "312/312 [==============================] - 1s 3ms/step - loss: 243185.5156 - val_loss: 218206.1094\n",
      "Epoch 30/100\n",
      "312/312 [==============================] - 1s 3ms/step - loss: 242657.9219 - val_loss: 216567.8594\n",
      "Epoch 31/100\n",
      "312/312 [==============================] - 1s 3ms/step - loss: 242258.3438 - val_loss: 216322.1094\n",
      "Epoch 32/100\n",
      "312/312 [==============================] - 1s 3ms/step - loss: 242392.2656 - val_loss: 218392.6719\n",
      "Epoch 33/100\n",
      "312/312 [==============================] - 1s 3ms/step - loss: 241735.6250 - val_loss: 216084.8125\n",
      "Epoch 34/100\n",
      "312/312 [==============================] - 1s 3ms/step - loss: 241458.4375 - val_loss: 222048.4219\n",
      "Epoch 35/100\n",
      "312/312 [==============================] - 1s 3ms/step - loss: 241316.3594 - val_loss: 220749.0469\n",
      "Epoch 36/100\n",
      "312/312 [==============================] - 1s 2ms/step - loss: 240339.5938 - val_loss: 216097.7344\n",
      "Epoch 37/100\n",
      "312/312 [==============================] - 1s 2ms/step - loss: 240444.8438 - val_loss: 222734.6562\n",
      "Epoch 38/100\n",
      "312/312 [==============================] - 1s 2ms/step - loss: 240261.7500 - val_loss: 219644.6406\n",
      "Epoch 39/100\n",
      "312/312 [==============================] - 1s 2ms/step - loss: 239596.8594 - val_loss: 217500.1562\n",
      "Epoch 40/100\n",
      "312/312 [==============================] - 1s 2ms/step - loss: 239469.3594 - val_loss: 216337.5781\n",
      "Epoch 41/100\n",
      "312/312 [==============================] - 1s 3ms/step - loss: 239226.8906 - val_loss: 216127.8750\n",
      "Epoch 42/100\n",
      "312/312 [==============================] - 1s 3ms/step - loss: 239301.3906 - val_loss: 224537.2344\n",
      "Epoch 43/100\n",
      "312/312 [==============================] - 1s 3ms/step - loss: 238472.1875 - val_loss: 216146.2812\n",
      "Epoch 44/100\n",
      "312/312 [==============================] - 1s 2ms/step - loss: 237905.7969 - val_loss: 219681.4688\n",
      "Epoch 45/100\n",
      "312/312 [==============================] - 1s 2ms/step - loss: 238174.6094 - val_loss: 225067.1250\n",
      "Epoch 46/100\n",
      "312/312 [==============================] - 1s 4ms/step - loss: 238220.6562 - val_loss: 218261.1094\n",
      "Epoch 47/100\n",
      "312/312 [==============================] - 1s 3ms/step - loss: 237379.8281 - val_loss: 214990.4844\n",
      "Epoch 48/100\n",
      "312/312 [==============================] - 1s 3ms/step - loss: 237461.1094 - val_loss: 214738.6094\n",
      "Epoch 49/100\n",
      "312/312 [==============================] - 1s 3ms/step - loss: 237022.2031 - val_loss: 219361.7656\n",
      "Epoch 50/100\n",
      "312/312 [==============================] - 1s 3ms/step - loss: 237019.3281 - val_loss: 215045.0312\n",
      "Epoch 51/100\n",
      "312/312 [==============================] - 1s 3ms/step - loss: 236967.5469 - val_loss: 216987.0625\n",
      "Epoch 52/100\n",
      "312/312 [==============================] - 1s 3ms/step - loss: 236336.2812 - val_loss: 217149.1250\n",
      "Epoch 53/100\n",
      "312/312 [==============================] - 1s 3ms/step - loss: 236397.4531 - val_loss: 215987.6719\n",
      "Epoch 54/100\n",
      "312/312 [==============================] - 1s 2ms/step - loss: 235819.2969 - val_loss: 217170.8438\n",
      "Epoch 55/100\n",
      "312/312 [==============================] - 1s 2ms/step - loss: 235851.3438 - val_loss: 217866.6719\n",
      "Epoch 56/100\n",
      "312/312 [==============================] - 1s 2ms/step - loss: 236148.2188 - val_loss: 215044.7188\n",
      "Epoch 57/100\n",
      "312/312 [==============================] - 1s 2ms/step - loss: 235955.3125 - val_loss: 216235.2344\n",
      "Epoch 58/100\n",
      "312/312 [==============================] - 1s 3ms/step - loss: 235542.8906 - val_loss: 219463.7031\n",
      "Epoch 59/100\n",
      "312/312 [==============================] - 1s 3ms/step - loss: 235267.5000 - val_loss: 217692.3438\n",
      "Epoch 60/100\n",
      "312/312 [==============================] - 1s 2ms/step - loss: 234776.6250 - val_loss: 216214.4688\n",
      "Epoch 61/100\n",
      "312/312 [==============================] - 1s 2ms/step - loss: 234784.8438 - val_loss: 218006.5625\n",
      "Epoch 62/100\n",
      "312/312 [==============================] - 1s 2ms/step - loss: 235572.8750 - val_loss: 216108.9844\n",
      "Epoch 63/100\n",
      "312/312 [==============================] - 1s 2ms/step - loss: 235026.5469 - val_loss: 216214.7656\n",
      "Epoch 64/100\n",
      "312/312 [==============================] - 1s 3ms/step - loss: 234173.7969 - val_loss: 216270.6875\n",
      "Epoch 65/100\n",
      "312/312 [==============================] - 1s 3ms/step - loss: 233324.1250 - val_loss: 220773.0000\n",
      "Epoch 66/100\n",
      "312/312 [==============================] - 1s 3ms/step - loss: 233457.7500 - val_loss: 217353.7344\n",
      "Epoch 67/100\n",
      "312/312 [==============================] - 1s 3ms/step - loss: 234764.4375 - val_loss: 217164.5000\n",
      "Epoch 68/100\n",
      "312/312 [==============================] - 1s 3ms/step - loss: 233873.6406 - val_loss: 216019.5625\n",
      "Epoch 69/100\n",
      "312/312 [==============================] - 1s 3ms/step - loss: 234002.0781 - val_loss: 216309.0938\n",
      "Epoch 70/100\n",
      "312/312 [==============================] - 1s 3ms/step - loss: 234022.2969 - val_loss: 217483.8594\n",
      "Epoch 71/100\n",
      "312/312 [==============================] - 1s 2ms/step - loss: 233087.5312 - val_loss: 216345.7812\n",
      "Epoch 72/100\n",
      "312/312 [==============================] - 1s 3ms/step - loss: 233195.4531 - val_loss: 219222.3906\n",
      "Epoch 73/100\n",
      "312/312 [==============================] - 1s 2ms/step - loss: 233896.5000 - val_loss: 215737.6406\n",
      "Epoch 74/100\n"
     ]
    },
    {
     "name": "stdout",
     "output_type": "stream",
     "text": [
      "312/312 [==============================] - 1s 2ms/step - loss: 232830.2344 - val_loss: 220032.7656\n",
      "Epoch 75/100\n",
      "312/312 [==============================] - 1s 2ms/step - loss: 233262.8125 - val_loss: 223927.4531\n",
      "Epoch 76/100\n",
      "312/312 [==============================] - 1s 2ms/step - loss: 233229.0156 - val_loss: 217943.9531\n",
      "Epoch 77/100\n",
      "312/312 [==============================] - 1s 2ms/step - loss: 233033.4844 - val_loss: 216869.2969\n",
      "Epoch 78/100\n",
      "312/312 [==============================] - 1s 2ms/step - loss: 232575.5156 - val_loss: 215891.8750\n",
      "Epoch 79/100\n",
      "312/312 [==============================] - 1s 2ms/step - loss: 232298.6250 - val_loss: 220633.9219\n",
      "Epoch 80/100\n",
      "312/312 [==============================] - 1s 2ms/step - loss: 232807.3906 - val_loss: 217404.7188\n",
      "Epoch 81/100\n",
      "312/312 [==============================] - 1s 2ms/step - loss: 232231.2969 - val_loss: 217816.9062\n",
      "Epoch 82/100\n",
      "312/312 [==============================] - 1s 2ms/step - loss: 232277.9375 - val_loss: 222711.1250\n",
      "Epoch 83/100\n",
      "312/312 [==============================] - 1s 2ms/step - loss: 232284.6562 - val_loss: 221529.0312\n",
      "Epoch 84/100\n",
      "312/312 [==============================] - 1s 2ms/step - loss: 232404.8750 - val_loss: 218507.0625\n",
      "Epoch 85/100\n",
      "312/312 [==============================] - 1s 3ms/step - loss: 232267.6406 - val_loss: 220428.2969\n",
      "Epoch 86/100\n",
      "312/312 [==============================] - 1s 3ms/step - loss: 231998.0469 - val_loss: 219467.8125\n",
      "Epoch 87/100\n",
      "312/312 [==============================] - 1s 3ms/step - loss: 232002.7500 - val_loss: 216292.9375\n",
      "Epoch 88/100\n",
      "312/312 [==============================] - 1s 3ms/step - loss: 231976.1875 - val_loss: 217112.9531\n",
      "Epoch 89/100\n",
      "312/312 [==============================] - 1s 3ms/step - loss: 232057.9688 - val_loss: 220703.3750\n",
      "Epoch 90/100\n",
      "312/312 [==============================] - 1s 3ms/step - loss: 232035.9219 - val_loss: 215916.4688\n",
      "Epoch 91/100\n",
      "312/312 [==============================] - 1s 2ms/step - loss: 230913.6250 - val_loss: 216222.2656\n",
      "Epoch 92/100\n",
      "312/312 [==============================] - 1s 2ms/step - loss: 231617.9531 - val_loss: 225459.9531\n",
      "Epoch 93/100\n",
      "312/312 [==============================] - 1s 2ms/step - loss: 231461.0312 - val_loss: 217250.1250\n",
      "Epoch 94/100\n",
      "312/312 [==============================] - 1s 2ms/step - loss: 232301.5625 - val_loss: 218619.0156\n",
      "Epoch 95/100\n",
      "312/312 [==============================] - 1s 2ms/step - loss: 230838.5000 - val_loss: 218306.2344\n",
      "Epoch 96/100\n",
      "312/312 [==============================] - 1s 2ms/step - loss: 231826.2031 - val_loss: 217360.6094\n",
      "Epoch 97/100\n",
      "312/312 [==============================] - 1s 2ms/step - loss: 231095.6094 - val_loss: 220895.2188\n",
      "Epoch 98/100\n",
      "312/312 [==============================] - 1s 3ms/step - loss: 230727.2969 - val_loss: 220121.3438\n",
      "Epoch 99/100\n",
      "312/312 [==============================] - 1s 2ms/step - loss: 231046.3906 - val_loss: 216668.5781\n",
      "Epoch 100/100\n",
      "312/312 [==============================] - 1s 2ms/step - loss: 230823.8594 - val_loss: 220529.0781\n"
     ]
    },
    {
     "data": {
      "text/plain": [
       "<keras.callbacks.History at 0x1f109421bb0>"
      ]
     },
     "execution_count": 71,
     "metadata": {},
     "output_type": "execute_result"
    }
   ],
   "source": [
    "# Train the model\n",
    "model.fit(x_train, y_train, batch_size=32, epochs=100, validation_split=0.2)"
   ]
  },
  {
   "cell_type": "code",
   "execution_count": 72,
   "id": "15889f67",
   "metadata": {},
   "outputs": [],
   "source": [
    "# save the trained model\n",
    "model.save('MLP_prediction_model.h5')"
   ]
  },
  {
   "cell_type": "code",
   "execution_count": 73,
   "id": "e059daed",
   "metadata": {},
   "outputs": [],
   "source": [
    "test_df = pd.read_csv('data/cleaned_test.csv')\n",
    "\n",
    "x_test = test_df[columns].dropna().values"
   ]
  },
  {
   "cell_type": "code",
   "execution_count": 74,
   "id": "5b00332d",
   "metadata": {},
   "outputs": [],
   "source": [
    "test_topic_df = pd.DataFrame(test_topic_encoded, columns=['topic encoded'])"
   ]
  },
  {
   "cell_type": "code",
   "execution_count": 75,
   "id": "3a14cd5a",
   "metadata": {},
   "outputs": [],
   "source": [
    "# Concatenate the 'topic_encoded' tensor with the other input features\n",
    "x_test = tf.concat([x_test, test_topic_df], axis=1)"
   ]
  },
  {
   "cell_type": "code",
   "execution_count": 76,
   "id": "c9f2cc93",
   "metadata": {},
   "outputs": [
    {
     "name": "stdout",
     "output_type": "stream",
     "text": [
      "122/122 [==============================] - 0s 1ms/step\n"
     ]
    }
   ],
   "source": [
    "y_pred = model.predict(x_test)"
   ]
  },
  {
   "cell_type": "code",
   "execution_count": 77,
   "id": "8a6cde5c",
   "metadata": {},
   "outputs": [
    {
     "data": {
      "text/plain": [
       "array([934.73047], dtype=float32)"
      ]
     },
     "execution_count": 77,
     "metadata": {},
     "output_type": "execute_result"
    }
   ],
   "source": [
    "y_pred[0]"
   ]
  },
  {
   "cell_type": "code",
   "execution_count": null,
   "id": "40e8ec44",
   "metadata": {},
   "outputs": [],
   "source": []
  }
 ],
 "metadata": {
  "kernelspec": {
   "display_name": "Python 3 (ipykernel)",
   "language": "python",
   "name": "python3"
  },
  "language_info": {
   "codemirror_mode": {
    "name": "ipython",
    "version": 3
   },
   "file_extension": ".py",
   "mimetype": "text/x-python",
   "name": "python",
   "nbconvert_exporter": "python",
   "pygments_lexer": "ipython3",
   "version": "3.9.12"
  }
 },
 "nbformat": 4,
 "nbformat_minor": 5
}
