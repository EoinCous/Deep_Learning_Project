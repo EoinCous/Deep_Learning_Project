{
 "cells": [
  {
   "cell_type": "markdown",
   "id": "56012908",
   "metadata": {},
   "source": [
    "# BERT Sentiment Analysis tool\n",
    "Used to find the tone of each article using the headline, abstract and key words"
   ]
  },
  {
   "cell_type": "code",
   "execution_count": null,
   "id": "d1866e7a",
   "metadata": {},
   "outputs": [],
   "source": [
    "!pip install transformers"
   ]
  },
  {
   "cell_type": "code",
   "execution_count": 2,
   "id": "2e3e80cc",
   "metadata": {},
   "outputs": [
    {
     "name": "stdout",
     "output_type": "stream",
     "text": [
      "Requirement already satisfied: torch in c:\\users\\user\\anaconda3\\lib\\site-packages (2.0.0)\n",
      "Requirement already satisfied: jinja2 in c:\\users\\user\\anaconda3\\lib\\site-packages (from torch) (2.11.3)\n",
      "Requirement already satisfied: sympy in c:\\users\\user\\anaconda3\\lib\\site-packages (from torch) (1.10.1)\n",
      "Requirement already satisfied: filelock in c:\\users\\user\\anaconda3\\lib\\site-packages (from torch) (3.6.0)\n",
      "Requirement already satisfied: networkx in c:\\users\\user\\anaconda3\\lib\\site-packages (from torch) (2.7.1)\n",
      "Requirement already satisfied: typing-extensions in c:\\users\\user\\anaconda3\\lib\\site-packages (from torch) (4.1.1)\n",
      "Requirement already satisfied: MarkupSafe>=0.23 in c:\\users\\user\\anaconda3\\lib\\site-packages (from jinja2->torch) (2.0.1)\n",
      "Requirement already satisfied: mpmath>=0.19 in c:\\users\\user\\anaconda3\\lib\\site-packages (from sympy->torch) (1.2.1)\n"
     ]
    }
   ],
   "source": [
    "!pip install torch"
   ]
  },
  {
   "cell_type": "markdown",
   "id": "db3370c0",
   "metadata": {},
   "source": [
    "Load the pretrained BERT model"
   ]
  },
  {
   "cell_type": "code",
   "execution_count": 1,
   "id": "4d2975d9",
   "metadata": {},
   "outputs": [],
   "source": [
    "from transformers import AutoTokenizer, AutoModelForSequenceClassification\n",
    "import torch\n",
    "import pandas as pd\n",
    "\n",
    "tokenizer = AutoTokenizer.from_pretrained('nlptown/bert-base-multilingual-uncased-sentiment')\n",
    "model = AutoModelForSequenceClassification.from_pretrained('nlptown/bert-base-multilingual-uncased-sentiment')"
   ]
  },
  {
   "cell_type": "markdown",
   "id": "fb7af7cc",
   "metadata": {},
   "source": [
    "## Tones\n",
    "0 = Negative <br>\n",
    "1 = Neutral <br>\n",
    "2 = Positive"
   ]
  },
  {
   "cell_type": "code",
   "execution_count": 2,
   "id": "163673ce",
   "metadata": {},
   "outputs": [],
   "source": [
    "# Define the function that computes the sentiment score\n",
    "def sentiment_score(title, abstract, keywords):\n",
    "    tokens = tokenizer.encode(title + \". \" + abstract + \". \" + keywords, return_tensors = 'pt')\n",
    "    result = model(tokens)\n",
    "    score = int(torch.argmax(result.logits))\n",
    "    #convert to 3 classes rather than 5\n",
    "    if score == 1:\n",
    "        score = 0 if result.logits[0][0] > result.logits[0][2] else 1\n",
    "    elif score == 2:\n",
    "        score = 1\n",
    "    elif score == 3:\n",
    "        score = 2 if result.logits[0][4] > result.logits[0][2] else 1\n",
    "    elif score == 4:\n",
    "        score = 2\n",
    "    return score"
   ]
  },
  {
   "cell_type": "code",
   "execution_count": 3,
   "id": "89969cab",
   "metadata": {},
   "outputs": [
    {
     "name": "stdout",
     "output_type": "stream",
     "text": [
      "1\n"
     ]
    }
   ],
   "source": [
    "#Test the model\n",
    "print(sentiment_score(\"average\", \"The mediocre\", \"alright. neutral\"))"
   ]
  },
  {
   "cell_type": "code",
   "execution_count": 5,
   "id": "a46af4a6",
   "metadata": {},
   "outputs": [],
   "source": [
    "# Load the CSV files into a pandas DataFrame\n",
    "train_df = pd.read_csv(\"../data/cleaned_train.csv\")\n",
    "\n",
    "# Cast the input columns to string\n",
    "train_df[\"headline\"] = train_df[\"headline\"].astype(str)\n",
    "train_df[\"abstract\"] = train_df[\"abstract\"].astype(str)\n",
    "train_df[\"keywords\"] = train_df[\"keywords\"].astype(str)\n",
    "\n",
    "# Apply the function to the three columns and store the result in a new column\n",
    "train_df[\"BERT_sentiment_score\"] = train_df.apply(lambda x: sentiment_score(x[\"headline\"], x[\"abstract\"], x[\"keywords\"]), axis=1)\n",
    "\n",
    "# Write the updated DataFrame back to the CSV file\n",
    "train_df.to_csv(\"../data/cleaned_train.csv\", index=False)"
   ]
  },
  {
   "cell_type": "code",
   "execution_count": 4,
   "id": "856b10e8",
   "metadata": {},
   "outputs": [],
   "source": [
    "test_df = pd.read_csv(\"../data/cleaned_test.csv\")\n",
    "\n",
    "# Cast the input columns to string\n",
    "test_df[\"headline\"] = test_df[\"headline\"].astype(str)\n",
    "test_df[\"abstract\"] = test_df[\"abstract\"].astype(str)\n",
    "test_df[\"keywords\"] = test_df[\"keywords\"].astype(str)\n",
    "\n",
    "# Apply the function to the three columns and store the result in a new column\n",
    "test_df[\"BERT_sentiment_score\"] = test_df.apply(lambda x: sentiment_score(x[\"headline\"], x[\"abstract\"], x[\"keywords\"]), axis=1)\n",
    "\n",
    "# Write the updated DataFrame back to the CSV file\n",
    "test_df.to_csv(\"../data/cleaned_test.csv\", index=False)"
   ]
  },
  {
   "cell_type": "code",
   "execution_count": null,
   "id": "1b48c507",
   "metadata": {},
   "outputs": [],
   "source": []
  }
 ],
 "metadata": {
  "kernelspec": {
   "display_name": "Python 3 (ipykernel)",
   "language": "python",
   "name": "python3"
  },
  "language_info": {
   "codemirror_mode": {
    "name": "ipython",
    "version": 3
   },
   "file_extension": ".py",
   "mimetype": "text/x-python",
   "name": "python",
   "nbconvert_exporter": "python",
   "pygments_lexer": "ipython3",
   "version": "3.9.12"
  }
 },
 "nbformat": 4,
 "nbformat_minor": 5
}
