{
 "cells": [
  {
   "cell_type": "code",
   "execution_count": 47,
   "id": "eebd5ece",
   "metadata": {},
   "outputs": [],
   "source": [
    "import tensorflow as tf\n",
    "from tensorflow.keras.models import Sequential\n",
    "from tensorflow.keras.layers import Dense\n",
    "import pandas as pd\n",
    "import numpy as np"
   ]
  },
  {
   "cell_type": "code",
   "execution_count": 32,
   "id": "94c47fab",
   "metadata": {},
   "outputs": [],
   "source": [
    "train_df = pd.read_csv('data/cleaned_train.csv')\n",
    "\n",
    "# Extract the columns you want to use as input features\n",
    "columns = ['BERT_sentiment_score', 'normalised_word_count', 'pub_day', 'pub_hour']\n",
    "# Extract input features from the dataframe\n",
    "x_train = train_df[columns].dropna()\n",
    "\n",
    "y_train = np.array(train_df['n_comments'])"
   ]
  },
  {
   "cell_type": "code",
   "execution_count": 41,
   "id": "92d640eb",
   "metadata": {},
   "outputs": [],
   "source": [
    "from sklearn.preprocessing import LabelEncoder\n",
    "# Concatenate train and test data vertically to ensure consistent label encoding\n",
    "combined_df = pd.concat([train_df['topic'], test_df['topic']], axis=0)\n",
    "\n",
    "# Create an instance of LabelEncoder\n",
    "le = LabelEncoder()\n",
    "\n",
    "# Fit and transform the combined data using LabelEncoder\n",
    "combined_encoded = le.fit_transform(combined_df)\n",
    "\n",
    "# Apply the LabelEncoder transformation separately on train and test data\n",
    "train_topic_encoded = np.array(le.transform(train_df['topic'].dropna()))\n",
    "test_topic_encoded = le.transform(test_df['topic'].dropna())"
   ]
  },
  {
   "cell_type": "code",
   "execution_count": 49,
   "id": "37491bfe",
   "metadata": {},
   "outputs": [],
   "source": [
    "train_topic_encoded\n",
    "arr_df = pd.DataFrame(train_topic_encoded, columns=['topic encoded'])"
   ]
  },
  {
   "cell_type": "code",
   "execution_count": 8,
   "id": "0fccb726",
   "metadata": {},
   "outputs": [],
   "source": [
    "#one-hot encoded string to tensor\n",
    "data = train_df['topic_encoded'].dropna()\n",
    "\n",
    "# Function to remove square brackets and convert string to list of integers\n",
    "def preprocess_data(data):\n",
    "    data = data.strip('[]')\n",
    "    data_list = list(map(int, data))\n",
    "    return data_list\n",
    "\n",
    "# Apply preprocessing to each element in the column\n",
    "data_list = data.apply(preprocess_data)\n",
    "\n",
    "# Convert list of lists to numpy array\n",
    "data_np = np.array(data_list.tolist())\n",
    "\n",
    "# Convert numpy array to tensor\n",
    "data_tensor = tf.convert_to_tensor(data_np, dtype=tf.float32)\n",
    "\n",
    "# Reshape tensor to desired shape (e.g., (num_samples, num_features) in this case)\n",
    "data_tensor = tf.reshape(data_tensor, (data_np.shape[0], -1))"
   ]
  },
  {
   "cell_type": "code",
   "execution_count": 3,
   "id": "8e86e947",
   "metadata": {},
   "outputs": [],
   "source": [
    "import pandas as pd\n",
    "from gensim.models import Word2Vec\n",
    "\n",
    "# Load your text data\n",
    "data = train_df['topic'].dropna()\n",
    "\n",
    "# Convert the text data into list of sentences, where each sentence is a list of words\n",
    "sentences = [sent.split() for sent in data]\n",
    "\n",
    "# Train a Word2Vec model on your text data\n",
    "embedding_dim = 100  # Specify the embedding dimension\n",
    "model_train = Word2Vec(sentences, vector_size=embedding_dim, window=5, min_count=1, workers=4)\n",
    "\n",
    "# Get the word embeddings for your topics\n",
    "topic_embeddings = []\n",
    "for topic in data:\n",
    "    topic_words = topic.split()  # Split the topic text into individual words\n",
    "    topic_vector = np.zeros(embedding_dim)  # Initialize a vector of zeros for the topic\n",
    "    num_words = 0  # Keep track of the number of words in the topic\n",
    "\n",
    "    # Iterate over each word in the topic and add its embedding to the topic vector\n",
    "    for word in topic_words:\n",
    "        if word in model_train.wv:\n",
    "            topic_vector += model_train.wv[word]\n",
    "            num_words += 1\n",
    "\n",
    "    # Average the word embeddings to get the final topic embedding\n",
    "    if num_words > 0:\n",
    "        topic_vector /= num_words\n",
    "\n",
    "    topic_embeddings.append(topic_vector)\n",
    "\n",
    "# Convert the topic embeddings list into a numpy array\n",
    "topic_embeddings = np.array(topic_embeddings)\n",
    "\n",
    "# Now, topic_embeddings contains the numerical representations (embeddings) for your \"topic\" text data, which you can concatenate with your other input features and use as input to your MLP model for training and prediction.\n"
   ]
  },
  {
   "cell_type": "code",
   "execution_count": 4,
   "id": "64602ab3",
   "metadata": {},
   "outputs": [
    {
     "data": {
      "text/plain": [
       "array([-8.61968752e-03,  3.66573804e-03,  5.18988352e-03,  5.74193709e-03,\n",
       "        7.46691693e-03, -6.16767630e-03,  1.10561366e-03,  6.04728237e-03,\n",
       "       -2.84005166e-03, -6.17352268e-03, -4.10223001e-04, -8.36895034e-03,\n",
       "       -5.60001377e-03,  7.10453745e-03,  3.35253961e-03,  7.22566852e-03,\n",
       "        6.80024642e-03,  7.53074186e-03, -3.78915551e-03, -5.61807130e-04,\n",
       "        2.34837527e-03, -4.51903325e-03,  8.38873163e-03, -9.85816494e-03,\n",
       "        6.76464103e-03,  2.91441684e-03, -4.93283290e-03,  4.39818623e-03,\n",
       "       -1.73957588e-03,  6.71138288e-03,  9.96484980e-03, -4.36244486e-03,\n",
       "       -5.99339022e-04, -5.69563871e-03,  3.85082234e-03,  2.78662681e-03,\n",
       "        6.89107645e-03,  6.10109558e-03,  9.53849591e-03,  9.27341729e-03,\n",
       "        7.89806806e-03, -6.98950514e-03, -9.15586483e-03, -3.55753902e-04,\n",
       "       -3.09984200e-03,  7.89431576e-03,  5.93857281e-03, -1.54566288e-03,\n",
       "        1.51096343e-03,  1.79003959e-03,  7.81757105e-03, -9.51018836e-03,\n",
       "       -2.05531120e-04,  3.46919545e-03, -9.38973448e-04,  8.38177186e-03,\n",
       "        9.01078247e-03,  6.53650519e-03, -7.11622240e-04,  7.71040423e-03,\n",
       "       -8.53433646e-03,  3.20710661e-03, -4.63799713e-03, -5.08895656e-03,\n",
       "        3.58961825e-03,  5.37033798e-03,  7.76951294e-03, -5.76650631e-03,\n",
       "        7.43335951e-03,  6.62549492e-03, -3.70980031e-03, -8.74564145e-03,\n",
       "        5.43746725e-03,  6.50975481e-03, -7.87551398e-04, -6.70985691e-03,\n",
       "       -7.08592637e-03, -2.49706022e-03,  5.14325360e-03, -3.66523745e-03,\n",
       "       -9.37005971e-03,  3.82673973e-03,  4.88447910e-03, -6.42856350e-03,\n",
       "        1.20855810e-03, -2.07487820e-03,  2.44021412e-05, -9.88350902e-03,\n",
       "        2.69200327e-03, -4.75010648e-03,  1.08764647e-03, -1.57622574e-03,\n",
       "        2.19667191e-03, -7.88157713e-03, -2.71718507e-03,  2.66319746e-03,\n",
       "        5.34668192e-03, -2.39151483e-03, -9.51009523e-03,  4.50587738e-03])"
      ]
     },
     "execution_count": 4,
     "metadata": {},
     "output_type": "execute_result"
    }
   ],
   "source": [
    "topic_embeddings[0]"
   ]
  },
  {
   "cell_type": "code",
   "execution_count": 50,
   "id": "13bbd997",
   "metadata": {},
   "outputs": [],
   "source": [
    "# Concatenate the 'topic_encoded' tensor with the other input features\n",
    "x_train = pd.concat([x_train, arr_df], axis=1)"
   ]
  },
  {
   "cell_type": "code",
   "execution_count": 51,
   "id": "73fc2a4a",
   "metadata": {},
   "outputs": [
    {
     "data": {
      "text/plain": [
       "(12461, 5)"
      ]
     },
     "execution_count": 51,
     "metadata": {},
     "output_type": "execute_result"
    }
   ],
   "source": [
    "x_train.shape"
   ]
  },
  {
   "cell_type": "code",
   "execution_count": 52,
   "id": "06ea2453",
   "metadata": {},
   "outputs": [],
   "source": [
    "# Create MLP model\n",
    "model = Sequential()\n",
    "num_features = 5\n",
    "model.add(Dense(64, activation='relu', input_dim=num_features))\n",
    "model.add(Dense(32, activation='relu'))\n",
    "model.add(Dense(1, activation='linear'))"
   ]
  },
  {
   "cell_type": "code",
   "execution_count": 53,
   "id": "b5451755",
   "metadata": {},
   "outputs": [],
   "source": [
    "# Compile the model\n",
    "model.compile(optimizer='adam', loss='mean_squared_error')"
   ]
  },
  {
   "cell_type": "code",
   "execution_count": 54,
   "id": "17eef2c0",
   "metadata": {},
   "outputs": [
    {
     "name": "stdout",
     "output_type": "stream",
     "text": [
      "Epoch 1/100\n",
      "312/312 [==============================] - 1s 2ms/step - loss: 301654.7500 - val_loss: 241184.0625\n",
      "Epoch 2/100\n",
      "312/312 [==============================] - 1s 2ms/step - loss: 276778.1250 - val_loss: 239362.1094\n",
      "Epoch 3/100\n",
      "312/312 [==============================] - 1s 2ms/step - loss: 272539.9375 - val_loss: 237119.5156\n",
      "Epoch 4/100\n",
      "312/312 [==============================] - 1s 2ms/step - loss: 267703.7500 - val_loss: 236943.3750\n",
      "Epoch 5/100\n",
      "312/312 [==============================] - 1s 2ms/step - loss: 263810.6562 - val_loss: 232204.6250\n",
      "Epoch 6/100\n",
      "312/312 [==============================] - 1s 2ms/step - loss: 261074.4375 - val_loss: 230642.5781\n",
      "Epoch 7/100\n",
      "312/312 [==============================] - 1s 2ms/step - loss: 258726.0312 - val_loss: 229503.0469\n",
      "Epoch 8/100\n",
      "312/312 [==============================] - 1s 2ms/step - loss: 256253.7656 - val_loss: 227662.8125\n",
      "Epoch 9/100\n",
      "312/312 [==============================] - 1s 2ms/step - loss: 254279.8281 - val_loss: 225122.5312\n",
      "Epoch 10/100\n",
      "312/312 [==============================] - 1s 2ms/step - loss: 253010.4375 - val_loss: 225527.1406\n",
      "Epoch 11/100\n",
      "312/312 [==============================] - 1s 2ms/step - loss: 251711.8438 - val_loss: 225468.3594\n",
      "Epoch 12/100\n",
      "312/312 [==============================] - 1s 2ms/step - loss: 250594.6406 - val_loss: 221838.5625\n",
      "Epoch 13/100\n",
      "312/312 [==============================] - 1s 2ms/step - loss: 250070.8281 - val_loss: 223501.5625\n",
      "Epoch 14/100\n",
      "312/312 [==============================] - 1s 2ms/step - loss: 249391.1562 - val_loss: 222604.5469\n",
      "Epoch 15/100\n",
      "312/312 [==============================] - 1s 2ms/step - loss: 248952.9375 - val_loss: 222594.4844\n",
      "Epoch 16/100\n",
      "312/312 [==============================] - 1s 2ms/step - loss: 248342.9375 - val_loss: 222941.2344\n",
      "Epoch 17/100\n",
      "312/312 [==============================] - 1s 2ms/step - loss: 248366.0938 - val_loss: 219614.8594\n",
      "Epoch 18/100\n",
      "312/312 [==============================] - 1s 2ms/step - loss: 247223.1406 - val_loss: 219988.5312\n",
      "Epoch 19/100\n",
      "312/312 [==============================] - 1s 2ms/step - loss: 247163.5625 - val_loss: 223668.7500\n",
      "Epoch 20/100\n",
      "312/312 [==============================] - 1s 2ms/step - loss: 246456.8594 - val_loss: 221020.2969\n",
      "Epoch 21/100\n",
      "312/312 [==============================] - 1s 2ms/step - loss: 246020.5469 - val_loss: 220613.3438\n",
      "Epoch 22/100\n",
      "312/312 [==============================] - 1s 2ms/step - loss: 245959.1094 - val_loss: 219951.9062\n",
      "Epoch 23/100\n",
      "312/312 [==============================] - 1s 3ms/step - loss: 245158.6719 - val_loss: 223064.7969\n",
      "Epoch 24/100\n",
      "312/312 [==============================] - 1s 2ms/step - loss: 245232.6875 - val_loss: 219679.1875\n",
      "Epoch 25/100\n",
      "312/312 [==============================] - 1s 3ms/step - loss: 244658.6250 - val_loss: 223324.1562\n",
      "Epoch 26/100\n",
      "312/312 [==============================] - 1s 3ms/step - loss: 244636.2812 - val_loss: 217204.3125\n",
      "Epoch 27/100\n",
      "312/312 [==============================] - 1s 2ms/step - loss: 243727.2500 - val_loss: 220816.8125\n",
      "Epoch 28/100\n",
      "312/312 [==============================] - 1s 2ms/step - loss: 243429.2188 - val_loss: 218632.1094\n",
      "Epoch 29/100\n",
      "312/312 [==============================] - 1s 2ms/step - loss: 243433.4844 - val_loss: 218043.1250\n",
      "Epoch 30/100\n",
      "312/312 [==============================] - 1s 2ms/step - loss: 243364.7500 - val_loss: 220173.7031\n",
      "Epoch 31/100\n",
      "312/312 [==============================] - 1s 2ms/step - loss: 242963.3906 - val_loss: 216359.5312\n",
      "Epoch 32/100\n",
      "312/312 [==============================] - 1s 2ms/step - loss: 242546.6719 - val_loss: 220158.5156\n",
      "Epoch 33/100\n",
      "312/312 [==============================] - 1s 2ms/step - loss: 242482.1875 - val_loss: 217875.6875\n",
      "Epoch 34/100\n",
      "312/312 [==============================] - 1s 2ms/step - loss: 242397.7656 - val_loss: 217686.6406\n",
      "Epoch 35/100\n",
      "312/312 [==============================] - 1s 2ms/step - loss: 241480.9844 - val_loss: 221358.3906\n",
      "Epoch 36/100\n",
      "312/312 [==============================] - 1s 2ms/step - loss: 241106.7031 - val_loss: 218921.9688\n",
      "Epoch 37/100\n",
      "312/312 [==============================] - 1s 2ms/step - loss: 241415.1719 - val_loss: 219323.9688\n",
      "Epoch 38/100\n",
      "312/312 [==============================] - 1s 2ms/step - loss: 240481.2031 - val_loss: 218581.2031\n",
      "Epoch 39/100\n",
      "312/312 [==============================] - 1s 2ms/step - loss: 240621.5156 - val_loss: 216133.9062\n",
      "Epoch 40/100\n",
      "312/312 [==============================] - 1s 2ms/step - loss: 240211.2031 - val_loss: 216001.9062\n",
      "Epoch 41/100\n",
      "312/312 [==============================] - 1s 2ms/step - loss: 240142.0938 - val_loss: 219901.1562\n",
      "Epoch 42/100\n",
      "312/312 [==============================] - 1s 2ms/step - loss: 239617.0781 - val_loss: 219877.5625\n",
      "Epoch 43/100\n",
      "312/312 [==============================] - 1s 2ms/step - loss: 239447.3750 - val_loss: 221117.3281\n",
      "Epoch 44/100\n",
      "312/312 [==============================] - 1s 2ms/step - loss: 239544.9688 - val_loss: 215764.4844\n",
      "Epoch 45/100\n",
      "312/312 [==============================] - 1s 2ms/step - loss: 238774.5938 - val_loss: 220883.5312\n",
      "Epoch 46/100\n",
      "312/312 [==============================] - 1s 2ms/step - loss: 238631.9062 - val_loss: 217779.7812\n",
      "Epoch 47/100\n",
      "312/312 [==============================] - 1s 2ms/step - loss: 239263.6719 - val_loss: 223249.3281\n",
      "Epoch 48/100\n",
      "312/312 [==============================] - 1s 2ms/step - loss: 238316.2031 - val_loss: 215904.1406\n",
      "Epoch 49/100\n",
      "312/312 [==============================] - 1s 3ms/step - loss: 238508.2031 - val_loss: 217563.5000\n",
      "Epoch 50/100\n",
      "312/312 [==============================] - 1s 2ms/step - loss: 237832.8594 - val_loss: 216765.0938\n",
      "Epoch 51/100\n",
      "312/312 [==============================] - 1s 2ms/step - loss: 238236.5000 - val_loss: 221886.6875\n",
      "Epoch 52/100\n",
      "312/312 [==============================] - 1s 3ms/step - loss: 237802.6875 - val_loss: 219447.2188\n",
      "Epoch 53/100\n",
      "312/312 [==============================] - 1s 2ms/step - loss: 237648.3125 - val_loss: 216366.4844\n",
      "Epoch 54/100\n",
      "312/312 [==============================] - 1s 2ms/step - loss: 237163.4531 - val_loss: 225091.4844\n",
      "Epoch 55/100\n",
      "312/312 [==============================] - 1s 2ms/step - loss: 237607.5781 - val_loss: 222020.1562\n",
      "Epoch 56/100\n",
      "312/312 [==============================] - 1s 2ms/step - loss: 237390.1562 - val_loss: 215845.9375\n",
      "Epoch 57/100\n",
      "312/312 [==============================] - 1s 2ms/step - loss: 236863.6094 - val_loss: 217396.9844\n",
      "Epoch 58/100\n",
      "312/312 [==============================] - 1s 2ms/step - loss: 236498.9219 - val_loss: 217338.7812\n",
      "Epoch 59/100\n",
      "312/312 [==============================] - 1s 2ms/step - loss: 236080.2812 - val_loss: 216962.9062\n",
      "Epoch 60/100\n",
      "312/312 [==============================] - 1s 2ms/step - loss: 236057.1875 - val_loss: 218045.8906\n",
      "Epoch 61/100\n",
      "312/312 [==============================] - 1s 2ms/step - loss: 235826.0781 - val_loss: 219355.0000\n",
      "Epoch 62/100\n",
      "312/312 [==============================] - 1s 2ms/step - loss: 235461.1562 - val_loss: 217786.8594\n",
      "Epoch 63/100\n",
      "312/312 [==============================] - 1s 2ms/step - loss: 235669.3438 - val_loss: 218295.4531\n",
      "Epoch 64/100\n",
      "312/312 [==============================] - 1s 2ms/step - loss: 235847.0312 - val_loss: 217617.5781\n",
      "Epoch 65/100\n",
      "312/312 [==============================] - 1s 2ms/step - loss: 235347.6719 - val_loss: 219559.2031\n",
      "Epoch 66/100\n",
      "312/312 [==============================] - 1s 2ms/step - loss: 235708.0781 - val_loss: 220652.8281\n",
      "Epoch 67/100\n",
      "312/312 [==============================] - 1s 2ms/step - loss: 236012.9688 - val_loss: 218241.4062\n",
      "Epoch 68/100\n",
      "312/312 [==============================] - 1s 2ms/step - loss: 234862.2344 - val_loss: 221619.5938\n",
      "Epoch 69/100\n",
      "312/312 [==============================] - 1s 2ms/step - loss: 235160.1094 - val_loss: 217081.8438\n",
      "Epoch 70/100\n",
      "312/312 [==============================] - 1s 2ms/step - loss: 235048.8125 - val_loss: 220820.0312\n",
      "Epoch 71/100\n",
      "312/312 [==============================] - 1s 2ms/step - loss: 234768.2812 - val_loss: 216504.1250\n",
      "Epoch 72/100\n",
      "312/312 [==============================] - 1s 2ms/step - loss: 234647.7344 - val_loss: 217730.2344\n",
      "Epoch 73/100\n",
      "312/312 [==============================] - 1s 2ms/step - loss: 234736.2344 - val_loss: 215938.9219\n",
      "Epoch 74/100\n"
     ]
    },
    {
     "name": "stdout",
     "output_type": "stream",
     "text": [
      "312/312 [==============================] - 1s 2ms/step - loss: 234304.8438 - val_loss: 215354.7344\n",
      "Epoch 75/100\n",
      "312/312 [==============================] - 1s 2ms/step - loss: 234164.9844 - val_loss: 221960.5156\n",
      "Epoch 76/100\n",
      "312/312 [==============================] - 1s 2ms/step - loss: 234354.1562 - val_loss: 217995.9844\n",
      "Epoch 77/100\n",
      "312/312 [==============================] - 1s 2ms/step - loss: 234488.9062 - val_loss: 218325.8906\n",
      "Epoch 78/100\n",
      "312/312 [==============================] - 1s 3ms/step - loss: 233407.2344 - val_loss: 216950.6562\n",
      "Epoch 79/100\n",
      "312/312 [==============================] - 1s 3ms/step - loss: 233611.3281 - val_loss: 217479.1875\n",
      "Epoch 80/100\n",
      "312/312 [==============================] - 1s 2ms/step - loss: 233581.6094 - val_loss: 215795.7344\n",
      "Epoch 81/100\n",
      "312/312 [==============================] - 1s 2ms/step - loss: 234604.1719 - val_loss: 216016.5312\n",
      "Epoch 82/100\n",
      "312/312 [==============================] - 1s 2ms/step - loss: 233004.9219 - val_loss: 223107.4375\n",
      "Epoch 83/100\n",
      "312/312 [==============================] - 1s 2ms/step - loss: 232608.0312 - val_loss: 216792.8438\n",
      "Epoch 84/100\n",
      "312/312 [==============================] - 1s 2ms/step - loss: 232810.9219 - val_loss: 218938.4531\n",
      "Epoch 85/100\n",
      "312/312 [==============================] - 1s 2ms/step - loss: 233081.8906 - val_loss: 216767.4844\n",
      "Epoch 86/100\n",
      "312/312 [==============================] - 1s 2ms/step - loss: 232359.5781 - val_loss: 217063.6562\n",
      "Epoch 87/100\n",
      "312/312 [==============================] - 1s 2ms/step - loss: 232391.5469 - val_loss: 219660.1406\n",
      "Epoch 88/100\n",
      "312/312 [==============================] - 1s 2ms/step - loss: 232424.6562 - val_loss: 216705.2812\n",
      "Epoch 89/100\n",
      "312/312 [==============================] - 1s 2ms/step - loss: 232991.5938 - val_loss: 222239.4531\n",
      "Epoch 90/100\n",
      "312/312 [==============================] - 1s 2ms/step - loss: 232336.0469 - val_loss: 221104.3906\n",
      "Epoch 91/100\n",
      "312/312 [==============================] - 1s 2ms/step - loss: 232641.8750 - val_loss: 218322.6406\n",
      "Epoch 92/100\n",
      "312/312 [==============================] - 1s 2ms/step - loss: 231605.5156 - val_loss: 214437.3281\n",
      "Epoch 93/100\n",
      "312/312 [==============================] - 1s 2ms/step - loss: 231776.2031 - val_loss: 217935.6562\n",
      "Epoch 94/100\n",
      "312/312 [==============================] - 1s 2ms/step - loss: 231755.9219 - val_loss: 220789.1719\n",
      "Epoch 95/100\n",
      "312/312 [==============================] - 1s 2ms/step - loss: 231736.9688 - val_loss: 212666.0156\n",
      "Epoch 96/100\n",
      "312/312 [==============================] - 1s 2ms/step - loss: 231452.2188 - val_loss: 216082.8750\n",
      "Epoch 97/100\n",
      "312/312 [==============================] - 1s 2ms/step - loss: 231293.2031 - val_loss: 214937.9219\n",
      "Epoch 98/100\n",
      "312/312 [==============================] - 1s 2ms/step - loss: 231198.4531 - val_loss: 218265.6250\n",
      "Epoch 99/100\n",
      "312/312 [==============================] - 1s 2ms/step - loss: 230771.9531 - val_loss: 216832.0469\n",
      "Epoch 100/100\n",
      "312/312 [==============================] - 1s 2ms/step - loss: 230665.3438 - val_loss: 215394.9844\n"
     ]
    },
    {
     "data": {
      "text/plain": [
       "<keras.callbacks.History at 0x1f17bcd51f0>"
      ]
     },
     "execution_count": 54,
     "metadata": {},
     "output_type": "execute_result"
    }
   ],
   "source": [
    "# Train the model\n",
    "model.fit(x_train, y_train, batch_size=32, epochs=100, validation_split=0.2)"
   ]
  },
  {
   "cell_type": "code",
   "execution_count": 13,
   "id": "889f8cfc",
   "metadata": {},
   "outputs": [],
   "source": [
    "# save the trained model\n",
    "model.save('MLP_prediction_model.h5')"
   ]
  },
  {
   "cell_type": "code",
   "execution_count": 55,
   "id": "e059daed",
   "metadata": {},
   "outputs": [],
   "source": [
    "test_df = pd.read_csv('data/cleaned_test.csv')\n",
    "\n",
    "x_test = test_df[columns].dropna().values"
   ]
  },
  {
   "cell_type": "code",
   "execution_count": 45,
   "id": "bf2b4864",
   "metadata": {},
   "outputs": [],
   "source": [
    "#one-hot encoded string to tensor\n",
    "data = test_df['topic_encoded'].dropna()\n",
    "\n",
    "# Function to remove square brackets and convert string to list of integers\n",
    "def preprocess_data(data):\n",
    "    data = data.strip('[]')\n",
    "    data_list = list(map(int, data))\n",
    "    return data_list\n",
    "\n",
    "# Apply preprocessing to each element in the column\n",
    "data_list = data.apply(preprocess_data)\n",
    "\n",
    "# Convert list of lists to numpy array\n",
    "data_np = np.array(data_list.tolist())\n",
    "\n",
    "# Convert numpy array to tensor\n",
    "data_tensor = tf.convert_to_tensor(data_np, dtype=tf.float32)\n",
    "\n",
    "# Reshape tensor to desired shape (e.g., (num_samples, num_features) in this case)\n",
    "data_tensor = tf.reshape(data_tensor, (data_np.shape[0], -1))"
   ]
  },
  {
   "cell_type": "code",
   "execution_count": 11,
   "id": "b2d61570",
   "metadata": {},
   "outputs": [],
   "source": [
    "# Load your text data\n",
    "data = test_df['topic'].dropna()\n",
    "\n",
    "# Convert the text data into list of sentences, where each sentence is a list of words\n",
    "sentences = [sent.split() for sent in data]\n",
    "\n",
    "# Train a Word2Vec model on your text data\n",
    "embedding_dim = 100  # Specify the embedding dimension\n",
    "model_test = Word2Vec(sentences, vector_size=embedding_dim, window=5, min_count=1, workers=4)\n",
    "\n",
    "# Get the word embeddings for your topics\n",
    "topic_embeddings = []\n",
    "for topic in data:\n",
    "    topic_words = topic.split()  # Split the topic text into individual words\n",
    "    topic_vector = np.zeros(embedding_dim)  # Initialize a vector of zeros for the topic\n",
    "    num_words = 0  # Keep track of the number of words in the topic\n",
    "\n",
    "    # Iterate over each word in the topic and add its embedding to the topic vector\n",
    "    for word in topic_words:\n",
    "        if word in model_test.wv:\n",
    "            topic_vector += model_test.wv[word]\n",
    "            num_words += 1\n",
    "\n",
    "    # Average the word embeddings to get the final topic embedding\n",
    "    if num_words > 0:\n",
    "        topic_vector /= num_words\n",
    "\n",
    "    topic_embeddings.append(topic_vector)\n",
    "\n",
    "# Convert the topic embeddings list into a numpy array\n",
    "topic_embeddings = np.array(topic_embeddings)"
   ]
  },
  {
   "cell_type": "code",
   "execution_count": 56,
   "id": "350ee676",
   "metadata": {},
   "outputs": [],
   "source": [
    "test_arr_df = pd.DataFrame(test_topic_encoded, columns=['topic encoded'])"
   ]
  },
  {
   "cell_type": "code",
   "execution_count": 57,
   "id": "3a14cd5a",
   "metadata": {},
   "outputs": [],
   "source": [
    "# Concatenate the 'topic_encoded' tensor with the other input features\n",
    "x_test = tf.concat([x_test, test_arr_df], axis=1)"
   ]
  },
  {
   "cell_type": "code",
   "execution_count": 58,
   "id": "c9f2cc93",
   "metadata": {},
   "outputs": [
    {
     "name": "stdout",
     "output_type": "stream",
     "text": [
      "122/122 [==============================] - 0s 975us/step\n"
     ]
    }
   ],
   "source": [
    "y_pred = model.predict(x_test)"
   ]
  },
  {
   "cell_type": "code",
   "execution_count": 63,
   "id": "8a6cde5c",
   "metadata": {},
   "outputs": [
    {
     "data": {
      "text/plain": [
       "array([834.61005], dtype=float32)"
      ]
     },
     "execution_count": 63,
     "metadata": {},
     "output_type": "execute_result"
    }
   ],
   "source": [
    "y_pred[0]"
   ]
  },
  {
   "cell_type": "code",
   "execution_count": null,
   "id": "40e8ec44",
   "metadata": {},
   "outputs": [],
   "source": []
  }
 ],
 "metadata": {
  "kernelspec": {
   "display_name": "Python 3 (ipykernel)",
   "language": "python",
   "name": "python3"
  },
  "language_info": {
   "codemirror_mode": {
    "name": "ipython",
    "version": 3
   },
   "file_extension": ".py",
   "mimetype": "text/x-python",
   "name": "python",
   "nbconvert_exporter": "python",
   "pygments_lexer": "ipython3",
   "version": "3.9.12"
  }
 },
 "nbformat": 4,
 "nbformat_minor": 5
}
